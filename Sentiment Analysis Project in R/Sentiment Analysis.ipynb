{
 "cells": [
  {
   "cell_type": "markdown",
   "id": "73964b93-5a35-45b7-ad9f-10f49d9ac88d",
   "metadata": {},
   "source": [
    "# Sentiment Analysis: R Data Science Project"
   ]
  },
  {
   "cell_type": "markdown",
   "id": "1d291194-dd1f-4f6f-983b-1fe7b7795c99",
   "metadata": {},
   "source": [
    "The aim of this project is to build a sentiment analysis model which will allow us to categorize words based on their sentiments, that is whether they are positive, negative and also the magnitude of it."
   ]
  },
  {
   "cell_type": "markdown",
   "id": "99dd8415-da50-4ce4-8494-b01f1e3cfe1a",
   "metadata": {},
   "source": [
    "## Overview of Sentiment Analysis\n",
    "\n",
    "*Sentiment Analysis* is a process of extracting opinions that have different polarities (positive, negative or neutral). It is also known as opinion mining and polarity detection. With the help of sentiment analysis, we can find out the nature of opinion that is reflected in documents, websites, social media feed, etc. Sentiment Analysis is a type of classification where the data is classified into different classes. These classes can be binary in nature (positive or negative) or, they can have multiple classes (happy, sad, angry, etc.)."
   ]
  },
  {
   "cell_type": "markdown",
   "id": "20c79c91-4d80-4273-9eed-b36b3de50392",
   "metadata": {},
   "source": [
    "## Developing the Sentiment Analysis Model in R\n",
    "\n",
    "We will carry out sentiment analysis with R in this project. The dataset that we will use will be provided by the R package `janeaustenR`.\n",
    "\n",
    "In order to build our project on sentiment analysis, we will make use of the `tidytext` package that comprises of sentiment lexicons that are present in the dataset `sentiments`."
   ]
  },
  {
   "cell_type": "code",
   "execution_count": 1,
   "id": "55056aa1-d572-4752-9915-1dd7763ae986",
   "metadata": {},
   "outputs": [
    {
     "name": "stderr",
     "output_type": "stream",
     "text": [
      "-- \u001b[1mAttaching core tidyverse packages\u001b[22m ------------------------ tidyverse 2.0.0 --\n",
      "\u001b[32mv\u001b[39m \u001b[34mdplyr    \u001b[39m 1.1.4     \u001b[32mv\u001b[39m \u001b[34mpurrr    \u001b[39m 1.0.2\n",
      "\u001b[32mv\u001b[39m \u001b[34mforcats  \u001b[39m 1.0.0     \u001b[32mv\u001b[39m \u001b[34mreadr    \u001b[39m 2.1.5\n",
      "\u001b[32mv\u001b[39m \u001b[34mggplot2  \u001b[39m 3.4.2     \u001b[32mv\u001b[39m \u001b[34mtibble   \u001b[39m 3.2.1\n",
      "\u001b[32mv\u001b[39m \u001b[34mlubridate\u001b[39m 1.9.3     \u001b[32mv\u001b[39m \u001b[34mtidyr    \u001b[39m 1.3.1\n",
      "-- \u001b[1mConflicts\u001b[22m ------------------------------------------ tidyverse_conflicts() --\n",
      "\u001b[31mx\u001b[39m \u001b[34mdplyr\u001b[39m::\u001b[32mfilter()\u001b[39m masks \u001b[34mstats\u001b[39m::filter()\n",
      "\u001b[31mx\u001b[39m \u001b[34mdplyr\u001b[39m::\u001b[32mlag()\u001b[39m    masks \u001b[34mstats\u001b[39m::lag()\n",
      "\u001b[36mi\u001b[39m Use the conflicted package (\u001b[3m\u001b[34m<http://conflicted.r-lib.org/>\u001b[39m\u001b[23m) to force all conflicts to become errors\n"
     ]
    }
   ],
   "source": [
    "# Load required libraries\n",
    "library(tidytext)\n",
    "library(janeaustenr)\n",
    "library(stringr)\n",
    "library(tidyverse)"
   ]
  },
  {
   "cell_type": "markdown",
   "id": "a2d363dd-c4ce-42d2-81de-9bbf5635a3d7",
   "metadata": {},
   "source": [
    "We will make use of three general purpose lexicons like –\n",
    "\n",
    "- AFINN\n",
    "- bing\n",
    "- nrc\n",
    "\n",
    "These three lexicons make use of unigrams. Unigrams are a type of n-gram model that consists of a sequence of 1 item, that is, a word collected from a given textual data. The `AFINN` lexicon model scores the words in a range from -5 to 5. The `bing` lexicon model on the other hand, classifies the sentiment into a binary category of negative or positive. The `nrc` lexicon categorizes words in a binary fashion (“yes”/“no”) into categories of positive, negative, anger, anticipation, disgust, fear, joy, sadness, surprise, and trust. In this project, we will make use of the bing lexicons to extract the sentiments out of our data. We can retrieve these lexicons using the `get_sentiments()` function."
   ]
  },
  {
   "cell_type": "code",
   "execution_count": 2,
   "id": "ef559d99-354f-4e1d-9b23-e691755a6dae",
   "metadata": {},
   "outputs": [
    {
     "data": {
      "text/html": [
       "<table class=\"dataframe\">\n",
       "<caption>A tibble: 6 × 2</caption>\n",
       "<thead>\n",
       "\t<tr><th scope=col>word</th><th scope=col>sentiment</th></tr>\n",
       "\t<tr><th scope=col>&lt;chr&gt;</th><th scope=col>&lt;chr&gt;</th></tr>\n",
       "</thead>\n",
       "<tbody>\n",
       "\t<tr><td>2-faces   </td><td>negative</td></tr>\n",
       "\t<tr><td>abnormal  </td><td>negative</td></tr>\n",
       "\t<tr><td>abolish   </td><td>negative</td></tr>\n",
       "\t<tr><td>abominable</td><td>negative</td></tr>\n",
       "\t<tr><td>abominably</td><td>negative</td></tr>\n",
       "\t<tr><td>abominate </td><td>negative</td></tr>\n",
       "</tbody>\n",
       "</table>\n"
      ],
      "text/latex": [
       "A tibble: 6 × 2\n",
       "\\begin{tabular}{ll}\n",
       " word & sentiment\\\\\n",
       " <chr> & <chr>\\\\\n",
       "\\hline\n",
       "\t 2-faces    & negative\\\\\n",
       "\t abnormal   & negative\\\\\n",
       "\t abolish    & negative\\\\\n",
       "\t abominable & negative\\\\\n",
       "\t abominably & negative\\\\\n",
       "\t abominate  & negative\\\\\n",
       "\\end{tabular}\n"
      ],
      "text/markdown": [
       "\n",
       "A tibble: 6 × 2\n",
       "\n",
       "| word &lt;chr&gt; | sentiment &lt;chr&gt; |\n",
       "|---|---|\n",
       "| 2-faces    | negative |\n",
       "| abnormal   | negative |\n",
       "| abolish    | negative |\n",
       "| abominable | negative |\n",
       "| abominably | negative |\n",
       "| abominate  | negative |\n",
       "\n"
      ],
      "text/plain": [
       "  word       sentiment\n",
       "1 2-faces    negative \n",
       "2 abnormal   negative \n",
       "3 abolish    negative \n",
       "4 abominable negative \n",
       "5 abominably negative \n",
       "6 abominate  negative "
      ]
     },
     "metadata": {},
     "output_type": "display_data"
    }
   ],
   "source": [
    "head(get_sentiments(\"bing\"))"
   ]
  },
  {
   "cell_type": "markdown",
   "id": "378f3014-12c6-427e-b0d9-b36f5723946d",
   "metadata": {},
   "source": [
    "## Performing Sentiment Analysis with Inner Join\n",
    "\n",
    "The `janeaustenr` package will provide us with the textual data in the form of books authored by the novelist Jane Austen. `Tidytext` will allow us to perform efficient text analysis on our data. We will convert the text of our books into a tidy format using `unnest_tokens()` function."
   ]
  },
  {
   "cell_type": "code",
   "execution_count": 3,
   "id": "7112f565-2d0b-40c5-a016-b0be4f8152b0",
   "metadata": {},
   "outputs": [
    {
     "data": {
      "text/html": [
       "<table class=\"dataframe\">\n",
       "<caption>A tibble: 6 × 4</caption>\n",
       "<thead>\n",
       "\t<tr><th scope=col>book</th><th scope=col>linenumber</th><th scope=col>chapter</th><th scope=col>word</th></tr>\n",
       "\t<tr><th scope=col>&lt;fct&gt;</th><th scope=col>&lt;int&gt;</th><th scope=col>&lt;int&gt;</th><th scope=col>&lt;chr&gt;</th></tr>\n",
       "</thead>\n",
       "<tbody>\n",
       "\t<tr><td>Sense &amp; Sensibility</td><td>1</td><td>0</td><td><span style=white-space:pre-wrap>sense      </span></td></tr>\n",
       "\t<tr><td>Sense &amp; Sensibility</td><td>1</td><td>0</td><td><span style=white-space:pre-wrap>and        </span></td></tr>\n",
       "\t<tr><td>Sense &amp; Sensibility</td><td>1</td><td>0</td><td>sensibility</td></tr>\n",
       "\t<tr><td>Sense &amp; Sensibility</td><td>3</td><td>0</td><td><span style=white-space:pre-wrap>by         </span></td></tr>\n",
       "\t<tr><td>Sense &amp; Sensibility</td><td>3</td><td>0</td><td><span style=white-space:pre-wrap>jane       </span></td></tr>\n",
       "\t<tr><td>Sense &amp; Sensibility</td><td>3</td><td>0</td><td><span style=white-space:pre-wrap>austen     </span></td></tr>\n",
       "</tbody>\n",
       "</table>\n"
      ],
      "text/latex": [
       "A tibble: 6 × 4\n",
       "\\begin{tabular}{llll}\n",
       " book & linenumber & chapter & word\\\\\n",
       " <fct> & <int> & <int> & <chr>\\\\\n",
       "\\hline\n",
       "\t Sense \\& Sensibility & 1 & 0 & sense      \\\\\n",
       "\t Sense \\& Sensibility & 1 & 0 & and        \\\\\n",
       "\t Sense \\& Sensibility & 1 & 0 & sensibility\\\\\n",
       "\t Sense \\& Sensibility & 3 & 0 & by         \\\\\n",
       "\t Sense \\& Sensibility & 3 & 0 & jane       \\\\\n",
       "\t Sense \\& Sensibility & 3 & 0 & austen     \\\\\n",
       "\\end{tabular}\n"
      ],
      "text/markdown": [
       "\n",
       "A tibble: 6 × 4\n",
       "\n",
       "| book &lt;fct&gt; | linenumber &lt;int&gt; | chapter &lt;int&gt; | word &lt;chr&gt; |\n",
       "|---|---|---|---|\n",
       "| Sense &amp; Sensibility | 1 | 0 | sense       |\n",
       "| Sense &amp; Sensibility | 1 | 0 | and         |\n",
       "| Sense &amp; Sensibility | 1 | 0 | sensibility |\n",
       "| Sense &amp; Sensibility | 3 | 0 | by          |\n",
       "| Sense &amp; Sensibility | 3 | 0 | jane        |\n",
       "| Sense &amp; Sensibility | 3 | 0 | austen      |\n",
       "\n"
      ],
      "text/plain": [
       "  book                linenumber chapter word       \n",
       "1 Sense & Sensibility 1          0       sense      \n",
       "2 Sense & Sensibility 1          0       and        \n",
       "3 Sense & Sensibility 1          0       sensibility\n",
       "4 Sense & Sensibility 3          0       by         \n",
       "5 Sense & Sensibility 3          0       jane       \n",
       "6 Sense & Sensibility 3          0       austen     "
      ]
     },
     "metadata": {},
     "output_type": "display_data"
    }
   ],
   "source": [
    "tidy_books <- austen_books() %>%\n",
    "group_by(book) %>%\n",
    "mutate(linenumber = row_number(),\n",
    "      chapter = cumsum(str_detect(text, regex(\"^chapter [\\\\divxlc]\", ignore_case = TRUE)))\n",
    "       ) %>%\n",
    "ungroup() %>%\n",
    "unnest_tokens(word, text)\n",
    "\n",
    "head(tidy_books)"
   ]
  },
  {
   "cell_type": "markdown",
   "id": "5dfd27dd-1790-4327-97b8-7e0b93ab04a2",
   "metadata": {},
   "source": [
    "We have performed the tidy operation on our text such that each row contains a single word. We will now make use of the “bing” lexicon to implement `filter()` over the words that correspond to a positive sentiment. We will use the book **Emma** and derive its words to implement our sentiment analysis model."
   ]
  },
  {
   "cell_type": "code",
   "execution_count": 4,
   "id": "e7872e60-626a-4c3a-bd98-27e0e2835c32",
   "metadata": {
    "scrolled": true
   },
   "outputs": [
    {
     "name": "stderr",
     "output_type": "stream",
     "text": [
      "\u001b[1m\u001b[22mJoining with `by = join_by(word)`\n"
     ]
    },
    {
     "data": {
      "text/html": [
       "<table class=\"dataframe\">\n",
       "<caption>A tibble: 668 × 2</caption>\n",
       "<thead>\n",
       "\t<tr><th scope=col>word</th><th scope=col>n</th></tr>\n",
       "\t<tr><th scope=col>&lt;chr&gt;</th><th scope=col>&lt;int&gt;</th></tr>\n",
       "</thead>\n",
       "<tbody>\n",
       "\t<tr><td>well     </td><td>401</td></tr>\n",
       "\t<tr><td>good     </td><td>359</td></tr>\n",
       "\t<tr><td>great    </td><td>264</td></tr>\n",
       "\t<tr><td>like     </td><td>200</td></tr>\n",
       "\t<tr><td>better   </td><td>173</td></tr>\n",
       "\t<tr><td>enough   </td><td>129</td></tr>\n",
       "\t<tr><td>happy    </td><td>125</td></tr>\n",
       "\t<tr><td>love     </td><td>117</td></tr>\n",
       "\t<tr><td>pleasure </td><td>115</td></tr>\n",
       "\t<tr><td>right    </td><td> 92</td></tr>\n",
       "\t<tr><td>best     </td><td> 85</td></tr>\n",
       "\t<tr><td>happiness</td><td> 76</td></tr>\n",
       "\t<tr><td>pretty   </td><td> 68</td></tr>\n",
       "\t<tr><td>perfectly</td><td> 67</td></tr>\n",
       "\t<tr><td>ready    </td><td> 66</td></tr>\n",
       "\t<tr><td>comfort  </td><td> 65</td></tr>\n",
       "\t<tr><td>assure   </td><td> 59</td></tr>\n",
       "\t<tr><td>superior </td><td> 59</td></tr>\n",
       "\t<tr><td>satisfied</td><td> 52</td></tr>\n",
       "\t<tr><td>affection</td><td> 50</td></tr>\n",
       "\t<tr><td>agreeable</td><td> 50</td></tr>\n",
       "\t<tr><td>glad     </td><td> 50</td></tr>\n",
       "\t<tr><td>wonder   </td><td> 49</td></tr>\n",
       "\t<tr><td>pleased  </td><td> 47</td></tr>\n",
       "\t<tr><td>smile    </td><td> 44</td></tr>\n",
       "\t<tr><td>strong   </td><td> 44</td></tr>\n",
       "\t<tr><td>regard   </td><td> 43</td></tr>\n",
       "\t<tr><td>respect  </td><td> 43</td></tr>\n",
       "\t<tr><td>fine     </td><td> 42</td></tr>\n",
       "\t<tr><td>proper   </td><td> 42</td></tr>\n",
       "\t<tr><td>...</td><td>...</td></tr>\n",
       "\t<tr><td>spontaneous   </td><td>1</td></tr>\n",
       "\t<tr><td>steadiest     </td><td>1</td></tr>\n",
       "\t<tr><td>stimulate     </td><td>1</td></tr>\n",
       "\t<tr><td>stimulative   </td><td>1</td></tr>\n",
       "\t<tr><td>strikingly    </td><td>1</td></tr>\n",
       "\t<tr><td>sublime       </td><td>1</td></tr>\n",
       "\t<tr><td>suffice       </td><td>1</td></tr>\n",
       "\t<tr><td>sweeping      </td><td>1</td></tr>\n",
       "\t<tr><td>tempting      </td><td>1</td></tr>\n",
       "\t<tr><td>tenderly      </td><td>1</td></tr>\n",
       "\t<tr><td>thinner       </td><td>1</td></tr>\n",
       "\t<tr><td>thoughtfully  </td><td>1</td></tr>\n",
       "\t<tr><td>thrive        </td><td>1</td></tr>\n",
       "\t<tr><td>thriving      </td><td>1</td></tr>\n",
       "\t<tr><td>tidy          </td><td>1</td></tr>\n",
       "\t<tr><td>triumphant    </td><td>1</td></tr>\n",
       "\t<tr><td>triumphantly  </td><td>1</td></tr>\n",
       "\t<tr><td>unbiased      </td><td>1</td></tr>\n",
       "\t<tr><td>undaunted     </td><td>1</td></tr>\n",
       "\t<tr><td>unequivocal   </td><td>1</td></tr>\n",
       "\t<tr><td>unequivocally </td><td>1</td></tr>\n",
       "\t<tr><td>unquestionably</td><td>1</td></tr>\n",
       "\t<tr><td>unselfish     </td><td>1</td></tr>\n",
       "\t<tr><td>useable       </td><td>1</td></tr>\n",
       "\t<tr><td>vouch         </td><td>1</td></tr>\n",
       "\t<tr><td>win           </td><td>1</td></tr>\n",
       "\t<tr><td>winning       </td><td>1</td></tr>\n",
       "\t<tr><td>wins          </td><td>1</td></tr>\n",
       "\t<tr><td>wisely        </td><td>1</td></tr>\n",
       "\t<tr><td>works         </td><td>1</td></tr>\n",
       "</tbody>\n",
       "</table>\n"
      ],
      "text/latex": [
       "A tibble: 668 × 2\n",
       "\\begin{tabular}{ll}\n",
       " word & n\\\\\n",
       " <chr> & <int>\\\\\n",
       "\\hline\n",
       "\t well      & 401\\\\\n",
       "\t good      & 359\\\\\n",
       "\t great     & 264\\\\\n",
       "\t like      & 200\\\\\n",
       "\t better    & 173\\\\\n",
       "\t enough    & 129\\\\\n",
       "\t happy     & 125\\\\\n",
       "\t love      & 117\\\\\n",
       "\t pleasure  & 115\\\\\n",
       "\t right     &  92\\\\\n",
       "\t best      &  85\\\\\n",
       "\t happiness &  76\\\\\n",
       "\t pretty    &  68\\\\\n",
       "\t perfectly &  67\\\\\n",
       "\t ready     &  66\\\\\n",
       "\t comfort   &  65\\\\\n",
       "\t assure    &  59\\\\\n",
       "\t superior  &  59\\\\\n",
       "\t satisfied &  52\\\\\n",
       "\t affection &  50\\\\\n",
       "\t agreeable &  50\\\\\n",
       "\t glad      &  50\\\\\n",
       "\t wonder    &  49\\\\\n",
       "\t pleased   &  47\\\\\n",
       "\t smile     &  44\\\\\n",
       "\t strong    &  44\\\\\n",
       "\t regard    &  43\\\\\n",
       "\t respect   &  43\\\\\n",
       "\t fine      &  42\\\\\n",
       "\t proper    &  42\\\\\n",
       "\t ... & ...\\\\\n",
       "\t spontaneous    & 1\\\\\n",
       "\t steadiest      & 1\\\\\n",
       "\t stimulate      & 1\\\\\n",
       "\t stimulative    & 1\\\\\n",
       "\t strikingly     & 1\\\\\n",
       "\t sublime        & 1\\\\\n",
       "\t suffice        & 1\\\\\n",
       "\t sweeping       & 1\\\\\n",
       "\t tempting       & 1\\\\\n",
       "\t tenderly       & 1\\\\\n",
       "\t thinner        & 1\\\\\n",
       "\t thoughtfully   & 1\\\\\n",
       "\t thrive         & 1\\\\\n",
       "\t thriving       & 1\\\\\n",
       "\t tidy           & 1\\\\\n",
       "\t triumphant     & 1\\\\\n",
       "\t triumphantly   & 1\\\\\n",
       "\t unbiased       & 1\\\\\n",
       "\t undaunted      & 1\\\\\n",
       "\t unequivocal    & 1\\\\\n",
       "\t unequivocally  & 1\\\\\n",
       "\t unquestionably & 1\\\\\n",
       "\t unselfish      & 1\\\\\n",
       "\t useable        & 1\\\\\n",
       "\t vouch          & 1\\\\\n",
       "\t win            & 1\\\\\n",
       "\t winning        & 1\\\\\n",
       "\t wins           & 1\\\\\n",
       "\t wisely         & 1\\\\\n",
       "\t works          & 1\\\\\n",
       "\\end{tabular}\n"
      ],
      "text/markdown": [
       "\n",
       "A tibble: 668 × 2\n",
       "\n",
       "| word &lt;chr&gt; | n &lt;int&gt; |\n",
       "|---|---|\n",
       "| well      | 401 |\n",
       "| good      | 359 |\n",
       "| great     | 264 |\n",
       "| like      | 200 |\n",
       "| better    | 173 |\n",
       "| enough    | 129 |\n",
       "| happy     | 125 |\n",
       "| love      | 117 |\n",
       "| pleasure  | 115 |\n",
       "| right     |  92 |\n",
       "| best      |  85 |\n",
       "| happiness |  76 |\n",
       "| pretty    |  68 |\n",
       "| perfectly |  67 |\n",
       "| ready     |  66 |\n",
       "| comfort   |  65 |\n",
       "| assure    |  59 |\n",
       "| superior  |  59 |\n",
       "| satisfied |  52 |\n",
       "| affection |  50 |\n",
       "| agreeable |  50 |\n",
       "| glad      |  50 |\n",
       "| wonder    |  49 |\n",
       "| pleased   |  47 |\n",
       "| smile     |  44 |\n",
       "| strong    |  44 |\n",
       "| regard    |  43 |\n",
       "| respect   |  43 |\n",
       "| fine      |  42 |\n",
       "| proper    |  42 |\n",
       "| ... | ... |\n",
       "| spontaneous    | 1 |\n",
       "| steadiest      | 1 |\n",
       "| stimulate      | 1 |\n",
       "| stimulative    | 1 |\n",
       "| strikingly     | 1 |\n",
       "| sublime        | 1 |\n",
       "| suffice        | 1 |\n",
       "| sweeping       | 1 |\n",
       "| tempting       | 1 |\n",
       "| tenderly       | 1 |\n",
       "| thinner        | 1 |\n",
       "| thoughtfully   | 1 |\n",
       "| thrive         | 1 |\n",
       "| thriving       | 1 |\n",
       "| tidy           | 1 |\n",
       "| triumphant     | 1 |\n",
       "| triumphantly   | 1 |\n",
       "| unbiased       | 1 |\n",
       "| undaunted      | 1 |\n",
       "| unequivocal    | 1 |\n",
       "| unequivocally  | 1 |\n",
       "| unquestionably | 1 |\n",
       "| unselfish      | 1 |\n",
       "| useable        | 1 |\n",
       "| vouch          | 1 |\n",
       "| win            | 1 |\n",
       "| winning        | 1 |\n",
       "| wins           | 1 |\n",
       "| wisely         | 1 |\n",
       "| works          | 1 |\n",
       "\n"
      ],
      "text/plain": [
       "    word           n  \n",
       "1   well           401\n",
       "2   good           359\n",
       "3   great          264\n",
       "4   like           200\n",
       "5   better         173\n",
       "6   enough         129\n",
       "7   happy          125\n",
       "8   love           117\n",
       "9   pleasure       115\n",
       "10  right           92\n",
       "11  best            85\n",
       "12  happiness       76\n",
       "13  pretty          68\n",
       "14  perfectly       67\n",
       "15  ready           66\n",
       "16  comfort         65\n",
       "17  assure          59\n",
       "18  superior        59\n",
       "19  satisfied       52\n",
       "20  affection       50\n",
       "21  agreeable       50\n",
       "22  glad            50\n",
       "23  wonder          49\n",
       "24  pleased         47\n",
       "25  smile           44\n",
       "26  strong          44\n",
       "27  regard          43\n",
       "28  respect         43\n",
       "29  fine            42\n",
       "30  proper          42\n",
       "... ...            ...\n",
       "639 spontaneous    1  \n",
       "640 steadiest      1  \n",
       "641 stimulate      1  \n",
       "642 stimulative    1  \n",
       "643 strikingly     1  \n",
       "644 sublime        1  \n",
       "645 suffice        1  \n",
       "646 sweeping       1  \n",
       "647 tempting       1  \n",
       "648 tenderly       1  \n",
       "649 thinner        1  \n",
       "650 thoughtfully   1  \n",
       "651 thrive         1  \n",
       "652 thriving       1  \n",
       "653 tidy           1  \n",
       "654 triumphant     1  \n",
       "655 triumphantly   1  \n",
       "656 unbiased       1  \n",
       "657 undaunted      1  \n",
       "658 unequivocal    1  \n",
       "659 unequivocally  1  \n",
       "660 unquestionably 1  \n",
       "661 unselfish      1  \n",
       "662 useable        1  \n",
       "663 vouch          1  \n",
       "664 win            1  \n",
       "665 winning        1  \n",
       "666 wins           1  \n",
       "667 wisely         1  \n",
       "668 works          1  "
      ]
     },
     "metadata": {},
     "output_type": "display_data"
    }
   ],
   "source": [
    "# Most common positive words in the book Emma\n",
    "positive_senti <- get_sentiments(\"bing\") %>%\n",
    "filter(sentiment == \"positive\")\n",
    "\n",
    "tidy_books %>% \n",
    "filter(book == \"Emma\") %>%\n",
    "semi_join(positive_senti) %>%\n",
    "count(word, sort = TRUE)"
   ]
  },
  {
   "cell_type": "markdown",
   "id": "d376469b-687b-496a-b626-fb904b0cd0aa",
   "metadata": {},
   "source": [
    "From our above results, we observe many positive words like “good”, “happy”, “love” etc. \n",
    "\n",
    "We can also examine how sentiment changes throughout each novel. We can do this with just a handful of lines that are mostly `dplyr` functions. First, we find a sentiment score for each word using the **Bing** lexicon and `inner_join()`.\n",
    "\n",
    "Next, we count how many positive and negative words there are in defined sections of each book. We define an `index` here to keep track of which 80-line section of text we are counting the sentiments in; this index (using integer division %/%) counts sections of 80 lines of text.\n",
    "\n",
    "Small sections of text may not have enough words in them to get a good estimate of sentiment while really large sections can wash out narrative structure. For these books, using 80 lines works well, but this can vary depending on individual texts, how long the lines were to start with, etc. We then use `pivot_wider()` so that we have negative and positive sentiment in separate columns, and lastly calculate a *net sentiment* (positive - negative)."
   ]
  },
  {
   "cell_type": "code",
   "execution_count": 5,
   "id": "7ebc3c6a-167e-49ec-af90-b1278b8ea23c",
   "metadata": {
    "scrolled": true
   },
   "outputs": [
    {
     "name": "stderr",
     "output_type": "stream",
     "text": [
      "\u001b[1m\u001b[22mJoining with `by = join_by(word)`\n",
      "Warning message in inner_join(., get_sentiments(\"bing\")):\n",
      "\"\u001b[1m\u001b[22mDetected an unexpected many-to-many relationship between `x` and `y`.\n",
      "\u001b[36mi\u001b[39m Row 435434 of `x` matches multiple rows in `y`.\n",
      "\u001b[36mi\u001b[39m Row 5051 of `y` matches multiple rows in `x`.\n",
      "\u001b[36mi\u001b[39m If a many-to-many relationship is expected, set `relationship =\n",
      "  \"many-to-many\"` to silence this warning.\"\n"
     ]
    },
    {
     "data": {
      "text/html": [
       "<table class=\"dataframe\">\n",
       "<caption>A tibble: 6 × 5</caption>\n",
       "<thead>\n",
       "\t<tr><th scope=col>book</th><th scope=col>index</th><th scope=col>negative</th><th scope=col>positive</th><th scope=col>sentiment</th></tr>\n",
       "\t<tr><th scope=col>&lt;fct&gt;</th><th scope=col>&lt;dbl&gt;</th><th scope=col>&lt;int&gt;</th><th scope=col>&lt;int&gt;</th><th scope=col>&lt;int&gt;</th></tr>\n",
       "</thead>\n",
       "<tbody>\n",
       "\t<tr><td>Sense &amp; Sensibility</td><td>0</td><td>16</td><td>32</td><td>16</td></tr>\n",
       "\t<tr><td>Sense &amp; Sensibility</td><td>1</td><td>19</td><td>53</td><td>34</td></tr>\n",
       "\t<tr><td>Sense &amp; Sensibility</td><td>2</td><td>12</td><td>31</td><td>19</td></tr>\n",
       "\t<tr><td>Sense &amp; Sensibility</td><td>3</td><td>15</td><td>31</td><td>16</td></tr>\n",
       "\t<tr><td>Sense &amp; Sensibility</td><td>4</td><td>16</td><td>34</td><td>18</td></tr>\n",
       "\t<tr><td>Sense &amp; Sensibility</td><td>5</td><td>16</td><td>51</td><td>35</td></tr>\n",
       "</tbody>\n",
       "</table>\n"
      ],
      "text/latex": [
       "A tibble: 6 × 5\n",
       "\\begin{tabular}{lllll}\n",
       " book & index & negative & positive & sentiment\\\\\n",
       " <fct> & <dbl> & <int> & <int> & <int>\\\\\n",
       "\\hline\n",
       "\t Sense \\& Sensibility & 0 & 16 & 32 & 16\\\\\n",
       "\t Sense \\& Sensibility & 1 & 19 & 53 & 34\\\\\n",
       "\t Sense \\& Sensibility & 2 & 12 & 31 & 19\\\\\n",
       "\t Sense \\& Sensibility & 3 & 15 & 31 & 16\\\\\n",
       "\t Sense \\& Sensibility & 4 & 16 & 34 & 18\\\\\n",
       "\t Sense \\& Sensibility & 5 & 16 & 51 & 35\\\\\n",
       "\\end{tabular}\n"
      ],
      "text/markdown": [
       "\n",
       "A tibble: 6 × 5\n",
       "\n",
       "| book &lt;fct&gt; | index &lt;dbl&gt; | negative &lt;int&gt; | positive &lt;int&gt; | sentiment &lt;int&gt; |\n",
       "|---|---|---|---|---|\n",
       "| Sense &amp; Sensibility | 0 | 16 | 32 | 16 |\n",
       "| Sense &amp; Sensibility | 1 | 19 | 53 | 34 |\n",
       "| Sense &amp; Sensibility | 2 | 12 | 31 | 19 |\n",
       "| Sense &amp; Sensibility | 3 | 15 | 31 | 16 |\n",
       "| Sense &amp; Sensibility | 4 | 16 | 34 | 18 |\n",
       "| Sense &amp; Sensibility | 5 | 16 | 51 | 35 |\n",
       "\n"
      ],
      "text/plain": [
       "  book                index negative positive sentiment\n",
       "1 Sense & Sensibility 0     16       32       16       \n",
       "2 Sense & Sensibility 1     19       53       34       \n",
       "3 Sense & Sensibility 2     12       31       19       \n",
       "4 Sense & Sensibility 3     15       31       16       \n",
       "5 Sense & Sensibility 4     16       34       18       \n",
       "6 Sense & Sensibility 5     16       51       35       "
      ]
     },
     "metadata": {},
     "output_type": "display_data"
    }
   ],
   "source": [
    "janeausten_sentiment <- tidy_books %>%\n",
    "inner_join(get_sentiments(\"bing\")) %>% \n",
    "count(book, index = linenumber %/% 80, sentiment) %>%\n",
    "pivot_wider(names_from = sentiment, values_from = n, values_fill = 0) %>%\n",
    "mutate(sentiment = positive - negative)\n",
    "\n",
    "head(janeausten_sentiment)"
   ]
  },
  {
   "cell_type": "markdown",
   "id": "7e88c42c-ab5f-491a-9e76-15645867cc2f",
   "metadata": {},
   "source": [
    "Now we can plot these sentiment scores across the plot trajectory of each novel. Notice that we are plotting against the `index` on the x-axis that keeps track of narrative time in sections of text."
   ]
  },
  {
   "cell_type": "code",
   "execution_count": 6,
   "id": "b7fc5b2b-b28f-4574-a4b3-59221558fc89",
   "metadata": {},
   "outputs": [
    {
     "data": {
      "image/png": "[encoded data removed]",
      "text/plain": [
       "plot without title"
      ]
     },
     "metadata": {
      "image/png": {
       "height": 420,
       "width": 420
      }
     },
     "output_type": "display_data"
    }
   ],
   "source": [
    "library(ggplot2)\n",
    "\n",
    "ggplot(janeausten_sentiment, aes(x = index, y = sentiment, fill = book)) +\n",
    "       geom_col(show.legend = FALSE) +\n",
    "       facet_wrap(~book, ncol = 2, scales = \"free_x\")"
   ]
  },
  {
   "cell_type": "markdown",
   "id": "8a52ba75-43f4-4fbb-9a2e-323f47063b30",
   "metadata": {},
   "source": [
    "We can see above how the plot of each novel changes towards a more positive or negative sentiment over the trajectory of the story.\n",
    "\n",
    "We will now proceed with counting the most common positive and negative words that are present in the novel."
   ]
  },
  {
   "cell_type": "code",
   "execution_count": 7,
   "id": "b794446b-7635-4fd7-9811-4b0e3fc0dda5",
   "metadata": {},
   "outputs": [
    {
     "name": "stderr",
     "output_type": "stream",
     "text": [
      "\u001b[1m\u001b[22mJoining with `by = join_by(word)`\n",
      "Warning message in inner_join(., get_sentiments(\"bing\")):\n",
      "\"\u001b[1m\u001b[22mDetected an unexpected many-to-many relationship between `x` and `y`.\n",
      "\u001b[36mi\u001b[39m Row 435434 of `x` matches multiple rows in `y`.\n",
      "\u001b[36mi\u001b[39m Row 5051 of `y` matches multiple rows in `x`.\n",
      "\u001b[36mi\u001b[39m If a many-to-many relationship is expected, set `relationship =\n",
      "  \"many-to-many\"` to silence this warning.\"\n"
     ]
    },
    {
     "data": {
      "text/html": [
       "<table class=\"dataframe\">\n",
       "<caption>A tibble: 6 × 3</caption>\n",
       "<thead>\n",
       "\t<tr><th scope=col>word</th><th scope=col>sentiment</th><th scope=col>n</th></tr>\n",
       "\t<tr><th scope=col>&lt;chr&gt;</th><th scope=col>&lt;chr&gt;</th><th scope=col>&lt;int&gt;</th></tr>\n",
       "</thead>\n",
       "<tbody>\n",
       "\t<tr><td>miss  </td><td>negative</td><td>1855</td></tr>\n",
       "\t<tr><td>well  </td><td>positive</td><td>1523</td></tr>\n",
       "\t<tr><td>good  </td><td>positive</td><td>1380</td></tr>\n",
       "\t<tr><td>great </td><td>positive</td><td> 981</td></tr>\n",
       "\t<tr><td>like  </td><td>positive</td><td> 725</td></tr>\n",
       "\t<tr><td>better</td><td>positive</td><td> 639</td></tr>\n",
       "</tbody>\n",
       "</table>\n"
      ],
      "text/latex": [
       "A tibble: 6 × 3\n",
       "\\begin{tabular}{lll}\n",
       " word & sentiment & n\\\\\n",
       " <chr> & <chr> & <int>\\\\\n",
       "\\hline\n",
       "\t miss   & negative & 1855\\\\\n",
       "\t well   & positive & 1523\\\\\n",
       "\t good   & positive & 1380\\\\\n",
       "\t great  & positive &  981\\\\\n",
       "\t like   & positive &  725\\\\\n",
       "\t better & positive &  639\\\\\n",
       "\\end{tabular}\n"
      ],
      "text/markdown": [
       "\n",
       "A tibble: 6 × 3\n",
       "\n",
       "| word &lt;chr&gt; | sentiment &lt;chr&gt; | n &lt;int&gt; |\n",
       "|---|---|---|\n",
       "| miss   | negative | 1855 |\n",
       "| well   | positive | 1523 |\n",
       "| good   | positive | 1380 |\n",
       "| great  | positive |  981 |\n",
       "| like   | positive |  725 |\n",
       "| better | positive |  639 |\n",
       "\n"
      ],
      "text/plain": [
       "  word   sentiment n   \n",
       "1 miss   negative  1855\n",
       "2 well   positive  1523\n",
       "3 good   positive  1380\n",
       "4 great  positive   981\n",
       "5 like   positive   725\n",
       "6 better positive   639"
      ]
     },
     "metadata": {},
     "output_type": "display_data"
    }
   ],
   "source": [
    "bing_word_counts <- tidy_books %>%\n",
    "inner_join(get_sentiments(\"bing\")) %>%\n",
    "count(word, sentiment, sort = TRUE)\n",
    "\n",
    "head(bing_word_counts)"
   ]
  },
  {
   "cell_type": "markdown",
   "id": "0329926c-605f-40ac-a50f-5af02f29f3d6",
   "metadata": {},
   "source": [
    "In the next step, we will perform visualization of our sentiment score. We will plot the scores along the axis that is labeled with both positive as well as negative words. We will use `ggplot()` function to visualize our data based on their scores."
   ]
  },
  {
   "cell_type": "code",
   "execution_count": 8,
   "id": "9035b713-456b-4331-bb74-d4e9bcd90cd0",
   "metadata": {},
   "outputs": [
    {
     "data": {
      "image/png": "[encoded data removed]",
      "text/plain": [
       "plot without title"
      ]
     },
     "metadata": {
      "image/png": {
       "height": 420,
       "width": 420
      }
     },
     "output_type": "display_data"
    }
   ],
   "source": [
    "bing_word_counts %>%\n",
    "filter(n > 150) %>%\n",
    "mutate(n = ifelse(sentiment == \"negative\", -n, n)) %>%\n",
    "mutate(word = reorder(word, n)) %>%\n",
    "ggplot(aes(x = n, y = word, fill = sentiment)) +\n",
    "geom_col() +\n",
    "labs( x = \"Sentiment Score\",\n",
    "    title = \"Most Common Word Sentiments\")"
   ]
  },
  {
   "cell_type": "markdown",
   "id": "b61a5142-f905-42d2-aa24-d73d3881ce33",
   "metadata": {},
   "source": [
    "There is an anomaly in the sentiment analysis; the word “miss” is coded as negative but it is used as a title for young, unmarried women in Jane Austen’s works. If appropriate, we could easily add “miss” to a custom stop-words list using `dplyr::bind_rows()`. "
   ]
  },
  {
   "cell_type": "code",
   "execution_count": 9,
   "id": "4de28dd2-d1bb-423d-b6c5-745aa0ba3b7a",
   "metadata": {},
   "outputs": [
    {
     "data": {
      "text/html": [
       "<table class=\"dataframe\">\n",
       "<caption>A tibble: 6 × 2</caption>\n",
       "<thead>\n",
       "\t<tr><th scope=col>word</th><th scope=col>lexicon</th></tr>\n",
       "\t<tr><th scope=col>&lt;chr&gt;</th><th scope=col>&lt;chr&gt;</th></tr>\n",
       "</thead>\n",
       "<tbody>\n",
       "\t<tr><td>miss </td><td>custom</td></tr>\n",
       "\t<tr><td>a    </td><td>SMART </td></tr>\n",
       "\t<tr><td>a's  </td><td>SMART </td></tr>\n",
       "\t<tr><td>able </td><td>SMART </td></tr>\n",
       "\t<tr><td>about</td><td>SMART </td></tr>\n",
       "\t<tr><td>above</td><td>SMART </td></tr>\n",
       "</tbody>\n",
       "</table>\n"
      ],
      "text/latex": [
       "A tibble: 6 × 2\n",
       "\\begin{tabular}{ll}\n",
       " word & lexicon\\\\\n",
       " <chr> & <chr>\\\\\n",
       "\\hline\n",
       "\t miss  & custom\\\\\n",
       "\t a     & SMART \\\\\n",
       "\t a's   & SMART \\\\\n",
       "\t able  & SMART \\\\\n",
       "\t about & SMART \\\\\n",
       "\t above & SMART \\\\\n",
       "\\end{tabular}\n"
      ],
      "text/markdown": [
       "\n",
       "A tibble: 6 × 2\n",
       "\n",
       "| word &lt;chr&gt; | lexicon &lt;chr&gt; |\n",
       "|---|---|\n",
       "| miss  | custom |\n",
       "| a     | SMART  |\n",
       "| a's   | SMART  |\n",
       "| able  | SMART  |\n",
       "| about | SMART  |\n",
       "| above | SMART  |\n",
       "\n"
      ],
      "text/plain": [
       "  word  lexicon\n",
       "1 miss  custom \n",
       "2 a     SMART  \n",
       "3 a's   SMART  \n",
       "4 able  SMART  \n",
       "5 about SMART  \n",
       "6 above SMART  "
      ]
     },
     "metadata": {},
     "output_type": "display_data"
    }
   ],
   "source": [
    "custom_stop_words <- bind_rows(tibble(word = c(\"miss\"),\n",
    "                                      lexicon = c(\"custom\")),\n",
    "                              stop_words)\n",
    "\n",
    "head(custom_stop_words)"
   ]
  },
  {
   "cell_type": "markdown",
   "id": "75a3731c-8865-42be-b25f-b6f91154b5d4",
   "metadata": {},
   "source": [
    "In the final visualization, we will create a wordcloud that will delineate the most recurring positive and negative words. In particular, we will use the `comparision.cloud()` function to plot both negative and positive words in a single wordcloud as follows:"
   ]
  },
  {
   "cell_type": "code",
   "execution_count": 27,
   "id": "d28acd81-7eb8-4e74-84d7-962d388a4336",
   "metadata": {},
   "outputs": [
    {
     "data": {
      "image/png": "[encoded data removed]",
      "text/plain": [
       "plot without title"
      ]
     },
     "metadata": {
      "image/png": {
       "height": 420,
       "width": 420
      }
     },
     "output_type": "display_data"
    }
   ],
   "source": [
    "library(reshape2)\n",
    "library(wordcloud)\n",
    "bing_word_counts %>%\n",
    "pivot_wider(names_from = sentiment,\n",
    "            values_from = n,\n",
    "            values_fill = 0\n",
    "           ) %>% # can also use acast(word ~ sentiment, value.var = \"n\", fill = 0)\n",
    "column_to_rownames(var = \"word\") %>%\n",
    "comparison.cloud(colors = c(\"red\", \"dark green\"),\n",
    "          max.words = 100)"
   ]
  },
  {
   "cell_type": "markdown",
   "id": "117b5d8a-8bc7-4aa3-ad4a-23b71e5fec14",
   "metadata": {},
   "source": [
    "This word cloud will enable us to efficiently visualize the negative as well as positive groups of data. Therefore, we are now able to see the different groups of data based on their corresponding sentiments."
   ]
  },
  {
   "cell_type": "markdown",
   "id": "0811b7e6-44c1-4c19-a002-95e7f99251dd",
   "metadata": {},
   "source": [
    "## Conclusion\n",
    "\n",
    "We were able to delineate sentiment analysis through various visualizations after we performed data wrangling on our data. We used a lexical analyzer – ‘bing’ in this instance of our project. Furthermore, we also represented the sentiment score through a plot and also made a visual report of word cloud."
   ]
  },
  {
   "cell_type": "code",
   "execution_count": null,
   "id": "018ccd82-d627-453c-b858-fe0f02508543",
   "metadata": {},
   "outputs": [],
   "source": []
  }
 ],
 "metadata": {
  "kernelspec": {
   "display_name": "R",
   "language": "R",
   "name": "ir"
  },
  "language_info": {
   "codemirror_mode": "r",
   "file_extension": ".r",
   "mimetype": "text/x-r-source",
   "name": "R",
   "pygments_lexer": "r",
   "version": "4.1.3"
  }
 },
 "nbformat": 4,
 "nbformat_minor": 5
}
