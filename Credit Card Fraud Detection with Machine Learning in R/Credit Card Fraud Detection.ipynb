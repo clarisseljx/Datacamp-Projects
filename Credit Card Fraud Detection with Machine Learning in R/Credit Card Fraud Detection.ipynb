{
 "cells": [
  {
   "cell_type": "markdown",
   "id": "76753447-6118-4298-875d-1c00edd5d9c4",
   "metadata": {},
   "source": [
    "# Credit Card Fraud Detection: Machine Learning in R"
   ]
  },
  {
   "cell_type": "markdown",
   "id": "0fb622a2-7d24-46c5-843b-db73a88a5d65",
   "metadata": {},
   "source": [
    "The aim of this R project is to build a classifier that can detect credit card fraudulent transactions. We will use various machine learning algorithms like Decision Trees, Logistic Regression, Artificial Neural Networks and finally, Gradient Boosting Classifier to discern fraudulent transactions from non-fraudulent ones. \n",
    "\n",
    "For carrying out credit card fraud detection, we will make use of the [Credit Card]( https://drive.google.com/file/d/1CTAlmlREFRaEN3NoHHitewpqAtWS5cVQ/view) dataset that contains a mix of fraudulent and non-fraudulent transactions."
   ]
  },
  {
   "cell_type": "markdown",
   "id": "8bb8610f-0c17-484f-b371-4011e700b546",
   "metadata": {},
   "source": [
    "## 1. Importing the Dataset and Necessary Libraries"
   ]
  },
  {
   "cell_type": "code",
   "execution_count": 1,
   "id": "ead3c9a9-2f28-4e34-84a9-b9ab3adc0340",
   "metadata": {},
   "outputs": [
    {
     "name": "stderr",
     "output_type": "stream",
     "text": [
      "-- \u001b[1mAttaching core tidyverse packages\u001b[22m ------------------------ tidyverse 2.0.0 --\n",
      "\u001b[32mv\u001b[39m \u001b[34mdplyr    \u001b[39m 1.1.4     \u001b[32mv\u001b[39m \u001b[34mreadr    \u001b[39m 2.1.5\n",
      "\u001b[32mv\u001b[39m \u001b[34mforcats  \u001b[39m 1.0.0     \u001b[32mv\u001b[39m \u001b[34mstringr  \u001b[39m 1.5.0\n",
      "\u001b[32mv\u001b[39m \u001b[34mggplot2  \u001b[39m 3.4.2     \u001b[32mv\u001b[39m \u001b[34mtibble   \u001b[39m 3.2.1\n",
      "\u001b[32mv\u001b[39m \u001b[34mlubridate\u001b[39m 1.9.3     \u001b[32mv\u001b[39m \u001b[34mtidyr    \u001b[39m 1.3.1\n",
      "\u001b[32mv\u001b[39m \u001b[34mpurrr    \u001b[39m 1.0.2     \n",
      "-- \u001b[1mConflicts\u001b[22m ------------------------------------------ tidyverse_conflicts() --\n",
      "\u001b[31mx\u001b[39m \u001b[34mdplyr\u001b[39m::\u001b[32mfilter()\u001b[39m masks \u001b[34mstats\u001b[39m::filter()\n",
      "\u001b[31mx\u001b[39m \u001b[34mdplyr\u001b[39m::\u001b[32mlag()\u001b[39m    masks \u001b[34mstats\u001b[39m::lag()\n",
      "\u001b[36mi\u001b[39m Use the conflicted package (\u001b[3m\u001b[34m<http://conflicted.r-lib.org/>\u001b[39m\u001b[23m) to force all conflicts to become errors\n",
      "Loading required package: lattice\n",
      "\n",
      "\n",
      "Attaching package: 'caret'\n",
      "\n",
      "\n",
      "The following object is masked from 'package:purrr':\n",
      "\n",
      "    lift\n",
      "\n",
      "\n"
     ]
    }
   ],
   "source": [
    "library(tidyverse)\n",
    "library(ggplot2)\n",
    "library(ranger)\n",
    "library(caret)\n",
    "creditcard_data <- read.csv(\"Credit Card Dataset.csv\")"
   ]
  },
  {
   "cell_type": "markdown",
   "id": "51d20a7d-28f8-49a9-95c2-63bda16c9ed5",
   "metadata": {},
   "source": [
    "## 2. Data Exploration\n",
    "\n",
    "In this section, we will explore the data that is contained in the `creditcard_data` dataframe. We will display the `creditcard_data` using the `head()` and `tail()` function. We will then proceed to explore the other components of this dataframe."
   ]
  },
  {
   "cell_type": "code",
   "execution_count": 2,
   "id": "fa8d2d97-dfc5-4bd0-989f-15520c795e71",
   "metadata": {},
   "outputs": [
    {
     "data": {
      "text/html": [
       "<style>\n",
       ".list-inline {list-style: none; margin:0; padding: 0}\n",
       ".list-inline>li {display: inline-block}\n",
       ".list-inline>li:not(:last-child)::after {content: \"\\00b7\"; padding: 0 .5ex}\n",
       "</style>\n",
       "<ol class=list-inline><li>284807</li><li>31</li></ol>\n"
      ],
      "text/latex": [
       "\\begin{enumerate*}\n",
       "\\item 284807\n",
       "\\item 31\n",
       "\\end{enumerate*}\n"
      ],
      "text/markdown": [
       "1. 284807\n",
       "2. 31\n",
       "\n",
       "\n"
      ],
      "text/plain": [
       "[1] 284807     31"
      ]
     },
     "metadata": {},
     "output_type": "display_data"
    },
    {
     "data": {
      "text/html": [
       "<table class=\"dataframe\">\n",
       "<caption>A data.frame: 6 × 31</caption>\n",
       "<thead>\n",
       "\t<tr><th></th><th scope=col>Time</th><th scope=col>V1</th><th scope=col>V2</th><th scope=col>V3</th><th scope=col>V4</th><th scope=col>V5</th><th scope=col>V6</th><th scope=col>V7</th><th scope=col>V8</th><th scope=col>V9</th><th scope=col>...</th><th scope=col>V21</th><th scope=col>V22</th><th scope=col>V23</th><th scope=col>V24</th><th scope=col>V25</th><th scope=col>V26</th><th scope=col>V27</th><th scope=col>V28</th><th scope=col>Amount</th><th scope=col>Class</th></tr>\n",
       "\t<tr><th></th><th scope=col>&lt;dbl&gt;</th><th scope=col>&lt;dbl&gt;</th><th scope=col>&lt;dbl&gt;</th><th scope=col>&lt;dbl&gt;</th><th scope=col>&lt;dbl&gt;</th><th scope=col>&lt;dbl&gt;</th><th scope=col>&lt;dbl&gt;</th><th scope=col>&lt;dbl&gt;</th><th scope=col>&lt;dbl&gt;</th><th scope=col>&lt;dbl&gt;</th><th scope=col>...</th><th scope=col>&lt;dbl&gt;</th><th scope=col>&lt;dbl&gt;</th><th scope=col>&lt;dbl&gt;</th><th scope=col>&lt;dbl&gt;</th><th scope=col>&lt;dbl&gt;</th><th scope=col>&lt;dbl&gt;</th><th scope=col>&lt;dbl&gt;</th><th scope=col>&lt;dbl&gt;</th><th scope=col>&lt;dbl&gt;</th><th scope=col>&lt;int&gt;</th></tr>\n",
       "</thead>\n",
       "<tbody>\n",
       "\t<tr><th scope=row>1</th><td>0</td><td>-1.3598071</td><td>-0.07278117</td><td>2.5363467</td><td> 1.3781552</td><td>-0.33832077</td><td> 0.46238778</td><td> 0.23959855</td><td> 0.09869790</td><td> 0.3637870</td><td>...</td><td>-0.018306778</td><td> 0.277837576</td><td>-0.11047391</td><td> 0.06692807</td><td> 0.1285394</td><td>-0.1891148</td><td> 0.133558377</td><td>-0.02105305</td><td>149.62</td><td>0</td></tr>\n",
       "\t<tr><th scope=row>2</th><td>0</td><td> 1.1918571</td><td> 0.26615071</td><td>0.1664801</td><td> 0.4481541</td><td> 0.06001765</td><td>-0.08236081</td><td>-0.07880298</td><td> 0.08510165</td><td>-0.2554251</td><td>...</td><td>-0.225775248</td><td>-0.638671953</td><td> 0.10128802</td><td>-0.33984648</td><td> 0.1671704</td><td> 0.1258945</td><td>-0.008983099</td><td> 0.01472417</td><td>  2.69</td><td>0</td></tr>\n",
       "\t<tr><th scope=row>3</th><td>1</td><td>-1.3583541</td><td>-1.34016307</td><td>1.7732093</td><td> 0.3797796</td><td>-0.50319813</td><td> 1.80049938</td><td> 0.79146096</td><td> 0.24767579</td><td>-1.5146543</td><td>...</td><td> 0.247998153</td><td> 0.771679402</td><td> 0.90941226</td><td>-0.68928096</td><td>-0.3276418</td><td>-0.1390966</td><td>-0.055352794</td><td>-0.05975184</td><td>378.66</td><td>0</td></tr>\n",
       "\t<tr><th scope=row>4</th><td>1</td><td>-0.9662717</td><td>-0.18522601</td><td>1.7929933</td><td>-0.8632913</td><td>-0.01030888</td><td> 1.24720317</td><td> 0.23760894</td><td> 0.37743587</td><td>-1.3870241</td><td>...</td><td>-0.108300452</td><td> 0.005273597</td><td>-0.19032052</td><td>-1.17557533</td><td> 0.6473760</td><td>-0.2219288</td><td> 0.062722849</td><td> 0.06145763</td><td>123.50</td><td>0</td></tr>\n",
       "\t<tr><th scope=row>5</th><td>2</td><td>-1.1582331</td><td> 0.87773675</td><td>1.5487178</td><td> 0.4030339</td><td>-0.40719338</td><td> 0.09592146</td><td> 0.59294075</td><td>-0.27053268</td><td> 0.8177393</td><td>...</td><td>-0.009430697</td><td> 0.798278495</td><td>-0.13745808</td><td> 0.14126698</td><td>-0.2060096</td><td> 0.5022922</td><td> 0.219422230</td><td> 0.21515315</td><td> 69.99</td><td>0</td></tr>\n",
       "\t<tr><th scope=row>6</th><td>2</td><td>-0.4259659</td><td> 0.96052304</td><td>1.1411093</td><td>-0.1682521</td><td> 0.42098688</td><td>-0.02972755</td><td> 0.47620095</td><td> 0.26031433</td><td>-0.5686714</td><td>...</td><td>-0.208253515</td><td>-0.559824796</td><td>-0.02639767</td><td>-0.37142658</td><td>-0.2327938</td><td> 0.1059148</td><td> 0.253844225</td><td> 0.08108026</td><td>  3.67</td><td>0</td></tr>\n",
       "</tbody>\n",
       "</table>\n"
      ],
      "text/latex": [
       "A data.frame: 6 × 31\n",
       "\\begin{tabular}{r|lllllllllllllllllllll}\n",
       "  & Time & V1 & V2 & V3 & V4 & V5 & V6 & V7 & V8 & V9 & ... & V21 & V22 & V23 & V24 & V25 & V26 & V27 & V28 & Amount & Class\\\\\n",
       "  & <dbl> & <dbl> & <dbl> & <dbl> & <dbl> & <dbl> & <dbl> & <dbl> & <dbl> & <dbl> & ... & <dbl> & <dbl> & <dbl> & <dbl> & <dbl> & <dbl> & <dbl> & <dbl> & <dbl> & <int>\\\\\n",
       "\\hline\n",
       "\t1 & 0 & -1.3598071 & -0.07278117 & 2.5363467 &  1.3781552 & -0.33832077 &  0.46238778 &  0.23959855 &  0.09869790 &  0.3637870 & ... & -0.018306778 &  0.277837576 & -0.11047391 &  0.06692807 &  0.1285394 & -0.1891148 &  0.133558377 & -0.02105305 & 149.62 & 0\\\\\n",
       "\t2 & 0 &  1.1918571 &  0.26615071 & 0.1664801 &  0.4481541 &  0.06001765 & -0.08236081 & -0.07880298 &  0.08510165 & -0.2554251 & ... & -0.225775248 & -0.638671953 &  0.10128802 & -0.33984648 &  0.1671704 &  0.1258945 & -0.008983099 &  0.01472417 &   2.69 & 0\\\\\n",
       "\t3 & 1 & -1.3583541 & -1.34016307 & 1.7732093 &  0.3797796 & -0.50319813 &  1.80049938 &  0.79146096 &  0.24767579 & -1.5146543 & ... &  0.247998153 &  0.771679402 &  0.90941226 & -0.68928096 & -0.3276418 & -0.1390966 & -0.055352794 & -0.05975184 & 378.66 & 0\\\\\n",
       "\t4 & 1 & -0.9662717 & -0.18522601 & 1.7929933 & -0.8632913 & -0.01030888 &  1.24720317 &  0.23760894 &  0.37743587 & -1.3870241 & ... & -0.108300452 &  0.005273597 & -0.19032052 & -1.17557533 &  0.6473760 & -0.2219288 &  0.062722849 &  0.06145763 & 123.50 & 0\\\\\n",
       "\t5 & 2 & -1.1582331 &  0.87773675 & 1.5487178 &  0.4030339 & -0.40719338 &  0.09592146 &  0.59294075 & -0.27053268 &  0.8177393 & ... & -0.009430697 &  0.798278495 & -0.13745808 &  0.14126698 & -0.2060096 &  0.5022922 &  0.219422230 &  0.21515315 &  69.99 & 0\\\\\n",
       "\t6 & 2 & -0.4259659 &  0.96052304 & 1.1411093 & -0.1682521 &  0.42098688 & -0.02972755 &  0.47620095 &  0.26031433 & -0.5686714 & ... & -0.208253515 & -0.559824796 & -0.02639767 & -0.37142658 & -0.2327938 &  0.1059148 &  0.253844225 &  0.08108026 &   3.67 & 0\\\\\n",
       "\\end{tabular}\n"
      ],
      "text/markdown": [
       "\n",
       "A data.frame: 6 × 31\n",
       "\n",
       "| <!--/--> | Time &lt;dbl&gt; | V1 &lt;dbl&gt; | V2 &lt;dbl&gt; | V3 &lt;dbl&gt; | V4 &lt;dbl&gt; | V5 &lt;dbl&gt; | V6 &lt;dbl&gt; | V7 &lt;dbl&gt; | V8 &lt;dbl&gt; | V9 &lt;dbl&gt; | ... ... | V21 &lt;dbl&gt; | V22 &lt;dbl&gt; | V23 &lt;dbl&gt; | V24 &lt;dbl&gt; | V25 &lt;dbl&gt; | V26 &lt;dbl&gt; | V27 &lt;dbl&gt; | V28 &lt;dbl&gt; | Amount &lt;dbl&gt; | Class &lt;int&gt; |\n",
       "|---|---|---|---|---|---|---|---|---|---|---|---|---|---|---|---|---|---|---|---|---|---|\n",
       "| 1 | 0 | -1.3598071 | -0.07278117 | 2.5363467 |  1.3781552 | -0.33832077 |  0.46238778 |  0.23959855 |  0.09869790 |  0.3637870 | ... | -0.018306778 |  0.277837576 | -0.11047391 |  0.06692807 |  0.1285394 | -0.1891148 |  0.133558377 | -0.02105305 | 149.62 | 0 |\n",
       "| 2 | 0 |  1.1918571 |  0.26615071 | 0.1664801 |  0.4481541 |  0.06001765 | -0.08236081 | -0.07880298 |  0.08510165 | -0.2554251 | ... | -0.225775248 | -0.638671953 |  0.10128802 | -0.33984648 |  0.1671704 |  0.1258945 | -0.008983099 |  0.01472417 |   2.69 | 0 |\n",
       "| 3 | 1 | -1.3583541 | -1.34016307 | 1.7732093 |  0.3797796 | -0.50319813 |  1.80049938 |  0.79146096 |  0.24767579 | -1.5146543 | ... |  0.247998153 |  0.771679402 |  0.90941226 | -0.68928096 | -0.3276418 | -0.1390966 | -0.055352794 | -0.05975184 | 378.66 | 0 |\n",
       "| 4 | 1 | -0.9662717 | -0.18522601 | 1.7929933 | -0.8632913 | -0.01030888 |  1.24720317 |  0.23760894 |  0.37743587 | -1.3870241 | ... | -0.108300452 |  0.005273597 | -0.19032052 | -1.17557533 |  0.6473760 | -0.2219288 |  0.062722849 |  0.06145763 | 123.50 | 0 |\n",
       "| 5 | 2 | -1.1582331 |  0.87773675 | 1.5487178 |  0.4030339 | -0.40719338 |  0.09592146 |  0.59294075 | -0.27053268 |  0.8177393 | ... | -0.009430697 |  0.798278495 | -0.13745808 |  0.14126698 | -0.2060096 |  0.5022922 |  0.219422230 |  0.21515315 |  69.99 | 0 |\n",
       "| 6 | 2 | -0.4259659 |  0.96052304 | 1.1411093 | -0.1682521 |  0.42098688 | -0.02972755 |  0.47620095 |  0.26031433 | -0.5686714 | ... | -0.208253515 | -0.559824796 | -0.02639767 | -0.37142658 | -0.2327938 |  0.1059148 |  0.253844225 |  0.08108026 |   3.67 | 0 |\n",
       "\n"
      ],
      "text/plain": [
       "  Time V1         V2          V3        V4         V5          V6         \n",
       "1 0    -1.3598071 -0.07278117 2.5363467  1.3781552 -0.33832077  0.46238778\n",
       "2 0     1.1918571  0.26615071 0.1664801  0.4481541  0.06001765 -0.08236081\n",
       "3 1    -1.3583541 -1.34016307 1.7732093  0.3797796 -0.50319813  1.80049938\n",
       "4 1    -0.9662717 -0.18522601 1.7929933 -0.8632913 -0.01030888  1.24720317\n",
       "5 2    -1.1582331  0.87773675 1.5487178  0.4030339 -0.40719338  0.09592146\n",
       "6 2    -0.4259659  0.96052304 1.1411093 -0.1682521  0.42098688 -0.02972755\n",
       "  V7          V8          V9         ... V21          V22          V23        \n",
       "1  0.23959855  0.09869790  0.3637870 ... -0.018306778  0.277837576 -0.11047391\n",
       "2 -0.07880298  0.08510165 -0.2554251 ... -0.225775248 -0.638671953  0.10128802\n",
       "3  0.79146096  0.24767579 -1.5146543 ...  0.247998153  0.771679402  0.90941226\n",
       "4  0.23760894  0.37743587 -1.3870241 ... -0.108300452  0.005273597 -0.19032052\n",
       "5  0.59294075 -0.27053268  0.8177393 ... -0.009430697  0.798278495 -0.13745808\n",
       "6  0.47620095  0.26031433 -0.5686714 ... -0.208253515 -0.559824796 -0.02639767\n",
       "  V24         V25        V26        V27          V28         Amount Class\n",
       "1  0.06692807  0.1285394 -0.1891148  0.133558377 -0.02105305 149.62 0    \n",
       "2 -0.33984648  0.1671704  0.1258945 -0.008983099  0.01472417   2.69 0    \n",
       "3 -0.68928096 -0.3276418 -0.1390966 -0.055352794 -0.05975184 378.66 0    \n",
       "4 -1.17557533  0.6473760 -0.2219288  0.062722849  0.06145763 123.50 0    \n",
       "5  0.14126698 -0.2060096  0.5022922  0.219422230  0.21515315  69.99 0    \n",
       "6 -0.37142658 -0.2327938  0.1059148  0.253844225  0.08108026   3.67 0    "
      ]
     },
     "metadata": {},
     "output_type": "display_data"
    }
   ],
   "source": [
    "dim(creditcard_data)\n",
    "head(creditcard_data)"
   ]
  },
  {
   "cell_type": "code",
   "execution_count": 3,
   "id": "5497e79b-f12a-4598-acdc-58533a83bb15",
   "metadata": {},
   "outputs": [
    {
     "data": {
      "text/html": [
       "<table class=\"dataframe\">\n",
       "<caption>A data.frame: 6 × 31</caption>\n",
       "<thead>\n",
       "\t<tr><th></th><th scope=col>Time</th><th scope=col>V1</th><th scope=col>V2</th><th scope=col>V3</th><th scope=col>V4</th><th scope=col>V5</th><th scope=col>V6</th><th scope=col>V7</th><th scope=col>V8</th><th scope=col>V9</th><th scope=col>...</th><th scope=col>V21</th><th scope=col>V22</th><th scope=col>V23</th><th scope=col>V24</th><th scope=col>V25</th><th scope=col>V26</th><th scope=col>V27</th><th scope=col>V28</th><th scope=col>Amount</th><th scope=col>Class</th></tr>\n",
       "\t<tr><th></th><th scope=col>&lt;dbl&gt;</th><th scope=col>&lt;dbl&gt;</th><th scope=col>&lt;dbl&gt;</th><th scope=col>&lt;dbl&gt;</th><th scope=col>&lt;dbl&gt;</th><th scope=col>&lt;dbl&gt;</th><th scope=col>&lt;dbl&gt;</th><th scope=col>&lt;dbl&gt;</th><th scope=col>&lt;dbl&gt;</th><th scope=col>&lt;dbl&gt;</th><th scope=col>...</th><th scope=col>&lt;dbl&gt;</th><th scope=col>&lt;dbl&gt;</th><th scope=col>&lt;dbl&gt;</th><th scope=col>&lt;dbl&gt;</th><th scope=col>&lt;dbl&gt;</th><th scope=col>&lt;dbl&gt;</th><th scope=col>&lt;dbl&gt;</th><th scope=col>&lt;dbl&gt;</th><th scope=col>&lt;dbl&gt;</th><th scope=col>&lt;int&gt;</th></tr>\n",
       "</thead>\n",
       "<tbody>\n",
       "\t<tr><th scope=row>284802</th><td>172785</td><td>  0.1203164</td><td> 0.93100513</td><td>-0.5460121</td><td>-0.7450968</td><td> 1.13031398</td><td>-0.2359732</td><td> 0.8127221</td><td> 0.1150929</td><td>-0.2040635</td><td>...</td><td>-0.3142046</td><td>-0.8085204</td><td> 0.05034266</td><td> 0.102799590</td><td>-0.4358701</td><td> 0.1240789</td><td> 0.217939865</td><td> 0.06880333</td><td>  2.69</td><td>0</td></tr>\n",
       "\t<tr><th scope=row>284803</th><td>172786</td><td>-11.8811179</td><td>10.07178497</td><td>-9.8347835</td><td>-2.0666557</td><td>-5.36447278</td><td>-2.6068373</td><td>-4.9182154</td><td> 7.3053340</td><td> 1.9144283</td><td>...</td><td> 0.2134541</td><td> 0.1118637</td><td> 1.01447990</td><td>-0.509348453</td><td> 1.4368069</td><td> 0.2500343</td><td> 0.943651172</td><td> 0.82373096</td><td>  0.77</td><td>0</td></tr>\n",
       "\t<tr><th scope=row>284804</th><td>172787</td><td> -0.7327887</td><td>-0.05508049</td><td> 2.0350297</td><td>-0.7385886</td><td> 0.86822940</td><td> 1.0584153</td><td> 0.0243297</td><td> 0.2948687</td><td> 0.5848000</td><td>...</td><td> 0.2142053</td><td> 0.9243836</td><td> 0.01246304</td><td>-1.016225669</td><td>-0.6066240</td><td>-0.3952551</td><td> 0.068472470</td><td>-0.05352739</td><td> 24.79</td><td>0</td></tr>\n",
       "\t<tr><th scope=row>284805</th><td>172788</td><td>  1.9195650</td><td>-0.30125385</td><td>-3.2496398</td><td>-0.5578281</td><td> 2.63051512</td><td> 3.0312601</td><td>-0.2968265</td><td> 0.7084172</td><td> 0.4324540</td><td>...</td><td> 0.2320450</td><td> 0.5782290</td><td>-0.03750086</td><td> 0.640133881</td><td> 0.2657455</td><td>-0.0873706</td><td> 0.004454772</td><td>-0.02656083</td><td> 67.88</td><td>0</td></tr>\n",
       "\t<tr><th scope=row>284806</th><td>172788</td><td> -0.2404400</td><td> 0.53048251</td><td> 0.7025102</td><td> 0.6897992</td><td>-0.37796113</td><td> 0.6237077</td><td>-0.6861800</td><td> 0.6791455</td><td> 0.3920867</td><td>...</td><td> 0.2652449</td><td> 0.8000487</td><td>-0.16329794</td><td> 0.123205244</td><td>-0.5691589</td><td> 0.5466685</td><td> 0.108820735</td><td> 0.10453282</td><td> 10.00</td><td>0</td></tr>\n",
       "\t<tr><th scope=row>284807</th><td>172792</td><td> -0.5334125</td><td>-0.18973334</td><td> 0.7033374</td><td>-0.5062712</td><td>-0.01254568</td><td>-0.6496167</td><td> 1.5770063</td><td>-0.4146504</td><td> 0.4861795</td><td>...</td><td> 0.2610573</td><td> 0.6430784</td><td> 0.37677701</td><td> 0.008797379</td><td>-0.4736487</td><td>-0.8182671</td><td>-0.002415309</td><td> 0.01364891</td><td>217.00</td><td>0</td></tr>\n",
       "</tbody>\n",
       "</table>\n"
      ],
      "text/latex": [
       "A data.frame: 6 × 31\n",
       "\\begin{tabular}{r|lllllllllllllllllllll}\n",
       "  & Time & V1 & V2 & V3 & V4 & V5 & V6 & V7 & V8 & V9 & ... & V21 & V22 & V23 & V24 & V25 & V26 & V27 & V28 & Amount & Class\\\\\n",
       "  & <dbl> & <dbl> & <dbl> & <dbl> & <dbl> & <dbl> & <dbl> & <dbl> & <dbl> & <dbl> & ... & <dbl> & <dbl> & <dbl> & <dbl> & <dbl> & <dbl> & <dbl> & <dbl> & <dbl> & <int>\\\\\n",
       "\\hline\n",
       "\t284802 & 172785 &   0.1203164 &  0.93100513 & -0.5460121 & -0.7450968 &  1.13031398 & -0.2359732 &  0.8127221 &  0.1150929 & -0.2040635 & ... & -0.3142046 & -0.8085204 &  0.05034266 &  0.102799590 & -0.4358701 &  0.1240789 &  0.217939865 &  0.06880333 &   2.69 & 0\\\\\n",
       "\t284803 & 172786 & -11.8811179 & 10.07178497 & -9.8347835 & -2.0666557 & -5.36447278 & -2.6068373 & -4.9182154 &  7.3053340 &  1.9144283 & ... &  0.2134541 &  0.1118637 &  1.01447990 & -0.509348453 &  1.4368069 &  0.2500343 &  0.943651172 &  0.82373096 &   0.77 & 0\\\\\n",
       "\t284804 & 172787 &  -0.7327887 & -0.05508049 &  2.0350297 & -0.7385886 &  0.86822940 &  1.0584153 &  0.0243297 &  0.2948687 &  0.5848000 & ... &  0.2142053 &  0.9243836 &  0.01246304 & -1.016225669 & -0.6066240 & -0.3952551 &  0.068472470 & -0.05352739 &  24.79 & 0\\\\\n",
       "\t284805 & 172788 &   1.9195650 & -0.30125385 & -3.2496398 & -0.5578281 &  2.63051512 &  3.0312601 & -0.2968265 &  0.7084172 &  0.4324540 & ... &  0.2320450 &  0.5782290 & -0.03750086 &  0.640133881 &  0.2657455 & -0.0873706 &  0.004454772 & -0.02656083 &  67.88 & 0\\\\\n",
       "\t284806 & 172788 &  -0.2404400 &  0.53048251 &  0.7025102 &  0.6897992 & -0.37796113 &  0.6237077 & -0.6861800 &  0.6791455 &  0.3920867 & ... &  0.2652449 &  0.8000487 & -0.16329794 &  0.123205244 & -0.5691589 &  0.5466685 &  0.108820735 &  0.10453282 &  10.00 & 0\\\\\n",
       "\t284807 & 172792 &  -0.5334125 & -0.18973334 &  0.7033374 & -0.5062712 & -0.01254568 & -0.6496167 &  1.5770063 & -0.4146504 &  0.4861795 & ... &  0.2610573 &  0.6430784 &  0.37677701 &  0.008797379 & -0.4736487 & -0.8182671 & -0.002415309 &  0.01364891 & 217.00 & 0\\\\\n",
       "\\end{tabular}\n"
      ],
      "text/markdown": [
       "\n",
       "A data.frame: 6 × 31\n",
       "\n",
       "| <!--/--> | Time &lt;dbl&gt; | V1 &lt;dbl&gt; | V2 &lt;dbl&gt; | V3 &lt;dbl&gt; | V4 &lt;dbl&gt; | V5 &lt;dbl&gt; | V6 &lt;dbl&gt; | V7 &lt;dbl&gt; | V8 &lt;dbl&gt; | V9 &lt;dbl&gt; | ... ... | V21 &lt;dbl&gt; | V22 &lt;dbl&gt; | V23 &lt;dbl&gt; | V24 &lt;dbl&gt; | V25 &lt;dbl&gt; | V26 &lt;dbl&gt; | V27 &lt;dbl&gt; | V28 &lt;dbl&gt; | Amount &lt;dbl&gt; | Class &lt;int&gt; |\n",
       "|---|---|---|---|---|---|---|---|---|---|---|---|---|---|---|---|---|---|---|---|---|---|\n",
       "| 284802 | 172785 |   0.1203164 |  0.93100513 | -0.5460121 | -0.7450968 |  1.13031398 | -0.2359732 |  0.8127221 |  0.1150929 | -0.2040635 | ... | -0.3142046 | -0.8085204 |  0.05034266 |  0.102799590 | -0.4358701 |  0.1240789 |  0.217939865 |  0.06880333 |   2.69 | 0 |\n",
       "| 284803 | 172786 | -11.8811179 | 10.07178497 | -9.8347835 | -2.0666557 | -5.36447278 | -2.6068373 | -4.9182154 |  7.3053340 |  1.9144283 | ... |  0.2134541 |  0.1118637 |  1.01447990 | -0.509348453 |  1.4368069 |  0.2500343 |  0.943651172 |  0.82373096 |   0.77 | 0 |\n",
       "| 284804 | 172787 |  -0.7327887 | -0.05508049 |  2.0350297 | -0.7385886 |  0.86822940 |  1.0584153 |  0.0243297 |  0.2948687 |  0.5848000 | ... |  0.2142053 |  0.9243836 |  0.01246304 | -1.016225669 | -0.6066240 | -0.3952551 |  0.068472470 | -0.05352739 |  24.79 | 0 |\n",
       "| 284805 | 172788 |   1.9195650 | -0.30125385 | -3.2496398 | -0.5578281 |  2.63051512 |  3.0312601 | -0.2968265 |  0.7084172 |  0.4324540 | ... |  0.2320450 |  0.5782290 | -0.03750086 |  0.640133881 |  0.2657455 | -0.0873706 |  0.004454772 | -0.02656083 |  67.88 | 0 |\n",
       "| 284806 | 172788 |  -0.2404400 |  0.53048251 |  0.7025102 |  0.6897992 | -0.37796113 |  0.6237077 | -0.6861800 |  0.6791455 |  0.3920867 | ... |  0.2652449 |  0.8000487 | -0.16329794 |  0.123205244 | -0.5691589 |  0.5466685 |  0.108820735 |  0.10453282 |  10.00 | 0 |\n",
       "| 284807 | 172792 |  -0.5334125 | -0.18973334 |  0.7033374 | -0.5062712 | -0.01254568 | -0.6496167 |  1.5770063 | -0.4146504 |  0.4861795 | ... |  0.2610573 |  0.6430784 |  0.37677701 |  0.008797379 | -0.4736487 | -0.8182671 | -0.002415309 |  0.01364891 | 217.00 | 0 |\n",
       "\n"
      ],
      "text/plain": [
       "       Time   V1          V2          V3         V4         V5         \n",
       "284802 172785   0.1203164  0.93100513 -0.5460121 -0.7450968  1.13031398\n",
       "284803 172786 -11.8811179 10.07178497 -9.8347835 -2.0666557 -5.36447278\n",
       "284804 172787  -0.7327887 -0.05508049  2.0350297 -0.7385886  0.86822940\n",
       "284805 172788   1.9195650 -0.30125385 -3.2496398 -0.5578281  2.63051512\n",
       "284806 172788  -0.2404400  0.53048251  0.7025102  0.6897992 -0.37796113\n",
       "284807 172792  -0.5334125 -0.18973334  0.7033374 -0.5062712 -0.01254568\n",
       "       V6         V7         V8         V9         ... V21        V22       \n",
       "284802 -0.2359732  0.8127221  0.1150929 -0.2040635 ... -0.3142046 -0.8085204\n",
       "284803 -2.6068373 -4.9182154  7.3053340  1.9144283 ...  0.2134541  0.1118637\n",
       "284804  1.0584153  0.0243297  0.2948687  0.5848000 ...  0.2142053  0.9243836\n",
       "284805  3.0312601 -0.2968265  0.7084172  0.4324540 ...  0.2320450  0.5782290\n",
       "284806  0.6237077 -0.6861800  0.6791455  0.3920867 ...  0.2652449  0.8000487\n",
       "284807 -0.6496167  1.5770063 -0.4146504  0.4861795 ...  0.2610573  0.6430784\n",
       "       V23         V24          V25        V26        V27          V28        \n",
       "284802  0.05034266  0.102799590 -0.4358701  0.1240789  0.217939865  0.06880333\n",
       "284803  1.01447990 -0.509348453  1.4368069  0.2500343  0.943651172  0.82373096\n",
       "284804  0.01246304 -1.016225669 -0.6066240 -0.3952551  0.068472470 -0.05352739\n",
       "284805 -0.03750086  0.640133881  0.2657455 -0.0873706  0.004454772 -0.02656083\n",
       "284806 -0.16329794  0.123205244 -0.5691589  0.5466685  0.108820735  0.10453282\n",
       "284807  0.37677701  0.008797379 -0.4736487 -0.8182671 -0.002415309  0.01364891\n",
       "       Amount Class\n",
       "284802   2.69 0    \n",
       "284803   0.77 0    \n",
       "284804  24.79 0    \n",
       "284805  67.88 0    \n",
       "284806  10.00 0    \n",
       "284807 217.00 0    "
      ]
     },
     "metadata": {},
     "output_type": "display_data"
    }
   ],
   "source": [
    "tail(creditcard_data)"
   ]
  },
  {
   "cell_type": "code",
   "execution_count": 4,
   "id": "43932ea1-f43e-445a-a0f9-2da8a92fb7e0",
   "metadata": {},
   "outputs": [
    {
     "data": {
      "text/plain": [
       "\n",
       "     0      1 \n",
       "284315    492 "
      ]
     },
     "metadata": {},
     "output_type": "display_data"
    }
   ],
   "source": [
    "# View table from Class column (0 for legit transactions, 1 for fraud)\n",
    "table(creditcard_data$Class)"
   ]
  },
  {
   "cell_type": "code",
   "execution_count": 5,
   "id": "313f224a-c0f8-47d4-a7b9-bae631562568",
   "metadata": {},
   "outputs": [
    {
     "data": {
      "text/plain": [
       "    Min.  1st Qu.   Median     Mean  3rd Qu.     Max. \n",
       "    0.00     5.60    22.00    88.35    77.17 25691.16 "
      ]
     },
     "metadata": {},
     "output_type": "display_data"
    }
   ],
   "source": [
    "# View summary of amount\n",
    "summary(creditcard_data$Amount)"
   ]
  },
  {
   "cell_type": "code",
   "execution_count": 6,
   "id": "4c9e6653-3e5b-45bc-a9ea-1ed684afa701",
   "metadata": {},
   "outputs": [
    {
     "data": {
      "text/html": [
       "<style>\n",
       ".list-inline {list-style: none; margin:0; padding: 0}\n",
       ".list-inline>li {display: inline-block}\n",
       ".list-inline>li:not(:last-child)::after {content: \"\\00b7\"; padding: 0 .5ex}\n",
       "</style>\n",
       "<ol class=list-inline><li>'Time'</li><li>'V1'</li><li>'V2'</li><li>'V3'</li><li>'V4'</li><li>'V5'</li><li>'V6'</li><li>'V7'</li><li>'V8'</li><li>'V9'</li><li>'V10'</li><li>'V11'</li><li>'V12'</li><li>'V13'</li><li>'V14'</li><li>'V15'</li><li>'V16'</li><li>'V17'</li><li>'V18'</li><li>'V19'</li><li>'V20'</li><li>'V21'</li><li>'V22'</li><li>'V23'</li><li>'V24'</li><li>'V25'</li><li>'V26'</li><li>'V27'</li><li>'V28'</li><li>'Amount'</li><li>'Class'</li></ol>\n"
      ],
      "text/latex": [
       "\\begin{enumerate*}\n",
       "\\item 'Time'\n",
       "\\item 'V1'\n",
       "\\item 'V2'\n",
       "\\item 'V3'\n",
       "\\item 'V4'\n",
       "\\item 'V5'\n",
       "\\item 'V6'\n",
       "\\item 'V7'\n",
       "\\item 'V8'\n",
       "\\item 'V9'\n",
       "\\item 'V10'\n",
       "\\item 'V11'\n",
       "\\item 'V12'\n",
       "\\item 'V13'\n",
       "\\item 'V14'\n",
       "\\item 'V15'\n",
       "\\item 'V16'\n",
       "\\item 'V17'\n",
       "\\item 'V18'\n",
       "\\item 'V19'\n",
       "\\item 'V20'\n",
       "\\item 'V21'\n",
       "\\item 'V22'\n",
       "\\item 'V23'\n",
       "\\item 'V24'\n",
       "\\item 'V25'\n",
       "\\item 'V26'\n",
       "\\item 'V27'\n",
       "\\item 'V28'\n",
       "\\item 'Amount'\n",
       "\\item 'Class'\n",
       "\\end{enumerate*}\n"
      ],
      "text/markdown": [
       "1. 'Time'\n",
       "2. 'V1'\n",
       "3. 'V2'\n",
       "4. 'V3'\n",
       "5. 'V4'\n",
       "6. 'V5'\n",
       "7. 'V6'\n",
       "8. 'V7'\n",
       "9. 'V8'\n",
       "10. 'V9'\n",
       "11. 'V10'\n",
       "12. 'V11'\n",
       "13. 'V12'\n",
       "14. 'V13'\n",
       "15. 'V14'\n",
       "16. 'V15'\n",
       "17. 'V16'\n",
       "18. 'V17'\n",
       "19. 'V18'\n",
       "20. 'V19'\n",
       "21. 'V20'\n",
       "22. 'V21'\n",
       "23. 'V22'\n",
       "24. 'V23'\n",
       "25. 'V24'\n",
       "26. 'V25'\n",
       "27. 'V26'\n",
       "28. 'V27'\n",
       "29. 'V28'\n",
       "30. 'Amount'\n",
       "31. 'Class'\n",
       "\n",
       "\n"
      ],
      "text/plain": [
       " [1] \"Time\"   \"V1\"     \"V2\"     \"V3\"     \"V4\"     \"V5\"     \"V6\"     \"V7\"    \n",
       " [9] \"V8\"     \"V9\"     \"V10\"    \"V11\"    \"V12\"    \"V13\"    \"V14\"    \"V15\"   \n",
       "[17] \"V16\"    \"V17\"    \"V18\"    \"V19\"    \"V20\"    \"V21\"    \"V22\"    \"V23\"   \n",
       "[25] \"V24\"    \"V25\"    \"V26\"    \"V27\"    \"V28\"    \"Amount\" \"Class\" "
      ]
     },
     "metadata": {},
     "output_type": "display_data"
    }
   ],
   "source": [
    "# View names of columns in dataset\n",
    "names(creditcard_data)"
   ]
  },
  {
   "cell_type": "code",
   "execution_count": 7,
   "id": "d5e4f213-bdd5-4195-a092-d45e7d9e5496",
   "metadata": {},
   "outputs": [
    {
     "data": {
      "text/html": [
       "62560.0690463239"
      ],
      "text/latex": [
       "62560.0690463239"
      ],
      "text/markdown": [
       "62560.0690463239"
      ],
      "text/plain": [
       "[1] 62560.07"
      ]
     },
     "metadata": {},
     "output_type": "display_data"
    }
   ],
   "source": [
    "# View variance of Amount column\n",
    "var(creditcard_data$Amount)"
   ]
  },
  {
   "cell_type": "code",
   "execution_count": 8,
   "id": "8ece3bbc-851c-4548-be19-c57a872b847e",
   "metadata": {},
   "outputs": [
    {
     "data": {
      "text/html": [
       "250.120109240189"
      ],
      "text/latex": [
       "250.120109240189"
      ],
      "text/markdown": [
       "250.120109240189"
      ],
      "text/plain": [
       "[1] 250.1201"
      ]
     },
     "metadata": {},
     "output_type": "display_data"
    }
   ],
   "source": [
    "# View standard deviation of Amount column\n",
    "sd(creditcard_data$Amount)"
   ]
  },
  {
   "cell_type": "code",
   "execution_count": 9,
   "id": "fd8fc4bf-b4f9-4ba2-87ff-9367c502036f",
   "metadata": {},
   "outputs": [
    {
     "data": {
      "text/html": [
       "<style>\n",
       ".dl-inline {width: auto; margin:0; padding: 0}\n",
       ".dl-inline>dt, .dl-inline>dd {float: none; width: auto; display: inline-block}\n",
       ".dl-inline>dt::after {content: \":\\0020\"; padding-right: .5ex}\n",
       ".dl-inline>dt:not(:first-of-type) {padding-left: .5ex}\n",
       "</style><dl class=dl-inline><dt>Time</dt><dd>0</dd><dt>V1</dt><dd>0</dd><dt>V2</dt><dd>0</dd><dt>V3</dt><dd>0</dd><dt>V4</dt><dd>0</dd><dt>V5</dt><dd>0</dd><dt>V6</dt><dd>0</dd><dt>V7</dt><dd>0</dd><dt>V8</dt><dd>0</dd><dt>V9</dt><dd>0</dd><dt>V10</dt><dd>0</dd><dt>V11</dt><dd>0</dd><dt>V12</dt><dd>0</dd><dt>V13</dt><dd>0</dd><dt>V14</dt><dd>0</dd><dt>V15</dt><dd>0</dd><dt>V16</dt><dd>0</dd><dt>V17</dt><dd>0</dd><dt>V18</dt><dd>0</dd><dt>V19</dt><dd>0</dd><dt>V20</dt><dd>0</dd><dt>V21</dt><dd>0</dd><dt>V22</dt><dd>0</dd><dt>V23</dt><dd>0</dd><dt>V24</dt><dd>0</dd><dt>V25</dt><dd>0</dd><dt>V26</dt><dd>0</dd><dt>V27</dt><dd>0</dd><dt>V28</dt><dd>0</dd><dt>Amount</dt><dd>0</dd><dt>Class</dt><dd>0</dd></dl>\n"
      ],
      "text/latex": [
       "\\begin{description*}\n",
       "\\item[Time] 0\n",
       "\\item[V1] 0\n",
       "\\item[V2] 0\n",
       "\\item[V3] 0\n",
       "\\item[V4] 0\n",
       "\\item[V5] 0\n",
       "\\item[V6] 0\n",
       "\\item[V7] 0\n",
       "\\item[V8] 0\n",
       "\\item[V9] 0\n",
       "\\item[V10] 0\n",
       "\\item[V11] 0\n",
       "\\item[V12] 0\n",
       "\\item[V13] 0\n",
       "\\item[V14] 0\n",
       "\\item[V15] 0\n",
       "\\item[V16] 0\n",
       "\\item[V17] 0\n",
       "\\item[V18] 0\n",
       "\\item[V19] 0\n",
       "\\item[V20] 0\n",
       "\\item[V21] 0\n",
       "\\item[V22] 0\n",
       "\\item[V23] 0\n",
       "\\item[V24] 0\n",
       "\\item[V25] 0\n",
       "\\item[V26] 0\n",
       "\\item[V27] 0\n",
       "\\item[V28] 0\n",
       "\\item[Amount] 0\n",
       "\\item[Class] 0\n",
       "\\end{description*}\n"
      ],
      "text/markdown": [
       "Time\n",
       ":   0V1\n",
       ":   0V2\n",
       ":   0V3\n",
       ":   0V4\n",
       ":   0V5\n",
       ":   0V6\n",
       ":   0V7\n",
       ":   0V8\n",
       ":   0V9\n",
       ":   0V10\n",
       ":   0V11\n",
       ":   0V12\n",
       ":   0V13\n",
       ":   0V14\n",
       ":   0V15\n",
       ":   0V16\n",
       ":   0V17\n",
       ":   0V18\n",
       ":   0V19\n",
       ":   0V20\n",
       ":   0V21\n",
       ":   0V22\n",
       ":   0V23\n",
       ":   0V24\n",
       ":   0V25\n",
       ":   0V26\n",
       ":   0V27\n",
       ":   0V28\n",
       ":   0Amount\n",
       ":   0Class\n",
       ":   0\n",
       "\n"
      ],
      "text/plain": [
       "  Time     V1     V2     V3     V4     V5     V6     V7     V8     V9    V10 \n",
       "     0      0      0      0      0      0      0      0      0      0      0 \n",
       "   V11    V12    V13    V14    V15    V16    V17    V18    V19    V20    V21 \n",
       "     0      0      0      0      0      0      0      0      0      0      0 \n",
       "   V22    V23    V24    V25    V26    V27    V28 Amount  Class \n",
       "     0      0      0      0      0      0      0      0      0 "
      ]
     },
     "metadata": {},
     "output_type": "display_data"
    }
   ],
   "source": [
    "# Check if there are any missing values in columns\n",
    "colSums(is.na(creditcard_data))"
   ]
  },
  {
   "cell_type": "markdown",
   "id": "0bb68f46-d688-46a6-983e-fc2475441fa9",
   "metadata": {},
   "source": [
    "## 3. Initial Data Visualization\n",
    "\n",
    "Let's first visualize the transactions over time and see if time is an important factor to be considered for fraud detection."
   ]
  },
  {
   "cell_type": "code",
   "execution_count": 10,
   "id": "8daf5620-745f-4c98-b956-2ab62027a9d0",
   "metadata": {},
   "outputs": [
    {
     "data": {
      "image/png": "[encoded data removed]",
      "text/plain": [
       "plot without title"
      ]
     },
     "metadata": {
      "image/png": {
       "height": 420,
       "width": 420
      }
     },
     "output_type": "display_data"
    }
   ],
   "source": [
    "# Visualize the distribution of transactions over time\n",
    "creditcard_data %>%\n",
    "ggplot(aes(x = Time, fill = factor(Class))) +\n",
    "geom_histogram(bins = 100) +\n",
    "labs(x = \"Time (seconds)\",\n",
    "     y = \"Number of Transactions\",\n",
    "     fill = \"Class\",\n",
    "     title = \"Distribution of Transactions over Time\"\n",
    "    ) +\n",
    "facet_wrap(~Class, ncol = 1, scales = \"free_y\")"
   ]
  },
  {
   "cell_type": "markdown",
   "id": "1c7ba1d4-1a66-41f9-a0ed-1dd5e94246ad",
   "metadata": {},
   "source": [
    "The distribution appears to be pretty similar in both transactions. Since time does not contribute much in fraud detection, we can remove the `Time` column from the dataset."
   ]
  },
  {
   "cell_type": "markdown",
   "id": "ce2d3480-f171-41ec-889a-647c78d64f53",
   "metadata": {},
   "source": [
    "## 4. Data Manipulation\n",
    "\n",
    "Next, we will scale our data using the `scale()` function. We will apply this to the `Amount` component of `creditcard_data`. Scaling is also known as feature standardization. With the help of scaling, the data is structured according to a specified range. Therefore, there are no extreme values in our dataset that might interfere with the functioning of our model. "
   ]
  },
  {
   "cell_type": "code",
   "execution_count": 11,
   "id": "f5214d12-a36a-466c-ac40-73092a61d649",
   "metadata": {},
   "outputs": [
    {
     "data": {
      "text/html": [
       "<table class=\"dataframe\">\n",
       "<caption>A data.frame: 6 × 31</caption>\n",
       "<thead>\n",
       "\t<tr><th></th><th scope=col>Time</th><th scope=col>V1</th><th scope=col>V2</th><th scope=col>V3</th><th scope=col>V4</th><th scope=col>V5</th><th scope=col>V6</th><th scope=col>V7</th><th scope=col>V8</th><th scope=col>V9</th><th scope=col>...</th><th scope=col>V21</th><th scope=col>V22</th><th scope=col>V23</th><th scope=col>V24</th><th scope=col>V25</th><th scope=col>V26</th><th scope=col>V27</th><th scope=col>V28</th><th scope=col>Amount</th><th scope=col>Class</th></tr>\n",
       "\t<tr><th></th><th scope=col>&lt;dbl&gt;</th><th scope=col>&lt;dbl&gt;</th><th scope=col>&lt;dbl&gt;</th><th scope=col>&lt;dbl&gt;</th><th scope=col>&lt;dbl&gt;</th><th scope=col>&lt;dbl&gt;</th><th scope=col>&lt;dbl&gt;</th><th scope=col>&lt;dbl&gt;</th><th scope=col>&lt;dbl&gt;</th><th scope=col>&lt;dbl&gt;</th><th scope=col>...</th><th scope=col>&lt;dbl&gt;</th><th scope=col>&lt;dbl&gt;</th><th scope=col>&lt;dbl&gt;</th><th scope=col>&lt;dbl&gt;</th><th scope=col>&lt;dbl&gt;</th><th scope=col>&lt;dbl&gt;</th><th scope=col>&lt;dbl&gt;</th><th scope=col>&lt;dbl&gt;</th><th scope=col>&lt;dbl&gt;</th><th scope=col>&lt;int&gt;</th></tr>\n",
       "</thead>\n",
       "<tbody>\n",
       "\t<tr><th scope=row>1</th><td>0</td><td>-1.3598071</td><td>-0.07278117</td><td>2.5363467</td><td> 1.3781552</td><td>-0.33832077</td><td> 0.46238778</td><td> 0.23959855</td><td> 0.09869790</td><td> 0.3637870</td><td>...</td><td>-0.018306778</td><td> 0.277837576</td><td>-0.11047391</td><td> 0.06692807</td><td> 0.1285394</td><td>-0.1891148</td><td> 0.133558377</td><td>-0.02105305</td><td>149.62</td><td>0</td></tr>\n",
       "\t<tr><th scope=row>2</th><td>0</td><td> 1.1918571</td><td> 0.26615071</td><td>0.1664801</td><td> 0.4481541</td><td> 0.06001765</td><td>-0.08236081</td><td>-0.07880298</td><td> 0.08510165</td><td>-0.2554251</td><td>...</td><td>-0.225775248</td><td>-0.638671953</td><td> 0.10128802</td><td>-0.33984648</td><td> 0.1671704</td><td> 0.1258945</td><td>-0.008983099</td><td> 0.01472417</td><td>  2.69</td><td>0</td></tr>\n",
       "\t<tr><th scope=row>3</th><td>1</td><td>-1.3583541</td><td>-1.34016307</td><td>1.7732093</td><td> 0.3797796</td><td>-0.50319813</td><td> 1.80049938</td><td> 0.79146096</td><td> 0.24767579</td><td>-1.5146543</td><td>...</td><td> 0.247998153</td><td> 0.771679402</td><td> 0.90941226</td><td>-0.68928096</td><td>-0.3276418</td><td>-0.1390966</td><td>-0.055352794</td><td>-0.05975184</td><td>378.66</td><td>0</td></tr>\n",
       "\t<tr><th scope=row>4</th><td>1</td><td>-0.9662717</td><td>-0.18522601</td><td>1.7929933</td><td>-0.8632913</td><td>-0.01030888</td><td> 1.24720317</td><td> 0.23760894</td><td> 0.37743587</td><td>-1.3870241</td><td>...</td><td>-0.108300452</td><td> 0.005273597</td><td>-0.19032052</td><td>-1.17557533</td><td> 0.6473760</td><td>-0.2219288</td><td> 0.062722849</td><td> 0.06145763</td><td>123.50</td><td>0</td></tr>\n",
       "\t<tr><th scope=row>5</th><td>2</td><td>-1.1582331</td><td> 0.87773675</td><td>1.5487178</td><td> 0.4030339</td><td>-0.40719338</td><td> 0.09592146</td><td> 0.59294075</td><td>-0.27053268</td><td> 0.8177393</td><td>...</td><td>-0.009430697</td><td> 0.798278495</td><td>-0.13745808</td><td> 0.14126698</td><td>-0.2060096</td><td> 0.5022922</td><td> 0.219422230</td><td> 0.21515315</td><td> 69.99</td><td>0</td></tr>\n",
       "\t<tr><th scope=row>6</th><td>2</td><td>-0.4259659</td><td> 0.96052304</td><td>1.1411093</td><td>-0.1682521</td><td> 0.42098688</td><td>-0.02972755</td><td> 0.47620095</td><td> 0.26031433</td><td>-0.5686714</td><td>...</td><td>-0.208253515</td><td>-0.559824796</td><td>-0.02639767</td><td>-0.37142658</td><td>-0.2327938</td><td> 0.1059148</td><td> 0.253844225</td><td> 0.08108026</td><td>  3.67</td><td>0</td></tr>\n",
       "</tbody>\n",
       "</table>\n"
      ],
      "text/latex": [
       "A data.frame: 6 × 31\n",
       "\\begin{tabular}{r|lllllllllllllllllllll}\n",
       "  & Time & V1 & V2 & V3 & V4 & V5 & V6 & V7 & V8 & V9 & ... & V21 & V22 & V23 & V24 & V25 & V26 & V27 & V28 & Amount & Class\\\\\n",
       "  & <dbl> & <dbl> & <dbl> & <dbl> & <dbl> & <dbl> & <dbl> & <dbl> & <dbl> & <dbl> & ... & <dbl> & <dbl> & <dbl> & <dbl> & <dbl> & <dbl> & <dbl> & <dbl> & <dbl> & <int>\\\\\n",
       "\\hline\n",
       "\t1 & 0 & -1.3598071 & -0.07278117 & 2.5363467 &  1.3781552 & -0.33832077 &  0.46238778 &  0.23959855 &  0.09869790 &  0.3637870 & ... & -0.018306778 &  0.277837576 & -0.11047391 &  0.06692807 &  0.1285394 & -0.1891148 &  0.133558377 & -0.02105305 & 149.62 & 0\\\\\n",
       "\t2 & 0 &  1.1918571 &  0.26615071 & 0.1664801 &  0.4481541 &  0.06001765 & -0.08236081 & -0.07880298 &  0.08510165 & -0.2554251 & ... & -0.225775248 & -0.638671953 &  0.10128802 & -0.33984648 &  0.1671704 &  0.1258945 & -0.008983099 &  0.01472417 &   2.69 & 0\\\\\n",
       "\t3 & 1 & -1.3583541 & -1.34016307 & 1.7732093 &  0.3797796 & -0.50319813 &  1.80049938 &  0.79146096 &  0.24767579 & -1.5146543 & ... &  0.247998153 &  0.771679402 &  0.90941226 & -0.68928096 & -0.3276418 & -0.1390966 & -0.055352794 & -0.05975184 & 378.66 & 0\\\\\n",
       "\t4 & 1 & -0.9662717 & -0.18522601 & 1.7929933 & -0.8632913 & -0.01030888 &  1.24720317 &  0.23760894 &  0.37743587 & -1.3870241 & ... & -0.108300452 &  0.005273597 & -0.19032052 & -1.17557533 &  0.6473760 & -0.2219288 &  0.062722849 &  0.06145763 & 123.50 & 0\\\\\n",
       "\t5 & 2 & -1.1582331 &  0.87773675 & 1.5487178 &  0.4030339 & -0.40719338 &  0.09592146 &  0.59294075 & -0.27053268 &  0.8177393 & ... & -0.009430697 &  0.798278495 & -0.13745808 &  0.14126698 & -0.2060096 &  0.5022922 &  0.219422230 &  0.21515315 &  69.99 & 0\\\\\n",
       "\t6 & 2 & -0.4259659 &  0.96052304 & 1.1411093 & -0.1682521 &  0.42098688 & -0.02972755 &  0.47620095 &  0.26031433 & -0.5686714 & ... & -0.208253515 & -0.559824796 & -0.02639767 & -0.37142658 & -0.2327938 &  0.1059148 &  0.253844225 &  0.08108026 &   3.67 & 0\\\\\n",
       "\\end{tabular}\n"
      ],
      "text/markdown": [
       "\n",
       "A data.frame: 6 × 31\n",
       "\n",
       "| <!--/--> | Time &lt;dbl&gt; | V1 &lt;dbl&gt; | V2 &lt;dbl&gt; | V3 &lt;dbl&gt; | V4 &lt;dbl&gt; | V5 &lt;dbl&gt; | V6 &lt;dbl&gt; | V7 &lt;dbl&gt; | V8 &lt;dbl&gt; | V9 &lt;dbl&gt; | ... ... | V21 &lt;dbl&gt; | V22 &lt;dbl&gt; | V23 &lt;dbl&gt; | V24 &lt;dbl&gt; | V25 &lt;dbl&gt; | V26 &lt;dbl&gt; | V27 &lt;dbl&gt; | V28 &lt;dbl&gt; | Amount &lt;dbl&gt; | Class &lt;int&gt; |\n",
       "|---|---|---|---|---|---|---|---|---|---|---|---|---|---|---|---|---|---|---|---|---|---|\n",
       "| 1 | 0 | -1.3598071 | -0.07278117 | 2.5363467 |  1.3781552 | -0.33832077 |  0.46238778 |  0.23959855 |  0.09869790 |  0.3637870 | ... | -0.018306778 |  0.277837576 | -0.11047391 |  0.06692807 |  0.1285394 | -0.1891148 |  0.133558377 | -0.02105305 | 149.62 | 0 |\n",
       "| 2 | 0 |  1.1918571 |  0.26615071 | 0.1664801 |  0.4481541 |  0.06001765 | -0.08236081 | -0.07880298 |  0.08510165 | -0.2554251 | ... | -0.225775248 | -0.638671953 |  0.10128802 | -0.33984648 |  0.1671704 |  0.1258945 | -0.008983099 |  0.01472417 |   2.69 | 0 |\n",
       "| 3 | 1 | -1.3583541 | -1.34016307 | 1.7732093 |  0.3797796 | -0.50319813 |  1.80049938 |  0.79146096 |  0.24767579 | -1.5146543 | ... |  0.247998153 |  0.771679402 |  0.90941226 | -0.68928096 | -0.3276418 | -0.1390966 | -0.055352794 | -0.05975184 | 378.66 | 0 |\n",
       "| 4 | 1 | -0.9662717 | -0.18522601 | 1.7929933 | -0.8632913 | -0.01030888 |  1.24720317 |  0.23760894 |  0.37743587 | -1.3870241 | ... | -0.108300452 |  0.005273597 | -0.19032052 | -1.17557533 |  0.6473760 | -0.2219288 |  0.062722849 |  0.06145763 | 123.50 | 0 |\n",
       "| 5 | 2 | -1.1582331 |  0.87773675 | 1.5487178 |  0.4030339 | -0.40719338 |  0.09592146 |  0.59294075 | -0.27053268 |  0.8177393 | ... | -0.009430697 |  0.798278495 | -0.13745808 |  0.14126698 | -0.2060096 |  0.5022922 |  0.219422230 |  0.21515315 |  69.99 | 0 |\n",
       "| 6 | 2 | -0.4259659 |  0.96052304 | 1.1411093 | -0.1682521 |  0.42098688 | -0.02972755 |  0.47620095 |  0.26031433 | -0.5686714 | ... | -0.208253515 | -0.559824796 | -0.02639767 | -0.37142658 | -0.2327938 |  0.1059148 |  0.253844225 |  0.08108026 |   3.67 | 0 |\n",
       "\n"
      ],
      "text/plain": [
       "  Time V1         V2          V3        V4         V5          V6         \n",
       "1 0    -1.3598071 -0.07278117 2.5363467  1.3781552 -0.33832077  0.46238778\n",
       "2 0     1.1918571  0.26615071 0.1664801  0.4481541  0.06001765 -0.08236081\n",
       "3 1    -1.3583541 -1.34016307 1.7732093  0.3797796 -0.50319813  1.80049938\n",
       "4 1    -0.9662717 -0.18522601 1.7929933 -0.8632913 -0.01030888  1.24720317\n",
       "5 2    -1.1582331  0.87773675 1.5487178  0.4030339 -0.40719338  0.09592146\n",
       "6 2    -0.4259659  0.96052304 1.1411093 -0.1682521  0.42098688 -0.02972755\n",
       "  V7          V8          V9         ... V21          V22          V23        \n",
       "1  0.23959855  0.09869790  0.3637870 ... -0.018306778  0.277837576 -0.11047391\n",
       "2 -0.07880298  0.08510165 -0.2554251 ... -0.225775248 -0.638671953  0.10128802\n",
       "3  0.79146096  0.24767579 -1.5146543 ...  0.247998153  0.771679402  0.90941226\n",
       "4  0.23760894  0.37743587 -1.3870241 ... -0.108300452  0.005273597 -0.19032052\n",
       "5  0.59294075 -0.27053268  0.8177393 ... -0.009430697  0.798278495 -0.13745808\n",
       "6  0.47620095  0.26031433 -0.5686714 ... -0.208253515 -0.559824796 -0.02639767\n",
       "  V24         V25        V26        V27          V28         Amount Class\n",
       "1  0.06692807  0.1285394 -0.1891148  0.133558377 -0.02105305 149.62 0    \n",
       "2 -0.33984648  0.1671704  0.1258945 -0.008983099  0.01472417   2.69 0    \n",
       "3 -0.68928096 -0.3276418 -0.1390966 -0.055352794 -0.05975184 378.66 0    \n",
       "4 -1.17557533  0.6473760 -0.2219288  0.062722849  0.06145763 123.50 0    \n",
       "5  0.14126698 -0.2060096  0.5022922  0.219422230  0.21515315  69.99 0    \n",
       "6 -0.37142658 -0.2327938  0.1059148  0.253844225  0.08108026   3.67 0    "
      ]
     },
     "metadata": {},
     "output_type": "display_data"
    }
   ],
   "source": [
    "head(creditcard_data)"
   ]
  },
  {
   "cell_type": "code",
   "execution_count": 12,
   "id": "88852dad-766a-4946-a9ba-ab0743edde19",
   "metadata": {},
   "outputs": [
    {
     "data": {
      "text/html": [
       "<table class=\"dataframe\">\n",
       "<caption>A data.frame: 6 × 30</caption>\n",
       "<thead>\n",
       "\t<tr><th></th><th scope=col>V1</th><th scope=col>V2</th><th scope=col>V3</th><th scope=col>V4</th><th scope=col>V5</th><th scope=col>V6</th><th scope=col>V7</th><th scope=col>V8</th><th scope=col>V9</th><th scope=col>V10</th><th scope=col>...</th><th scope=col>V21</th><th scope=col>V22</th><th scope=col>V23</th><th scope=col>V24</th><th scope=col>V25</th><th scope=col>V26</th><th scope=col>V27</th><th scope=col>V28</th><th scope=col>Amount</th><th scope=col>Class</th></tr>\n",
       "\t<tr><th></th><th scope=col>&lt;dbl&gt;</th><th scope=col>&lt;dbl&gt;</th><th scope=col>&lt;dbl&gt;</th><th scope=col>&lt;dbl&gt;</th><th scope=col>&lt;dbl&gt;</th><th scope=col>&lt;dbl&gt;</th><th scope=col>&lt;dbl&gt;</th><th scope=col>&lt;dbl&gt;</th><th scope=col>&lt;dbl&gt;</th><th scope=col>&lt;dbl&gt;</th><th scope=col>...</th><th scope=col>&lt;dbl&gt;</th><th scope=col>&lt;dbl&gt;</th><th scope=col>&lt;dbl&gt;</th><th scope=col>&lt;dbl&gt;</th><th scope=col>&lt;dbl&gt;</th><th scope=col>&lt;dbl&gt;</th><th scope=col>&lt;dbl&gt;</th><th scope=col>&lt;dbl&gt;</th><th scope=col>&lt;dbl[,1]&gt;</th><th scope=col>&lt;fct&gt;</th></tr>\n",
       "</thead>\n",
       "<tbody>\n",
       "\t<tr><th scope=row>1</th><td>-1.3598071</td><td>-0.07278117</td><td>2.5363467</td><td> 1.3781552</td><td>-0.33832077</td><td> 0.46238778</td><td> 0.23959855</td><td> 0.09869790</td><td> 0.3637870</td><td> 0.09079417</td><td>...</td><td>-0.018306778</td><td> 0.277837576</td><td>-0.11047391</td><td> 0.06692807</td><td> 0.1285394</td><td>-0.1891148</td><td> 0.133558377</td><td>-0.02105305</td><td> 0.24496383</td><td>0</td></tr>\n",
       "\t<tr><th scope=row>2</th><td> 1.1918571</td><td> 0.26615071</td><td>0.1664801</td><td> 0.4481541</td><td> 0.06001765</td><td>-0.08236081</td><td>-0.07880298</td><td> 0.08510165</td><td>-0.2554251</td><td>-0.16697441</td><td>...</td><td>-0.225775248</td><td>-0.638671953</td><td> 0.10128802</td><td>-0.33984648</td><td> 0.1671704</td><td> 0.1258945</td><td>-0.008983099</td><td> 0.01472417</td><td>-0.34247394</td><td>0</td></tr>\n",
       "\t<tr><th scope=row>3</th><td>-1.3583541</td><td>-1.34016307</td><td>1.7732093</td><td> 0.3797796</td><td>-0.50319813</td><td> 1.80049938</td><td> 0.79146096</td><td> 0.24767579</td><td>-1.5146543</td><td> 0.20764287</td><td>...</td><td> 0.247998153</td><td> 0.771679402</td><td> 0.90941226</td><td>-0.68928096</td><td>-0.3276418</td><td>-0.1390966</td><td>-0.055352794</td><td>-0.05975184</td><td> 1.16068389</td><td>0</td></tr>\n",
       "\t<tr><th scope=row>4</th><td>-0.9662717</td><td>-0.18522601</td><td>1.7929933</td><td>-0.8632913</td><td>-0.01030888</td><td> 1.24720317</td><td> 0.23760894</td><td> 0.37743587</td><td>-1.3870241</td><td>-0.05495192</td><td>...</td><td>-0.108300452</td><td> 0.005273597</td><td>-0.19032052</td><td>-1.17557533</td><td> 0.6473760</td><td>-0.2219288</td><td> 0.062722849</td><td> 0.06145763</td><td> 0.14053401</td><td>0</td></tr>\n",
       "\t<tr><th scope=row>5</th><td>-1.1582331</td><td> 0.87773675</td><td>1.5487178</td><td> 0.4030339</td><td>-0.40719338</td><td> 0.09592146</td><td> 0.59294075</td><td>-0.27053268</td><td> 0.8177393</td><td> 0.75307443</td><td>...</td><td>-0.009430697</td><td> 0.798278495</td><td>-0.13745808</td><td> 0.14126698</td><td>-0.2060096</td><td> 0.5022922</td><td> 0.219422230</td><td> 0.21515315</td><td>-0.07340321</td><td>0</td></tr>\n",
       "\t<tr><th scope=row>6</th><td>-0.4259659</td><td> 0.96052304</td><td>1.1411093</td><td>-0.1682521</td><td> 0.42098688</td><td>-0.02972755</td><td> 0.47620095</td><td> 0.26031433</td><td>-0.5686714</td><td>-0.37140720</td><td>...</td><td>-0.208253515</td><td>-0.559824796</td><td>-0.02639767</td><td>-0.37142658</td><td>-0.2327938</td><td> 0.1059148</td><td> 0.253844225</td><td> 0.08108026</td><td>-0.33855582</td><td>0</td></tr>\n",
       "</tbody>\n",
       "</table>\n"
      ],
      "text/latex": [
       "A data.frame: 6 × 30\n",
       "\\begin{tabular}{r|lllllllllllllllllllll}\n",
       "  & V1 & V2 & V3 & V4 & V5 & V6 & V7 & V8 & V9 & V10 & ... & V21 & V22 & V23 & V24 & V25 & V26 & V27 & V28 & Amount & Class\\\\\n",
       "  & <dbl> & <dbl> & <dbl> & <dbl> & <dbl> & <dbl> & <dbl> & <dbl> & <dbl> & <dbl> & ... & <dbl> & <dbl> & <dbl> & <dbl> & <dbl> & <dbl> & <dbl> & <dbl> & <dbl{[},1{]}> & <fct>\\\\\n",
       "\\hline\n",
       "\t1 & -1.3598071 & -0.07278117 & 2.5363467 &  1.3781552 & -0.33832077 &  0.46238778 &  0.23959855 &  0.09869790 &  0.3637870 &  0.09079417 & ... & -0.018306778 &  0.277837576 & -0.11047391 &  0.06692807 &  0.1285394 & -0.1891148 &  0.133558377 & -0.02105305 &  0.24496383 & 0\\\\\n",
       "\t2 &  1.1918571 &  0.26615071 & 0.1664801 &  0.4481541 &  0.06001765 & -0.08236081 & -0.07880298 &  0.08510165 & -0.2554251 & -0.16697441 & ... & -0.225775248 & -0.638671953 &  0.10128802 & -0.33984648 &  0.1671704 &  0.1258945 & -0.008983099 &  0.01472417 & -0.34247394 & 0\\\\\n",
       "\t3 & -1.3583541 & -1.34016307 & 1.7732093 &  0.3797796 & -0.50319813 &  1.80049938 &  0.79146096 &  0.24767579 & -1.5146543 &  0.20764287 & ... &  0.247998153 &  0.771679402 &  0.90941226 & -0.68928096 & -0.3276418 & -0.1390966 & -0.055352794 & -0.05975184 &  1.16068389 & 0\\\\\n",
       "\t4 & -0.9662717 & -0.18522601 & 1.7929933 & -0.8632913 & -0.01030888 &  1.24720317 &  0.23760894 &  0.37743587 & -1.3870241 & -0.05495192 & ... & -0.108300452 &  0.005273597 & -0.19032052 & -1.17557533 &  0.6473760 & -0.2219288 &  0.062722849 &  0.06145763 &  0.14053401 & 0\\\\\n",
       "\t5 & -1.1582331 &  0.87773675 & 1.5487178 &  0.4030339 & -0.40719338 &  0.09592146 &  0.59294075 & -0.27053268 &  0.8177393 &  0.75307443 & ... & -0.009430697 &  0.798278495 & -0.13745808 &  0.14126698 & -0.2060096 &  0.5022922 &  0.219422230 &  0.21515315 & -0.07340321 & 0\\\\\n",
       "\t6 & -0.4259659 &  0.96052304 & 1.1411093 & -0.1682521 &  0.42098688 & -0.02972755 &  0.47620095 &  0.26031433 & -0.5686714 & -0.37140720 & ... & -0.208253515 & -0.559824796 & -0.02639767 & -0.37142658 & -0.2327938 &  0.1059148 &  0.253844225 &  0.08108026 & -0.33855582 & 0\\\\\n",
       "\\end{tabular}\n"
      ],
      "text/markdown": [
       "\n",
       "A data.frame: 6 × 30\n",
       "\n",
       "| <!--/--> | V1 &lt;dbl&gt; | V2 &lt;dbl&gt; | V3 &lt;dbl&gt; | V4 &lt;dbl&gt; | V5 &lt;dbl&gt; | V6 &lt;dbl&gt; | V7 &lt;dbl&gt; | V8 &lt;dbl&gt; | V9 &lt;dbl&gt; | V10 &lt;dbl&gt; | ... ... | V21 &lt;dbl&gt; | V22 &lt;dbl&gt; | V23 &lt;dbl&gt; | V24 &lt;dbl&gt; | V25 &lt;dbl&gt; | V26 &lt;dbl&gt; | V27 &lt;dbl&gt; | V28 &lt;dbl&gt; | Amount &lt;dbl[,1]&gt; | Class &lt;fct&gt; |\n",
       "|---|---|---|---|---|---|---|---|---|---|---|---|---|---|---|---|---|---|---|---|---|---|\n",
       "| 1 | -1.3598071 | -0.07278117 | 2.5363467 |  1.3781552 | -0.33832077 |  0.46238778 |  0.23959855 |  0.09869790 |  0.3637870 |  0.09079417 | ... | -0.018306778 |  0.277837576 | -0.11047391 |  0.06692807 |  0.1285394 | -0.1891148 |  0.133558377 | -0.02105305 |  0.24496383 | 0 |\n",
       "| 2 |  1.1918571 |  0.26615071 | 0.1664801 |  0.4481541 |  0.06001765 | -0.08236081 | -0.07880298 |  0.08510165 | -0.2554251 | -0.16697441 | ... | -0.225775248 | -0.638671953 |  0.10128802 | -0.33984648 |  0.1671704 |  0.1258945 | -0.008983099 |  0.01472417 | -0.34247394 | 0 |\n",
       "| 3 | -1.3583541 | -1.34016307 | 1.7732093 |  0.3797796 | -0.50319813 |  1.80049938 |  0.79146096 |  0.24767579 | -1.5146543 |  0.20764287 | ... |  0.247998153 |  0.771679402 |  0.90941226 | -0.68928096 | -0.3276418 | -0.1390966 | -0.055352794 | -0.05975184 |  1.16068389 | 0 |\n",
       "| 4 | -0.9662717 | -0.18522601 | 1.7929933 | -0.8632913 | -0.01030888 |  1.24720317 |  0.23760894 |  0.37743587 | -1.3870241 | -0.05495192 | ... | -0.108300452 |  0.005273597 | -0.19032052 | -1.17557533 |  0.6473760 | -0.2219288 |  0.062722849 |  0.06145763 |  0.14053401 | 0 |\n",
       "| 5 | -1.1582331 |  0.87773675 | 1.5487178 |  0.4030339 | -0.40719338 |  0.09592146 |  0.59294075 | -0.27053268 |  0.8177393 |  0.75307443 | ... | -0.009430697 |  0.798278495 | -0.13745808 |  0.14126698 | -0.2060096 |  0.5022922 |  0.219422230 |  0.21515315 | -0.07340321 | 0 |\n",
       "| 6 | -0.4259659 |  0.96052304 | 1.1411093 | -0.1682521 |  0.42098688 | -0.02972755 |  0.47620095 |  0.26031433 | -0.5686714 | -0.37140720 | ... | -0.208253515 | -0.559824796 | -0.02639767 | -0.37142658 | -0.2327938 |  0.1059148 |  0.253844225 |  0.08108026 | -0.33855582 | 0 |\n",
       "\n"
      ],
      "text/plain": [
       "  V1         V2          V3        V4         V5          V6         \n",
       "1 -1.3598071 -0.07278117 2.5363467  1.3781552 -0.33832077  0.46238778\n",
       "2  1.1918571  0.26615071 0.1664801  0.4481541  0.06001765 -0.08236081\n",
       "3 -1.3583541 -1.34016307 1.7732093  0.3797796 -0.50319813  1.80049938\n",
       "4 -0.9662717 -0.18522601 1.7929933 -0.8632913 -0.01030888  1.24720317\n",
       "5 -1.1582331  0.87773675 1.5487178  0.4030339 -0.40719338  0.09592146\n",
       "6 -0.4259659  0.96052304 1.1411093 -0.1682521  0.42098688 -0.02972755\n",
       "  V7          V8          V9         V10         ... V21          V22         \n",
       "1  0.23959855  0.09869790  0.3637870  0.09079417 ... -0.018306778  0.277837576\n",
       "2 -0.07880298  0.08510165 -0.2554251 -0.16697441 ... -0.225775248 -0.638671953\n",
       "3  0.79146096  0.24767579 -1.5146543  0.20764287 ...  0.247998153  0.771679402\n",
       "4  0.23760894  0.37743587 -1.3870241 -0.05495192 ... -0.108300452  0.005273597\n",
       "5  0.59294075 -0.27053268  0.8177393  0.75307443 ... -0.009430697  0.798278495\n",
       "6  0.47620095  0.26031433 -0.5686714 -0.37140720 ... -0.208253515 -0.559824796\n",
       "  V23         V24         V25        V26        V27          V28        \n",
       "1 -0.11047391  0.06692807  0.1285394 -0.1891148  0.133558377 -0.02105305\n",
       "2  0.10128802 -0.33984648  0.1671704  0.1258945 -0.008983099  0.01472417\n",
       "3  0.90941226 -0.68928096 -0.3276418 -0.1390966 -0.055352794 -0.05975184\n",
       "4 -0.19032052 -1.17557533  0.6473760 -0.2219288  0.062722849  0.06145763\n",
       "5 -0.13745808  0.14126698 -0.2060096  0.5022922  0.219422230  0.21515315\n",
       "6 -0.02639767 -0.37142658 -0.2327938  0.1059148  0.253844225  0.08108026\n",
       "  Amount      Class\n",
       "1  0.24496383 0    \n",
       "2 -0.34247394 0    \n",
       "3  1.16068389 0    \n",
       "4  0.14053401 0    \n",
       "5 -0.07340321 0    \n",
       "6 -0.33855582 0    "
      ]
     },
     "metadata": {},
     "output_type": "display_data"
    }
   ],
   "source": [
    "# Scaling Amount column using standardization and remove the Time solumn from the datasset\n",
    "new_creditcard_data <- creditcard_data %>%\n",
    "mutate(Amount = scale(creditcard_data$Amount),\n",
    "       Time = NULL,\n",
    "       Class = as.factor(creditcard_data$Class)\n",
    "      )\n",
    "\n",
    "head(new_creditcard_data)"
   ]
  },
  {
   "cell_type": "markdown",
   "id": "3d9cb223-2ecf-4623-90fb-bca393f6fdad",
   "metadata": {},
   "source": [
    "## 5. Data Modeling \n",
    "\n",
    "After we have standardized our entire dataset, we will split our dataset into training set as well as test set with a split ratio of 0.80. This means that 80% of our data will be attributed to the `train_data` whereas 20% will be attributed to the `test_data`. We will then find the dimensions using the `dim()` function."
   ]
  },
  {
   "cell_type": "code",
   "execution_count": 13,
   "id": "7d6a9dc7-41fe-41a9-94e4-dffef58dbc80",
   "metadata": {},
   "outputs": [],
   "source": [
    "library(caTools)\n",
    "set.seed(123)\n",
    "\n",
    "# Specify split\n",
    "split <- sample.split(new_creditcard_data$Class, SplitRatio = 0.8)\n",
    "\n",
    "# Create training set\n",
    "train_data <- subset(new_creditcard_data, split == TRUE)\n",
    "\n",
    "# Create test set\n",
    "test_data <- subset(new_creditcard_data, split == FALSE)"
   ]
  },
  {
   "cell_type": "code",
   "execution_count": 14,
   "id": "9795cd22-90b2-486d-b3d6-1fe55090d4ae",
   "metadata": {},
   "outputs": [
    {
     "data": {
      "text/html": [
       "<style>\n",
       ".list-inline {list-style: none; margin:0; padding: 0}\n",
       ".list-inline>li {display: inline-block}\n",
       ".list-inline>li:not(:last-child)::after {content: \"\\00b7\"; padding: 0 .5ex}\n",
       "</style>\n",
       "<ol class=list-inline><li>227846</li><li>30</li></ol>\n"
      ],
      "text/latex": [
       "\\begin{enumerate*}\n",
       "\\item 227846\n",
       "\\item 30\n",
       "\\end{enumerate*}\n"
      ],
      "text/markdown": [
       "1. 227846\n",
       "2. 30\n",
       "\n",
       "\n"
      ],
      "text/plain": [
       "[1] 227846     30"
      ]
     },
     "metadata": {},
     "output_type": "display_data"
    },
    {
     "data": {
      "text/html": [
       "<style>\n",
       ".list-inline {list-style: none; margin:0; padding: 0}\n",
       ".list-inline>li {display: inline-block}\n",
       ".list-inline>li:not(:last-child)::after {content: \"\\00b7\"; padding: 0 .5ex}\n",
       "</style>\n",
       "<ol class=list-inline><li>56961</li><li>30</li></ol>\n"
      ],
      "text/latex": [
       "\\begin{enumerate*}\n",
       "\\item 56961\n",
       "\\item 30\n",
       "\\end{enumerate*}\n"
      ],
      "text/markdown": [
       "1. 56961\n",
       "2. 30\n",
       "\n",
       "\n"
      ],
      "text/plain": [
       "[1] 56961    30"
      ]
     },
     "metadata": {},
     "output_type": "display_data"
    }
   ],
   "source": [
    "dim(train_data)\n",
    "dim(test_data)"
   ]
  },
  {
   "cell_type": "markdown",
   "id": "4d58c791-b0bf-4852-834e-352e1a007177",
   "metadata": {},
   "source": [
    "### 5.1 Fitting Logistic Regression Model\n",
    "\n",
    "Next, we will fit our logistic regression model to find the best possible fit between our predictor and target variable. A logistic regression is used for modeling the outcome probability of a class such as pass/fail, positive/negative and in our case – fraud/not fraud."
   ]
  },
  {
   "cell_type": "code",
   "execution_count": 15,
   "id": "30ea4d9c-b295-4cc2-9b53-d72dff3b2ab9",
   "metadata": {},
   "outputs": [
    {
     "data": {
      "text/plain": [
       "\n",
       "Call:\n",
       "glm(formula = Class ~ ., family = \"binomial\", data = train_data)\n",
       "\n",
       "Deviance Residuals: \n",
       "    Min       1Q   Median       3Q      Max  \n",
       "-4.6108  -0.0292  -0.0194  -0.0125   4.6021  \n",
       "\n",
       "Coefficients:\n",
       "             Estimate Std. Error z value Pr(>|z|)    \n",
       "(Intercept) -8.651305   0.160212 -53.999  < 2e-16 ***\n",
       "V1           0.072540   0.044144   1.643 0.100332    \n",
       "V2           0.014818   0.059777   0.248 0.804220    \n",
       "V3           0.026109   0.049776   0.525 0.599906    \n",
       "V4           0.681286   0.078071   8.726  < 2e-16 ***\n",
       "V5           0.087938   0.071553   1.229 0.219079    \n",
       "V6          -0.148083   0.085192  -1.738 0.082170 .  \n",
       "V7          -0.117344   0.068940  -1.702 0.088731 .  \n",
       "V8          -0.146045   0.035667  -4.095 4.23e-05 ***\n",
       "V9          -0.339828   0.117595  -2.890 0.003855 ** \n",
       "V10         -0.785462   0.098486  -7.975 1.52e-15 ***\n",
       "V11          0.001492   0.085147   0.018 0.986018    \n",
       "V12          0.087106   0.094869   0.918 0.358532    \n",
       "V13         -0.343792   0.092381  -3.721 0.000198 ***\n",
       "V14         -0.526828   0.067084  -7.853 4.05e-15 ***\n",
       "V15         -0.095471   0.094037  -1.015 0.309991    \n",
       "V16         -0.130225   0.138629  -0.939 0.347537    \n",
       "V17          0.032463   0.074471   0.436 0.662900    \n",
       "V18         -0.100964   0.140985  -0.716 0.473909    \n",
       "V19          0.083711   0.105134   0.796 0.425897    \n",
       "V20         -0.463946   0.081871  -5.667 1.46e-08 ***\n",
       "V21          0.381206   0.065880   5.786 7.19e-09 ***\n",
       "V22          0.610874   0.142086   4.299 1.71e-05 ***\n",
       "V23         -0.071406   0.058799  -1.214 0.224589    \n",
       "V24          0.255791   0.170568   1.500 0.133706    \n",
       "V25         -0.073955   0.142634  -0.519 0.604109    \n",
       "V26          0.120841   0.202553   0.597 0.550783    \n",
       "V27         -0.852018   0.118391  -7.197 6.17e-13 ***\n",
       "V28         -0.323854   0.090075  -3.595 0.000324 ***\n",
       "Amount       0.292477   0.092075   3.177 0.001491 ** \n",
       "---\n",
       "Signif. codes:  0 '***' 0.001 '**' 0.01 '*' 0.05 '.' 0.1 ' ' 1\n",
       "\n",
       "(Dispersion parameter for binomial family taken to be 1)\n",
       "\n",
       "    Null deviance: 5799.1  on 227845  degrees of freedom\n",
       "Residual deviance: 1790.9  on 227816  degrees of freedom\n",
       "AIC: 1850.9\n",
       "\n",
       "Number of Fisher Scoring iterations: 12\n"
      ]
     },
     "metadata": {},
     "output_type": "display_data"
    }
   ],
   "source": [
    "# Fitting the logistic model\n",
    "logistic_model <- glm(Class ~ ., train_data, family = \"binomial\")\n",
    "\n",
    "summary(logistic_model)"
   ]
  },
  {
   "cell_type": "code",
   "execution_count": 16,
   "id": "22c56fa5-1e20-45db-95dc-1c9a9bc5840a",
   "metadata": {},
   "outputs": [
    {
     "data": {
      "image/png": "[encoded data removed]",
      "text/plain": [
       "Plot with title \"\""
      ]
     },
     "metadata": {
      "image/png": {
       "height": 420,
       "width": 420
      }
     },
     "output_type": "display_data"
    },
    {
     "data": {
      "image/png": "[encoded data removed]",
      "text/plain": [
       "Plot with title \"\""
      ]
     },
     "metadata": {
      "image/png": {
       "height": 420,
       "width": 420
      }
     },
     "output_type": "display_data"
    },
    {
     "data": {
      "image/png": "[encoded data removed]",
      "text/plain": [
       "Plot with title \"\""
      ]
     },
     "metadata": {
      "image/png": {
       "height": 420,
       "width": 420
      }
     },
     "output_type": "display_data"
    },
    {
     "data": {
      "image/png": "[encoded data removed]",
      "text/plain": [
       "Plot with title \"\""
      ]
     },
     "metadata": {
      "image/png": {
       "height": 420,
       "width": 420
      }
     },
     "output_type": "display_data"
    }
   ],
   "source": [
    "plot(logistic_model)"
   ]
  },
  {
   "cell_type": "markdown",
   "id": "69d2742e-1b1d-46cf-80bd-b36c373a0cff",
   "metadata": {},
   "source": [
    "#### Model Evaluation: Plotting the ROC-AUC Curve\n",
    "In order to assess the performance of our model, we will delineate the ROC (Receiver Operating Characteristic) curve. The ROC curve plots the true positive (TP) rate versus the false positive (FP) rate at different classification thresholds. The thresholds are different probability cutoffs that separate the two classes in binary classification. It uses probability to tell us how well a model separates the classes."
   ]
  },
  {
   "cell_type": "code",
   "execution_count": 17,
   "id": "e49f4b06-0e19-4e6e-b744-1fb54e89b158",
   "metadata": {},
   "outputs": [
    {
     "name": "stderr",
     "output_type": "stream",
     "text": [
      "Type 'citation(\"pROC\")' for a citation.\n",
      "\n",
      "\n",
      "Attaching package: 'pROC'\n",
      "\n",
      "\n",
      "The following objects are masked from 'package:stats':\n",
      "\n",
      "    cov, smooth, var\n",
      "\n",
      "\n",
      "Setting levels: control = 0, case = 1\n",
      "\n",
      "Setting direction: controls < cases\n",
      "\n"
     ]
    },
    {
     "data": {
      "text/plain": [
       "\n",
       "Call:\n",
       "roc.default(response = test_data$Class, predictor = logistic_predictions,     plot = TRUE, col = \"blue\")\n",
       "\n",
       "Data: logistic_predictions in 56863 controls (test_data$Class 0) < 98 cases (test_data$Class 1).\n",
       "Area under the curve: 0.9748"
      ]
     },
     "metadata": {},
     "output_type": "display_data"
    },
    {
     "data": {
      "image/png": "[encoded data removed]",
      "text/plain": [
       "plot without title"
      ]
     },
     "metadata": {
      "image/png": {
       "height": 420,
       "width": 420
      }
     },
     "output_type": "display_data"
    }
   ],
   "source": [
    "logistic_predictions <- predict(logistic_model, test_data, type = \"response\")\n",
    "\n",
    "library(pROC)\n",
    "roc(test_data$Class, logistic_predictions, plot = TRUE, col = \"blue\")"
   ]
  },
  {
   "cell_type": "markdown",
   "id": "7abef715-6807-4979-9137-058d02911ce0",
   "metadata": {},
   "source": [
    "From the logistic regression, we got the area under the ROC curve: 0.9748. This means that there is approximately a 97% chance that the model will be able to distinguish between fraudulent and non-fraudulent transactions."
   ]
  },
  {
   "cell_type": "markdown",
   "id": "051dd60e-67a7-4bff-a973-2001b3110456",
   "metadata": {},
   "source": [
    "### 5.2 Decision Tree Model\n",
    "\n",
    "In this section, we will implement a decision tree algorithm. **Decision Trees** plot the outcomes of a decision. These outcomes are a consequence through which we can conclude as to what class the object belongs to. We will now implement our decision tree model and will plot it using the `rpart.plot()` function. We will specifically use the recursive parting to plot the decision tree."
   ]
  },
  {
   "cell_type": "code",
   "execution_count": 18,
   "id": "1bdf1379-6023-4da2-a6ad-f80fa96df80b",
   "metadata": {},
   "outputs": [
    {
     "data": {
      "image/png": "[encoded data removed]",
      "text/plain": [
       "Plot with title \"Decision Tree for Credit Card Fraud Detection\""
      ]
     },
     "metadata": {
      "image/png": {
       "height": 420,
       "width": 420
      }
     },
     "output_type": "display_data"
    }
   ],
   "source": [
    "library(rpart)\n",
    "library(rpart.plot)\n",
    "\n",
    "# Build the decision tree model\n",
    "decisiontree_model <- rpart(Class ~ ., train_data, method = \"class\")\n",
    "\n",
    "# Plot the decision tree\n",
    "rpart.plot(decisiontree_model, main = \"Decision Tree for Credit Card Fraud Detection\")"
   ]
  },
  {
   "cell_type": "markdown",
   "id": "4d7fe103-fa68-4dbe-8c26-ff847729dfe2",
   "metadata": {},
   "source": [
    "The plot above provides a visual representation of the decision-making process for classifying whether a transaction is non-fraudulent (0) or fraudulent (1). We can see that V17 is the most important variable that separates fraudulent and non-fraudulent transactions."
   ]
  },
  {
   "cell_type": "markdown",
   "id": "533548c1-2fb5-4a83-9fa7-9617156a6286",
   "metadata": {},
   "source": [
    "#### Model Evaluation: Predictions with Decision Tree Model\n",
    "\n",
    "Next, we will use the decision tree to make predictions on our test data. To do that, we take our tree and test data to make predictions based on the derived model. Finally, we can evaluate the performance of our model by creating a confusion matrix, which provides a summary of the prediction results on the test data."
   ]
  },
  {
   "cell_type": "code",
   "execution_count": 19,
   "id": "4920be7f-8539-410c-a7a2-3e7206825f26",
   "metadata": {},
   "outputs": [
    {
     "data": {
      "text/plain": [
       "Confusion Matrix and Statistics\n",
       "\n",
       "          Reference\n",
       "Prediction     0     1\n",
       "         0 56845    21\n",
       "         1    18    77\n",
       "                                          \n",
       "               Accuracy : 0.9993          \n",
       "                 95% CI : (0.9991, 0.9995)\n",
       "    No Information Rate : 0.9983          \n",
       "    P-Value [Acc > NIR] : 9.766e-12       \n",
       "                                          \n",
       "                  Kappa : 0.7976          \n",
       "                                          \n",
       " Mcnemar's Test P-Value : 0.7488          \n",
       "                                          \n",
       "            Sensitivity : 0.9997          \n",
       "            Specificity : 0.7857          \n",
       "         Pos Pred Value : 0.9996          \n",
       "         Neg Pred Value : 0.8105          \n",
       "             Prevalence : 0.9983          \n",
       "         Detection Rate : 0.9980          \n",
       "   Detection Prevalence : 0.9983          \n",
       "      Balanced Accuracy : 0.8927          \n",
       "                                          \n",
       "       'Positive' Class : 0               \n",
       "                                          "
      ]
     },
     "metadata": {},
     "output_type": "display_data"
    }
   ],
   "source": [
    "# Predictions on test data\n",
    "decisiontree_predictions <- predict(decisiontree_model, test_data, type = \"class\")\n",
    "\n",
    "# Evaluate the model\n",
    "library(caret)\n",
    "cm <- confusionMatrix(decisiontree_predictions, test_data$Class)\n",
    "cm"
   ]
  },
  {
   "cell_type": "markdown",
   "id": "cf6841cb-a005-4cfb-828c-54b38a12fca5",
   "metadata": {},
   "source": [
    "We can see that with an accuracy of 99.93%, we have successfully determined if a transaction was fraudulent or non-fraudulent in the test dataset."
   ]
  },
  {
   "cell_type": "markdown",
   "id": "d9fee0fe-2237-454e-a82f-ae2627d0210c",
   "metadata": {},
   "source": [
    "### 5.3 Artificial Neural Network\n",
    "\n",
    "**Artificial Neural Networks** are a type of  machine learning algorithm that are modelled after the human nervous system. The ANN models learn patterns using historical data and are able to perform classification on the input data. We import the `neuralnet` package that would allow us to implement our ANNs. We then proceed to plot it using the `plot()` function. In the case of Artificial Neural Networks, there is a range of values between 1 and 0. We set a threshold as 0.5, that is, values above 0.5 will correspond to 1 and the rest will be 0."
   ]
  },
  {
   "cell_type": "code",
   "execution_count": 20,
   "id": "89cbb09b-0021-4bff-b286-38c942d7671c",
   "metadata": {},
   "outputs": [
    {
     "name": "stderr",
     "output_type": "stream",
     "text": [
      "\n",
      "Attaching package: 'neuralnet'\n",
      "\n",
      "\n",
      "The following object is masked from 'package:dplyr':\n",
      "\n",
      "    compute\n",
      "\n",
      "\n"
     ]
    }
   ],
   "source": [
    "library(neuralnet)\n",
    "\n",
    "ANN_model <- neuralnet(Class ~ ., train_data)\n",
    "plot(ANN_model)"
   ]
  },
  {
   "cell_type": "code",
   "execution_count": null,
   "id": "94cb389d-7492-48d6-8949-30edc638dbbd",
   "metadata": {},
   "outputs": [],
   "source": []
  }
 ],
 "metadata": {
  "kernelspec": {
   "display_name": "R",
   "language": "R",
   "name": "ir"
  },
  "language_info": {
   "codemirror_mode": "r",
   "file_extension": ".r",
   "mimetype": "text/x-r-source",
   "name": "R",
   "pygments_lexer": "r",
   "version": "4.3.3"
  }
 },
 "nbformat": 4,
 "nbformat_minor": 5
}
