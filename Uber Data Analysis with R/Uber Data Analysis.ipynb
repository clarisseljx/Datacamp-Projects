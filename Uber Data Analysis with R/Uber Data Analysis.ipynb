{
 "cells": [
  {
   "cell_type": "markdown",
   "id": "8b8a9378-00b4-44b0-ae1e-3fc3c50d56e9",
   "metadata": {},
   "source": [
    "# Uber Data Analysis: R Data Science Project"
   ]
  },
  {
   "cell_type": "markdown",
   "id": "d4822de5-5a4c-4556-9023-37d83cee2bb3",
   "metadata": {},
   "source": [
    "In this R project, we will analyze the [Uber Pickups in New York City](https://drive.google.com/file/d/1emopjfEkTt59jJoBH9L9bSdmlDC4AR87/view) dataset. \n",
    "\n",
    "Data storytelling is an important component of Machine Learning which helps companies understand the background of various operations. With the help of visualization, companies can benefit by understanding complex data and gaining insights that would help them to craft decisions. We will implement `ggplot2` on the Uber Pickups dataset and at the end, master the art of  data visualization in R."
   ]
  },
  {
   "cell_type": "markdown",
   "id": "a0d03af7-f8ce-42d8-9e7e-e2d89222bf72",
   "metadata": {},
   "source": [
    "## 1. Importing the Essential Packages"
   ]
  },
  {
   "cell_type": "code",
   "execution_count": 1,
   "id": "391c40ea-ade6-40a9-9ff4-629608ff3d8b",
   "metadata": {},
   "outputs": [
    {
     "name": "stderr",
     "output_type": "stream",
     "text": [
      "-- \u001b[1mAttaching core tidyverse packages\u001b[22m ------------------------ tidyverse 2.0.0 --\n",
      "\u001b[32mv\u001b[39m \u001b[34mdplyr    \u001b[39m 1.1.4     \u001b[32mv\u001b[39m \u001b[34mreadr    \u001b[39m 2.1.5\n",
      "\u001b[32mv\u001b[39m \u001b[34mforcats  \u001b[39m 1.0.0     \u001b[32mv\u001b[39m \u001b[34mstringr  \u001b[39m 1.5.0\n",
      "\u001b[32mv\u001b[39m \u001b[34mggplot2  \u001b[39m 3.4.2     \u001b[32mv\u001b[39m \u001b[34mtibble   \u001b[39m 3.2.1\n",
      "\u001b[32mv\u001b[39m \u001b[34mlubridate\u001b[39m 1.9.3     \u001b[32mv\u001b[39m \u001b[34mtidyr    \u001b[39m 1.3.1\n",
      "\u001b[32mv\u001b[39m \u001b[34mpurrr    \u001b[39m 1.0.2     \n",
      "-- \u001b[1mConflicts\u001b[22m ------------------------------------------ tidyverse_conflicts() --\n",
      "\u001b[31mx\u001b[39m \u001b[34mdplyr\u001b[39m::\u001b[32mfilter()\u001b[39m masks \u001b[34mstats\u001b[39m::filter()\n",
      "\u001b[31mx\u001b[39m \u001b[34mdplyr\u001b[39m::\u001b[32mlag()\u001b[39m    masks \u001b[34mstats\u001b[39m::lag()\n",
      "\u001b[36mi\u001b[39m Use the conflicted package (\u001b[3m\u001b[34m<http://conflicted.r-lib.org/>\u001b[39m\u001b[23m) to force all conflicts to become errors\n",
      "\n",
      "Attaching package: 'scales'\n",
      "\n",
      "\n",
      "The following object is masked from 'package:purrr':\n",
      "\n",
      "    discard\n",
      "\n",
      "\n",
      "The following object is masked from 'package:readr':\n",
      "\n",
      "    col_factor\n",
      "\n",
      "\n"
     ]
    }
   ],
   "source": [
    "# Import necessary packages used in this Uber Data Analysis Project\n",
    "library(tidyverse)\n",
    "library(ggthemes)\n",
    "library(scales)\n",
    "library(DT)"
   ]
  },
  {
   "cell_type": "markdown",
   "id": "72c7e04d-85ef-42cb-96bf-41a1870d05c7",
   "metadata": {},
   "source": [
    "## 2. Creating vector of colors to be implemented in our plots"
   ]
  },
  {
   "cell_type": "code",
   "execution_count": 2,
   "id": "1198a667-f070-44ed-b803-cfd75cdc5c2e",
   "metadata": {},
   "outputs": [
    {
     "data": {
      "text/html": [
       "<style>\n",
       ".list-inline {list-style: none; margin:0; padding: 0}\n",
       ".list-inline>li {display: inline-block}\n",
       ".list-inline>li:not(:last-child)::after {content: \"\\00b7\"; padding: 0 .5ex}\n",
       "</style>\n",
       "<ol class=list-inline><li>'#CC1011'</li><li>'#665555'</li><li>'#05a399'</li><li>'#cfcaca'</li><li>'#f5e840'</li><li>'#0683c9'</li><li>'#e075b0'</li></ol>\n"
      ],
      "text/latex": [
       "\\begin{enumerate*}\n",
       "\\item '\\#CC1011'\n",
       "\\item '\\#665555'\n",
       "\\item '\\#05a399'\n",
       "\\item '\\#cfcaca'\n",
       "\\item '\\#f5e840'\n",
       "\\item '\\#0683c9'\n",
       "\\item '\\#e075b0'\n",
       "\\end{enumerate*}\n"
      ],
      "text/markdown": [
       "1. '#CC1011'\n",
       "2. '#665555'\n",
       "3. '#05a399'\n",
       "4. '#cfcaca'\n",
       "5. '#f5e840'\n",
       "6. '#0683c9'\n",
       "7. '#e075b0'\n",
       "\n",
       "\n"
      ],
      "text/plain": [
       "[1] \"#CC1011\" \"#665555\" \"#05a399\" \"#cfcaca\" \"#f5e840\" \"#0683c9\" \"#e075b0\""
      ]
     },
     "metadata": {},
     "output_type": "display_data"
    }
   ],
   "source": [
    "# Vector of colors\n",
    "colors = c(\"#CC1011\", \"#665555\", \"#05a399\", \"#cfcaca\", \"#f5e840\", \"#0683c9\", \"#e075b0\")\n",
    "colors"
   ]
  },
  {
   "cell_type": "markdown",
   "id": "c1b83210-8cb3-4c4e-ba4b-d3ce4e33981c",
   "metadata": {},
   "source": [
    "## 3. Reading the Data into their designated variables\n",
    "Now, we will read several csv files that contain the data from April 2014 to September 2014. We will store these in corresponding data frames like apr_data, may_data, etc. After we have read the files, we will combine all of this data into a single dataframe called ‘data_2014’.\n",
    "\n",
    "Then, in the next step, we will perform the appropriate formatting of Date.Time column. Then, we will proceed to create factors of time objects like day, month, year etc."
   ]
  },
  {
   "cell_type": "code",
   "execution_count": 3,
   "id": "3a206831-ab2f-40f8-92f1-ea0a9e027eee",
   "metadata": {},
   "outputs": [
    {
     "data": {
      "text/html": [
       "<table class=\"dataframe\">\n",
       "<caption>A data.frame: 6 × 4</caption>\n",
       "<thead>\n",
       "\t<tr><th></th><th scope=col>Date.Time</th><th scope=col>Lat</th><th scope=col>Lon</th><th scope=col>Base</th></tr>\n",
       "\t<tr><th></th><th scope=col>&lt;chr&gt;</th><th scope=col>&lt;dbl&gt;</th><th scope=col>&lt;dbl&gt;</th><th scope=col>&lt;chr&gt;</th></tr>\n",
       "</thead>\n",
       "<tbody>\n",
       "\t<tr><th scope=row>1</th><td>4/1/2014 0:11:00</td><td>40.7690</td><td>-73.9549</td><td>B02512</td></tr>\n",
       "\t<tr><th scope=row>2</th><td>4/1/2014 0:17:00</td><td>40.7267</td><td>-74.0345</td><td>B02512</td></tr>\n",
       "\t<tr><th scope=row>3</th><td>4/1/2014 0:21:00</td><td>40.7316</td><td>-73.9873</td><td>B02512</td></tr>\n",
       "\t<tr><th scope=row>4</th><td>4/1/2014 0:28:00</td><td>40.7588</td><td>-73.9776</td><td>B02512</td></tr>\n",
       "\t<tr><th scope=row>5</th><td>4/1/2014 0:33:00</td><td>40.7594</td><td>-73.9722</td><td>B02512</td></tr>\n",
       "\t<tr><th scope=row>6</th><td>4/1/2014 0:33:00</td><td>40.7383</td><td>-74.0403</td><td>B02512</td></tr>\n",
       "</tbody>\n",
       "</table>\n"
      ],
      "text/latex": [
       "A data.frame: 6 × 4\n",
       "\\begin{tabular}{r|llll}\n",
       "  & Date.Time & Lat & Lon & Base\\\\\n",
       "  & <chr> & <dbl> & <dbl> & <chr>\\\\\n",
       "\\hline\n",
       "\t1 & 4/1/2014 0:11:00 & 40.7690 & -73.9549 & B02512\\\\\n",
       "\t2 & 4/1/2014 0:17:00 & 40.7267 & -74.0345 & B02512\\\\\n",
       "\t3 & 4/1/2014 0:21:00 & 40.7316 & -73.9873 & B02512\\\\\n",
       "\t4 & 4/1/2014 0:28:00 & 40.7588 & -73.9776 & B02512\\\\\n",
       "\t5 & 4/1/2014 0:33:00 & 40.7594 & -73.9722 & B02512\\\\\n",
       "\t6 & 4/1/2014 0:33:00 & 40.7383 & -74.0403 & B02512\\\\\n",
       "\\end{tabular}\n"
      ],
      "text/markdown": [
       "\n",
       "A data.frame: 6 × 4\n",
       "\n",
       "| <!--/--> | Date.Time &lt;chr&gt; | Lat &lt;dbl&gt; | Lon &lt;dbl&gt; | Base &lt;chr&gt; |\n",
       "|---|---|---|---|---|\n",
       "| 1 | 4/1/2014 0:11:00 | 40.7690 | -73.9549 | B02512 |\n",
       "| 2 | 4/1/2014 0:17:00 | 40.7267 | -74.0345 | B02512 |\n",
       "| 3 | 4/1/2014 0:21:00 | 40.7316 | -73.9873 | B02512 |\n",
       "| 4 | 4/1/2014 0:28:00 | 40.7588 | -73.9776 | B02512 |\n",
       "| 5 | 4/1/2014 0:33:00 | 40.7594 | -73.9722 | B02512 |\n",
       "| 6 | 4/1/2014 0:33:00 | 40.7383 | -74.0403 | B02512 |\n",
       "\n"
      ],
      "text/plain": [
       "  Date.Time        Lat     Lon      Base  \n",
       "1 4/1/2014 0:11:00 40.7690 -73.9549 B02512\n",
       "2 4/1/2014 0:17:00 40.7267 -74.0345 B02512\n",
       "3 4/1/2014 0:21:00 40.7316 -73.9873 B02512\n",
       "4 4/1/2014 0:28:00 40.7588 -73.9776 B02512\n",
       "5 4/1/2014 0:33:00 40.7594 -73.9722 B02512\n",
       "6 4/1/2014 0:33:00 40.7383 -74.0403 B02512"
      ]
     },
     "metadata": {},
     "output_type": "display_data"
    }
   ],
   "source": [
    "# Read raw csv files for months Apr to Sep 2014\n",
    "apr_data <- read.csv(\"uber-raw-data-apr14.csv\")\n",
    "may_data <- read.csv(\"uber-raw-data-may14.csv\")\n",
    "jun_data <- read.csv(\"uber-raw-data-jun14.csv\")\n",
    "jul_data <- read.csv(\"uber-raw-data-jul14.csv\")\n",
    "aug_data <- read.csv(\"uber-raw-data-aug14.csv\")\n",
    "sep_data <- read.csv(\"uber-raw-data-sep14.csv\")\n",
    "\n",
    "# Combine into a single dataframe\n",
    "data_raw <- rbind(apr_data,may_data, jun_data, jul_data, aug_data, sep_data)\n",
    "head(data_raw)"
   ]
  },
  {
   "cell_type": "markdown",
   "id": "2c929de6-0dbb-4dc2-9c73-b178542c4ef8",
   "metadata": {},
   "source": [
    "## 4. Data Wrangling\n",
    "\n",
    "The dataframe `data_2014` contains the columns **Date.Time** and **Base**, classifed as character, as well as the **Latitude** and **Longitude** columns classified as double.  \n",
    "\n",
    "In the next step, we will perform data wrangling to convert the Data.Time column into its appropriate formatting.\n",
    "\n",
    "Then, we will proceed to create factors of time objects like day, month, year, etc."
   ]
  },
  {
   "cell_type": "code",
   "execution_count": 4,
   "id": "50facec1-1138-453b-b585-c6ce7c84c667",
   "metadata": {},
   "outputs": [
    {
     "data": {
      "text/html": [
       "<table class=\"dataframe\">\n",
       "<caption>A data.frame: 6 × 11</caption>\n",
       "<thead>\n",
       "\t<tr><th></th><th scope=col>Date.Time</th><th scope=col>Lat</th><th scope=col>Lon</th><th scope=col>Base</th><th scope=col>Day</th><th scope=col>Month</th><th scope=col>Year</th><th scope=col>Day_of_Week</th><th scope=col>Hour</th><th scope=col>Minutes</th><th scope=col>Seconds</th></tr>\n",
       "\t<tr><th></th><th scope=col>&lt;dttm&gt;</th><th scope=col>&lt;dbl&gt;</th><th scope=col>&lt;dbl&gt;</th><th scope=col>&lt;chr&gt;</th><th scope=col>&lt;fct&gt;</th><th scope=col>&lt;ord&gt;</th><th scope=col>&lt;fct&gt;</th><th scope=col>&lt;ord&gt;</th><th scope=col>&lt;fct&gt;</th><th scope=col>&lt;fct&gt;</th><th scope=col>&lt;fct&gt;</th></tr>\n",
       "</thead>\n",
       "<tbody>\n",
       "\t<tr><th scope=row>1</th><td>2014-04-01 00:11:00</td><td>40.7690</td><td>-73.9549</td><td>B02512</td><td>1</td><td>Apr</td><td>2014</td><td>Tue</td><td>0</td><td>11</td><td>0</td></tr>\n",
       "\t<tr><th scope=row>2</th><td>2014-04-01 00:17:00</td><td>40.7267</td><td>-74.0345</td><td>B02512</td><td>1</td><td>Apr</td><td>2014</td><td>Tue</td><td>0</td><td>17</td><td>0</td></tr>\n",
       "\t<tr><th scope=row>3</th><td>2014-04-01 00:21:00</td><td>40.7316</td><td>-73.9873</td><td>B02512</td><td>1</td><td>Apr</td><td>2014</td><td>Tue</td><td>0</td><td>21</td><td>0</td></tr>\n",
       "\t<tr><th scope=row>4</th><td>2014-04-01 00:28:00</td><td>40.7588</td><td>-73.9776</td><td>B02512</td><td>1</td><td>Apr</td><td>2014</td><td>Tue</td><td>0</td><td>28</td><td>0</td></tr>\n",
       "\t<tr><th scope=row>5</th><td>2014-04-01 00:33:00</td><td>40.7594</td><td>-73.9722</td><td>B02512</td><td>1</td><td>Apr</td><td>2014</td><td>Tue</td><td>0</td><td>33</td><td>0</td></tr>\n",
       "\t<tr><th scope=row>6</th><td>2014-04-01 00:33:00</td><td>40.7383</td><td>-74.0403</td><td>B02512</td><td>1</td><td>Apr</td><td>2014</td><td>Tue</td><td>0</td><td>33</td><td>0</td></tr>\n",
       "</tbody>\n",
       "</table>\n"
      ],
      "text/latex": [
       "A data.frame: 6 × 11\n",
       "\\begin{tabular}{r|lllllllllll}\n",
       "  & Date.Time & Lat & Lon & Base & Day & Month & Year & Day\\_of\\_Week & Hour & Minutes & Seconds\\\\\n",
       "  & <dttm> & <dbl> & <dbl> & <chr> & <fct> & <ord> & <fct> & <ord> & <fct> & <fct> & <fct>\\\\\n",
       "\\hline\n",
       "\t1 & 2014-04-01 00:11:00 & 40.7690 & -73.9549 & B02512 & 1 & Apr & 2014 & Tue & 0 & 11 & 0\\\\\n",
       "\t2 & 2014-04-01 00:17:00 & 40.7267 & -74.0345 & B02512 & 1 & Apr & 2014 & Tue & 0 & 17 & 0\\\\\n",
       "\t3 & 2014-04-01 00:21:00 & 40.7316 & -73.9873 & B02512 & 1 & Apr & 2014 & Tue & 0 & 21 & 0\\\\\n",
       "\t4 & 2014-04-01 00:28:00 & 40.7588 & -73.9776 & B02512 & 1 & Apr & 2014 & Tue & 0 & 28 & 0\\\\\n",
       "\t5 & 2014-04-01 00:33:00 & 40.7594 & -73.9722 & B02512 & 1 & Apr & 2014 & Tue & 0 & 33 & 0\\\\\n",
       "\t6 & 2014-04-01 00:33:00 & 40.7383 & -74.0403 & B02512 & 1 & Apr & 2014 & Tue & 0 & 33 & 0\\\\\n",
       "\\end{tabular}\n"
      ],
      "text/markdown": [
       "\n",
       "A data.frame: 6 × 11\n",
       "\n",
       "| <!--/--> | Date.Time &lt;dttm&gt; | Lat &lt;dbl&gt; | Lon &lt;dbl&gt; | Base &lt;chr&gt; | Day &lt;fct&gt; | Month &lt;ord&gt; | Year &lt;fct&gt; | Day_of_Week &lt;ord&gt; | Hour &lt;fct&gt; | Minutes &lt;fct&gt; | Seconds &lt;fct&gt; |\n",
       "|---|---|---|---|---|---|---|---|---|---|---|---|\n",
       "| 1 | 2014-04-01 00:11:00 | 40.7690 | -73.9549 | B02512 | 1 | Apr | 2014 | Tue | 0 | 11 | 0 |\n",
       "| 2 | 2014-04-01 00:17:00 | 40.7267 | -74.0345 | B02512 | 1 | Apr | 2014 | Tue | 0 | 17 | 0 |\n",
       "| 3 | 2014-04-01 00:21:00 | 40.7316 | -73.9873 | B02512 | 1 | Apr | 2014 | Tue | 0 | 21 | 0 |\n",
       "| 4 | 2014-04-01 00:28:00 | 40.7588 | -73.9776 | B02512 | 1 | Apr | 2014 | Tue | 0 | 28 | 0 |\n",
       "| 5 | 2014-04-01 00:33:00 | 40.7594 | -73.9722 | B02512 | 1 | Apr | 2014 | Tue | 0 | 33 | 0 |\n",
       "| 6 | 2014-04-01 00:33:00 | 40.7383 | -74.0403 | B02512 | 1 | Apr | 2014 | Tue | 0 | 33 | 0 |\n",
       "\n"
      ],
      "text/plain": [
       "  Date.Time           Lat     Lon      Base   Day Month Year Day_of_Week Hour\n",
       "1 2014-04-01 00:11:00 40.7690 -73.9549 B02512 1   Apr   2014 Tue         0   \n",
       "2 2014-04-01 00:17:00 40.7267 -74.0345 B02512 1   Apr   2014 Tue         0   \n",
       "3 2014-04-01 00:21:00 40.7316 -73.9873 B02512 1   Apr   2014 Tue         0   \n",
       "4 2014-04-01 00:28:00 40.7588 -73.9776 B02512 1   Apr   2014 Tue         0   \n",
       "5 2014-04-01 00:33:00 40.7594 -73.9722 B02512 1   Apr   2014 Tue         0   \n",
       "6 2014-04-01 00:33:00 40.7383 -74.0403 B02512 1   Apr   2014 Tue         0   \n",
       "  Minutes Seconds\n",
       "1 11      0      \n",
       "2 17      0      \n",
       "3 21      0      \n",
       "4 28      0      \n",
       "5 33      0      \n",
       "6 33      0      "
      ]
     },
     "metadata": {},
     "output_type": "display_data"
    }
   ],
   "source": [
    "data_2014 <- data_raw %>%\n",
    "    mutate(\n",
    "        Date.Time = mdy_hms(Date.Time),  # change Date.Time column to dttm format\n",
    "        Day = factor(day(Date.Time)),  # create individual columns for month, day, year\n",
    "        Month = factor(month(Date.Time, label = TRUE)),\n",
    "        Year = factor(year(Date.Time)),\n",
    "        Day_of_Week = factor(wday(Date.Time, label = TRUE)),\n",
    "        Hour = factor(hour(Date.Time)),  # add time variable columns as well\n",
    "        Minutes = factor(minute(Date.Time)),\n",
    "        Seconds = factor(second(Date.Time))\n",
    "    )\n",
    "\n",
    "head(data_2014)"
   ]
  },
  {
   "cell_type": "markdown",
   "id": "47d8b85e-31fb-43e0-8a89-17a41b78da5c",
   "metadata": {},
   "source": [
    "## 5. Data Visualization\n",
    "In the next step, we will use the `ggplot` function to plot the number of trips that the passengers have made in a day. We will also use `dplyr` to aggregate our data. In the resulting visualizations, we can understand how the number of passengers fares throughout the day.\n",
    "\n",
    "### **Plotting the Trips by the Hours in a day**"
   ]
  },
  {
   "cell_type": "code",
   "execution_count": 5,
   "id": "08aa298d-6c7d-40a2-99c8-bb53ba7b98cf",
   "metadata": {},
   "outputs": [
    {
     "data": {
      "text/html": [
       "<table class=\"dataframe\">\n",
       "<caption>A tibble: 6 × 2</caption>\n",
       "<thead>\n",
       "\t<tr><th scope=col>Hour</th><th scope=col>Trips</th></tr>\n",
       "\t<tr><th scope=col>&lt;fct&gt;</th><th scope=col>&lt;int&gt;</th></tr>\n",
       "</thead>\n",
       "<tbody>\n",
       "\t<tr><td>0</td><td>103836</td></tr>\n",
       "\t<tr><td>1</td><td> 67227</td></tr>\n",
       "\t<tr><td>2</td><td> 45865</td></tr>\n",
       "\t<tr><td>3</td><td> 48287</td></tr>\n",
       "\t<tr><td>4</td><td> 55230</td></tr>\n",
       "\t<tr><td>5</td><td> 83939</td></tr>\n",
       "</tbody>\n",
       "</table>\n"
      ],
      "text/latex": [
       "A tibble: 6 × 2\n",
       "\\begin{tabular}{ll}\n",
       " Hour & Trips\\\\\n",
       " <fct> & <int>\\\\\n",
       "\\hline\n",
       "\t 0 & 103836\\\\\n",
       "\t 1 &  67227\\\\\n",
       "\t 2 &  45865\\\\\n",
       "\t 3 &  48287\\\\\n",
       "\t 4 &  55230\\\\\n",
       "\t 5 &  83939\\\\\n",
       "\\end{tabular}\n"
      ],
      "text/markdown": [
       "\n",
       "A tibble: 6 × 2\n",
       "\n",
       "| Hour &lt;fct&gt; | Trips &lt;int&gt; |\n",
       "|---|---|\n",
       "| 0 | 103836 |\n",
       "| 1 |  67227 |\n",
       "| 2 |  45865 |\n",
       "| 3 |  48287 |\n",
       "| 4 |  55230 |\n",
       "| 5 |  83939 |\n",
       "\n"
      ],
      "text/plain": [
       "  Hour Trips \n",
       "1 0    103836\n",
       "2 1     67227\n",
       "3 2     45865\n",
       "4 3     48287\n",
       "5 4     55230\n",
       "6 5     83939"
      ]
     },
     "metadata": {},
     "output_type": "display_data"
    }
   ],
   "source": [
    "# Aggregate data by hour\n",
    "hour_data <- data_2014 %>%\n",
    "    group_by(Hour) %>%\n",
    "    summarize(Trips = n())\n",
    "\n",
    "head(hour_data)"
   ]
  },
  {
   "cell_type": "code",
   "execution_count": 6,
   "id": "63d1c33b-954a-4608-b629-a157f3b22b2b",
   "metadata": {},
   "outputs": [
    {
     "data": {
      "image/png": "[encoded data removed]",
      "text/plain": [
       "plot without title"
      ]
     },
     "metadata": {
      "image/png": {
       "height": 420,
       "width": 420
      }
     },
     "output_type": "display_data"
    }
   ],
   "source": [
    "# Plot Trips per Hour graph\n",
    "ggplot(hour_data, aes(x = Hour, y = Trips)) +\n",
    "geom_bar(stat = \"identity\", fill = \"steelblue\", color = \"red\") +\n",
    "labs(title = \"Trips per Hour\") +\n",
    "scale_y_continuous(labels = comma)"
   ]
  },
  {
   "cell_type": "markdown",
   "id": "a89084f0-1796-4435-8454-f0b8a079d0a6",
   "metadata": {},
   "source": [
    "Based on the plotted *Trips per Hour* graph, we observe that the number of trips are higher in the evening around 5:00 and 6:00 PM."
   ]
  },
  {
   "cell_type": "markdown",
   "id": "9b5e1791-dd25-4cd8-b12b-bac3dfe9f7b9",
   "metadata": {},
   "source": [
    "### **Plotting the Trips by Hour and Month**"
   ]
  },
  {
   "cell_type": "code",
   "execution_count": 7,
   "id": "55f606ed-25b1-4d56-9dd4-6c5456766db5",
   "metadata": {},
   "outputs": [
    {
     "name": "stderr",
     "output_type": "stream",
     "text": [
      "\u001b[1m\u001b[22m`summarise()` has grouped output by 'Month'. You can override using the\n",
      "`.groups` argument.\n"
     ]
    },
    {
     "data": {
      "text/html": [
       "<table class=\"dataframe\">\n",
       "<caption>A grouped_df: 6 × 3</caption>\n",
       "<thead>\n",
       "\t<tr><th scope=col>Month</th><th scope=col>Hour</th><th scope=col>Trips</th></tr>\n",
       "\t<tr><th scope=col>&lt;ord&gt;</th><th scope=col>&lt;fct&gt;</th><th scope=col>&lt;int&gt;</th></tr>\n",
       "</thead>\n",
       "<tbody>\n",
       "\t<tr><td>Apr</td><td>0</td><td>11910</td></tr>\n",
       "\t<tr><td>Apr</td><td>1</td><td> 7769</td></tr>\n",
       "\t<tr><td>Apr</td><td>2</td><td> 4935</td></tr>\n",
       "\t<tr><td>Apr</td><td>3</td><td> 5040</td></tr>\n",
       "\t<tr><td>Apr</td><td>4</td><td> 6095</td></tr>\n",
       "\t<tr><td>Apr</td><td>5</td><td> 9476</td></tr>\n",
       "</tbody>\n",
       "</table>\n"
      ],
      "text/latex": [
       "A grouped\\_df: 6 × 3\n",
       "\\begin{tabular}{lll}\n",
       " Month & Hour & Trips\\\\\n",
       " <ord> & <fct> & <int>\\\\\n",
       "\\hline\n",
       "\t Apr & 0 & 11910\\\\\n",
       "\t Apr & 1 &  7769\\\\\n",
       "\t Apr & 2 &  4935\\\\\n",
       "\t Apr & 3 &  5040\\\\\n",
       "\t Apr & 4 &  6095\\\\\n",
       "\t Apr & 5 &  9476\\\\\n",
       "\\end{tabular}\n"
      ],
      "text/markdown": [
       "\n",
       "A grouped_df: 6 × 3\n",
       "\n",
       "| Month &lt;ord&gt; | Hour &lt;fct&gt; | Trips &lt;int&gt; |\n",
       "|---|---|---|\n",
       "| Apr | 0 | 11910 |\n",
       "| Apr | 1 |  7769 |\n",
       "| Apr | 2 |  4935 |\n",
       "| Apr | 3 |  5040 |\n",
       "| Apr | 4 |  6095 |\n",
       "| Apr | 5 |  9476 |\n",
       "\n"
      ],
      "text/plain": [
       "  Month Hour Trips\n",
       "1 Apr   0    11910\n",
       "2 Apr   1     7769\n",
       "3 Apr   2     4935\n",
       "4 Apr   3     5040\n",
       "5 Apr   4     6095\n",
       "6 Apr   5     9476"
      ]
     },
     "metadata": {},
     "output_type": "display_data"
    }
   ],
   "source": [
    "# Aggregrate data by month and hour\n",
    "month_hour_data <- data_2014 %>%\n",
    "    group_by(Month, Hour) %>%\n",
    "    summarize(Trips = n())\n",
    "\n",
    "head(month_hour_data)"
   ]
  },
  {
   "cell_type": "code",
   "execution_count": 8,
   "id": "e4b38373-faed-45d8-bc74-22e3351ce970",
   "metadata": {},
   "outputs": [
    {
     "data": {
      "image/png": "[encoded data removed]",
      "text/plain": [
       "plot without title"
      ]
     },
     "metadata": {
      "image/png": {
       "height": 420,
       "width": 420
      }
     },
     "output_type": "display_data"
    }
   ],
   "source": [
    "# Plot Trips by Hour and Month graph\n",
    "ggplot(month_hour_data, aes(x = Hour, y = Trips, fill = Month)) +\n",
    "geom_bar(stat = \"identity\") +\n",
    "labs(title = \"Trips by Hour and Month\") +\n",
    "scale_y_continuous(labels = comma)"
   ]
  },
  {
   "cell_type": "markdown",
   "id": "d02b1001-4c8c-428a-b05e-0865bf4d90b5",
   "metadata": {},
   "source": [
    "### **Plotting the Trips during Every Day of the Month**\n",
    "\n",
    "Next, we will plot our data based on every day of the month."
   ]
  },
  {
   "cell_type": "code",
   "execution_count": 9,
   "id": "462e5111-161e-4652-8c36-c91c4856bdf2",
   "metadata": {},
   "outputs": [
    {
     "name": "stderr",
     "output_type": "stream",
     "text": [
      "\u001b[1m\u001b[22m`summarise()` has grouped output by 'Day'. You can override using the `.groups`\n",
      "argument.\n"
     ]
    },
    {
     "data": {
      "text/html": [
       "<table class=\"dataframe\">\n",
       "<caption>A grouped_df: 6 × 3</caption>\n",
       "<thead>\n",
       "\t<tr><th scope=col>Day</th><th scope=col>Month</th><th scope=col>Trips</th></tr>\n",
       "\t<tr><th scope=col>&lt;fct&gt;</th><th scope=col>&lt;ord&gt;</th><th scope=col>&lt;int&gt;</th></tr>\n",
       "</thead>\n",
       "<tbody>\n",
       "\t<tr><td>1</td><td>Apr</td><td>14546</td></tr>\n",
       "\t<tr><td>1</td><td>May</td><td>23375</td></tr>\n",
       "\t<tr><td>1</td><td>Jun</td><td>15967</td></tr>\n",
       "\t<tr><td>1</td><td>Jul</td><td>21228</td></tr>\n",
       "\t<tr><td>1</td><td>Aug</td><td>32353</td></tr>\n",
       "\t<tr><td>1</td><td>Sep</td><td>19961</td></tr>\n",
       "</tbody>\n",
       "</table>\n"
      ],
      "text/latex": [
       "A grouped\\_df: 6 × 3\n",
       "\\begin{tabular}{lll}\n",
       " Day & Month & Trips\\\\\n",
       " <fct> & <ord> & <int>\\\\\n",
       "\\hline\n",
       "\t 1 & Apr & 14546\\\\\n",
       "\t 1 & May & 23375\\\\\n",
       "\t 1 & Jun & 15967\\\\\n",
       "\t 1 & Jul & 21228\\\\\n",
       "\t 1 & Aug & 32353\\\\\n",
       "\t 1 & Sep & 19961\\\\\n",
       "\\end{tabular}\n"
      ],
      "text/markdown": [
       "\n",
       "A grouped_df: 6 × 3\n",
       "\n",
       "| Day &lt;fct&gt; | Month &lt;ord&gt; | Trips &lt;int&gt; |\n",
       "|---|---|---|\n",
       "| 1 | Apr | 14546 |\n",
       "| 1 | May | 23375 |\n",
       "| 1 | Jun | 15967 |\n",
       "| 1 | Jul | 21228 |\n",
       "| 1 | Aug | 32353 |\n",
       "| 1 | Sep | 19961 |\n",
       "\n"
      ],
      "text/plain": [
       "  Day Month Trips\n",
       "1 1   Apr   14546\n",
       "2 1   May   23375\n",
       "3 1   Jun   15967\n",
       "4 1   Jul   21228\n",
       "5 1   Aug   32353\n",
       "6 1   Sep   19961"
      ]
     },
     "metadata": {},
     "output_type": "display_data"
    }
   ],
   "source": [
    "# Aggregate data by day of the month\n",
    "day_data <- data_2014 %>%\n",
    "    group_by(Day, Month) %>%\n",
    "    summarize(Trips = n())\n",
    "\n",
    "head(day_data)"
   ]
  },
  {
   "cell_type": "code",
   "execution_count": 10,
   "id": "9f6fafc2-f978-4ec2-add0-b2b3267eebc3",
   "metadata": {},
   "outputs": [
    {
     "data": {
      "image/png": "[encoded data removed]",
      "text/plain": [
       "plot without title"
      ]
     },
     "metadata": {
      "image/png": {
       "height": 420,
       "width": 420
      }
     },
     "output_type": "display_data"
    }
   ],
   "source": [
    "# Plot Trips by Day of the Month graph\n",
    "ggplot(day_data, aes(x = Day, y = Trips, fill = Month)) +\n",
    "geom_bar(stat = \"identity\") +\n",
    "labs(title = \"Trips by Day of the Month\") +\n",
    "scale_y_continuous(labels = comma)"
   ]
  },
  {
   "cell_type": "markdown",
   "id": "908e2ecb-5d18-4723-ad5f-1e457644a296",
   "metadata": {},
   "source": [
    "Based on the *Trips by Day of the Month* graph, we observe that 30th of the month has the highest trips in year 2014 which is mostly contributed by the month of April."
   ]
  },
  {
   "cell_type": "markdown",
   "id": "2b9d1844-520e-4d6f-b9a1-fd63f7c3d027",
   "metadata": {},
   "source": [
    "### **Plotting the Number of Trips per Month**\n",
    "\n",
    "In this section, we will visualize the number of trips that are taking place each month of the year."
   ]
  },
  {
   "cell_type": "code",
   "execution_count": 11,
   "id": "b76a350a-73bd-41fb-90ba-55be6fd2f0b5",
   "metadata": {},
   "outputs": [
    {
     "data": {
      "text/html": [
       "<table class=\"dataframe\">\n",
       "<caption>A tibble: 6 × 2</caption>\n",
       "<thead>\n",
       "\t<tr><th scope=col>Month</th><th scope=col>Total</th></tr>\n",
       "\t<tr><th scope=col>&lt;ord&gt;</th><th scope=col>&lt;int&gt;</th></tr>\n",
       "</thead>\n",
       "<tbody>\n",
       "\t<tr><td>Apr</td><td> 564516</td></tr>\n",
       "\t<tr><td>May</td><td> 652435</td></tr>\n",
       "\t<tr><td>Jun</td><td> 663844</td></tr>\n",
       "\t<tr><td>Jul</td><td> 796121</td></tr>\n",
       "\t<tr><td>Aug</td><td> 829275</td></tr>\n",
       "\t<tr><td>Sep</td><td>1028136</td></tr>\n",
       "</tbody>\n",
       "</table>\n"
      ],
      "text/latex": [
       "A tibble: 6 × 2\n",
       "\\begin{tabular}{ll}\n",
       " Month & Total\\\\\n",
       " <ord> & <int>\\\\\n",
       "\\hline\n",
       "\t Apr &  564516\\\\\n",
       "\t May &  652435\\\\\n",
       "\t Jun &  663844\\\\\n",
       "\t Jul &  796121\\\\\n",
       "\t Aug &  829275\\\\\n",
       "\t Sep & 1028136\\\\\n",
       "\\end{tabular}\n"
      ],
      "text/markdown": [
       "\n",
       "A tibble: 6 × 2\n",
       "\n",
       "| Month &lt;ord&gt; | Total &lt;int&gt; |\n",
       "|---|---|\n",
       "| Apr |  564516 |\n",
       "| May |  652435 |\n",
       "| Jun |  663844 |\n",
       "| Jul |  796121 |\n",
       "| Aug |  829275 |\n",
       "| Sep | 1028136 |\n",
       "\n"
      ],
      "text/plain": [
       "  Month Total  \n",
       "1 Apr    564516\n",
       "2 May    652435\n",
       "3 Jun    663844\n",
       "4 Jul    796121\n",
       "5 Aug    829275\n",
       "6 Sep   1028136"
      ]
     },
     "metadata": {},
     "output_type": "display_data"
    }
   ],
   "source": [
    "# Aggregate data by Month\n",
    "month_data <- data_2014 %>%\n",
    "    group_by(Month) %>%\n",
    "    summarize(Total= n())\n",
    "\n",
    "head(month_data)"
   ]
  },
  {
   "cell_type": "code",
   "execution_count": 12,
   "id": "4f8db306-8dcc-4b68-ba11-8d5f6dcdfa3a",
   "metadata": {},
   "outputs": [
    {
     "data": {
      "image/png": "[encoded data removed]",
      "text/plain": [
       "plot without title"
      ]
     },
     "metadata": {
      "image/png": {
       "height": 420,
       "width": 420
      }
     },
     "output_type": "display_data"
    }
   ],
   "source": [
    "# Plot the Number of Trips per Month\n",
    "ggplot(month_data, aes(x = Month, y = Total, fill = Month)) +\n",
    "geom_bar(stat = \"identity\") +\n",
    "labs(title = \"Number of Trips per Month\", y = \"Number of Trips\") +\n",
    "scale_fill_manual(values = colors) +\n",
    "scale_y_continuous(labels = comma) +\n",
    "theme(legend.position = \"none\")"
   ]
  },
  {
   "cell_type": "markdown",
   "id": "a390282d-4b75-4c7c-a439-511e862380e3",
   "metadata": {},
   "source": [
    "### **Plotting the Trips by Day of the Week per Month**"
   ]
  },
  {
   "cell_type": "code",
   "execution_count": 13,
   "id": "5428b512-d681-4161-b7f1-9dd2bfb4c3fa",
   "metadata": {},
   "outputs": [
    {
     "name": "stderr",
     "output_type": "stream",
     "text": [
      "\u001b[1m\u001b[22m`summarise()` has grouped output by 'Day_of_Week'. You can override using the\n",
      "`.groups` argument.\n"
     ]
    },
    {
     "data": {
      "text/html": [
       "<table class=\"dataframe\">\n",
       "<caption>A grouped_df: 6 × 3</caption>\n",
       "<thead>\n",
       "\t<tr><th scope=col>Day_of_Week</th><th scope=col>Month</th><th scope=col>Trips</th></tr>\n",
       "\t<tr><th scope=col>&lt;ord&gt;</th><th scope=col>&lt;ord&gt;</th><th scope=col>&lt;int&gt;</th></tr>\n",
       "</thead>\n",
       "<tbody>\n",
       "\t<tr><td>Sun</td><td>Apr</td><td> 51251</td></tr>\n",
       "\t<tr><td>Sun</td><td>May</td><td> 56168</td></tr>\n",
       "\t<tr><td>Sun</td><td>Jun</td><td> 79656</td></tr>\n",
       "\t<tr><td>Sun</td><td>Jul</td><td> 76327</td></tr>\n",
       "\t<tr><td>Sun</td><td>Aug</td><td>110246</td></tr>\n",
       "\t<tr><td>Sun</td><td>Sep</td><td>116532</td></tr>\n",
       "</tbody>\n",
       "</table>\n"
      ],
      "text/latex": [
       "A grouped\\_df: 6 × 3\n",
       "\\begin{tabular}{lll}\n",
       " Day\\_of\\_Week & Month & Trips\\\\\n",
       " <ord> & <ord> & <int>\\\\\n",
       "\\hline\n",
       "\t Sun & Apr &  51251\\\\\n",
       "\t Sun & May &  56168\\\\\n",
       "\t Sun & Jun &  79656\\\\\n",
       "\t Sun & Jul &  76327\\\\\n",
       "\t Sun & Aug & 110246\\\\\n",
       "\t Sun & Sep & 116532\\\\\n",
       "\\end{tabular}\n"
      ],
      "text/markdown": [
       "\n",
       "A grouped_df: 6 × 3\n",
       "\n",
       "| Day_of_Week &lt;ord&gt; | Month &lt;ord&gt; | Trips &lt;int&gt; |\n",
       "|---|---|---|\n",
       "| Sun | Apr |  51251 |\n",
       "| Sun | May |  56168 |\n",
       "| Sun | Jun |  79656 |\n",
       "| Sun | Jul |  76327 |\n",
       "| Sun | Aug | 110246 |\n",
       "| Sun | Sep | 116532 |\n",
       "\n"
      ],
      "text/plain": [
       "  Day_of_Week Month Trips \n",
       "1 Sun         Apr    51251\n",
       "2 Sun         May    56168\n",
       "3 Sun         Jun    79656\n",
       "4 Sun         Jul    76327\n",
       "5 Sun         Aug   110246\n",
       "6 Sun         Sep   116532"
      ]
     },
     "metadata": {},
     "output_type": "display_data"
    }
   ],
   "source": [
    "# Aggregate data by Day of Week and Month\n",
    "weekday_month_data <- data_2014 %>%\n",
    "    group_by(Day_of_Week, Month) %>%\n",
    "    summarize(Trips = n())\n",
    "\n",
    "head(weekday_month_data)"
   ]
  },
  {
   "cell_type": "code",
   "execution_count": 14,
   "id": "db43fc42-5691-4b2b-996c-3db6bced4468",
   "metadata": {},
   "outputs": [
    {
     "data": {
      "image/png": "[encoded data removed]",
      "text/plain": [
       "plot without title"
      ]
     },
     "metadata": {
      "image/png": {
       "height": 420,
       "width": 420
      }
     },
     "output_type": "display_data"
    }
   ],
   "source": [
    "# Plotting the Trips by Day of the Week per Month\n",
    "ggplot(weekday_month_data, aes(x = Day_of_Week, y = Trips, fill = Month)) +\n",
    "geom_bar(stat = \"identity\", position = \"dodge\") +\n",
    "labs(title = \"Trips by Day of the Week per Month\") +\n",
    "scale_y_continuous(labels = comma) +\n",
    "scale_fill_manual(values = colors)"
   ]
  },
  {
   "cell_type": "markdown",
   "id": "7f23ee93-6a47-4a02-8466-43bbec8a47ef",
   "metadata": {},
   "source": [
    "In the output visualizations above, we observe that most trips were made during the month of September. Furthermore, we also obtain visual reports of the number of trips that were made on every day of the week, with consistently fewer trips made on Sundays."
   ]
  },
  {
   "cell_type": "markdown",
   "id": "dbbdb3fe-35a3-475b-b9c4-1ba20aab3e2e",
   "metadata": {},
   "source": [
    "### **Plotting the Number of Trips by Bases**\n",
    "\n",
    "In the following visualizations, we plot the number of trips that have been taken by the passengers from each of the five bases. Out of which, we observe that B02617 recorded the highest number of trips. Furthermore, base B02617 has the highest number of trips in the month. Thursdays also observed highest trips in the three bases – B02598, B02617, B02682."
   ]
  },
  {
   "cell_type": "code",
   "execution_count": 15,
   "id": "602c7bf7-fc17-49eb-9fdc-2c0ce80c80a5",
   "metadata": {},
   "outputs": [
    {
     "data": {
      "image/png": "[encoded data removed]",
      "text/plain": [
       "plot without title"
      ]
     },
     "metadata": {
      "image/png": {
       "height": 420,
       "width": 420
      }
     },
     "output_type": "display_data"
    }
   ],
   "source": [
    "# Plot the Number of Trips per Base graph\n",
    "ggplot(data_2014, aes(x = Base)) +\n",
    "geom_bar(fill = \"steelblue\") +\n",
    "scale_y_continuous(labels = comma) +\n",
    "labs(title = \"Number of Trips per Base\",\n",
    "     y = \"Number of Trips\")"
   ]
  },
  {
   "cell_type": "code",
   "execution_count": 16,
   "id": "4691fb21-01f4-4657-a5c4-1fce6cb4c0e6",
   "metadata": {},
   "outputs": [
    {
     "data": {
      "image/png": "[encoded data removed]",
      "text/plain": [
       "plot without title"
      ]
     },
     "metadata": {
      "image/png": {
       "height": 420,
       "width": 420
      }
     },
     "output_type": "display_data"
    }
   ],
   "source": [
    "# Plot the Number of Trips per Base by Month\n",
    "ggplot(data_2014, aes(x = Base, fill = Month)) +\n",
    "geom_bar(position = \"dodge\") +\n",
    "scale_fill_manual(values = colors) +\n",
    "scale_y_continuous(labels = comma) +\n",
    "labs(title = \"Number of Trips per Base by Month\",\n",
    "     y = \"Number of Trips\")"
   ]
  },
  {
   "cell_type": "code",
   "execution_count": 17,
   "id": "5ac3a194-4361-4108-a381-b776713e2297",
   "metadata": {},
   "outputs": [
    {
     "data": {
      "image/png": "[encoded data removed]",
      "text/plain": [
       "plot without title"
      ]
     },
     "metadata": {
      "image/png": {
       "height": 420,
       "width": 420
      }
     },
     "output_type": "display_data"
    }
   ],
   "source": [
    "# Plot the Number of Trips per Base by Day of the Week\n",
    "ggplot(data_2014, aes(x = Base, fill = Day_of_Week)) +\n",
    "geom_bar(position = \"dodge\") +\n",
    "scale_y_continuous(labels = comma) +\n",
    "scale_fill_manual(values = colors) +\n",
    "labs(title = \"Number of Trips per Base by Day of the Week\",\n",
    "     y = \"Number of Trips\")"
   ]
  },
  {
   "cell_type": "markdown",
   "id": "157ee565-d8ed-4984-b62b-5919fd8a724c",
   "metadata": {},
   "source": [
    "### **Creating a Heatmap Visualization of Day, Hour and Month**\n",
    "\n",
    "We will plot five heatmap plots --\n",
    "\n",
    "1. Heatmap by Hour and Day\n",
    "2. Heatmap by Month and Day\n",
    "3. Heatmap by Month and Day of the Week\n",
    "4. Heatmap that delineates Month and Bases\n",
    "5. Heatmap by Bases and Day of the Week"
   ]
  },
  {
   "cell_type": "code",
   "execution_count": 18,
   "id": "591c94fd-8091-47ca-8712-b57560335e60",
   "metadata": {},
   "outputs": [
    {
     "name": "stderr",
     "output_type": "stream",
     "text": [
      "\u001b[1m\u001b[22m`summarise()` has grouped output by 'Day'. You can override using the `.groups`\n",
      "argument.\n"
     ]
    },
    {
     "data": {
      "image/png": "[encoded data removed]",
      "text/plain": [
       "plot without title"
      ]
     },
     "metadata": {
      "image/png": {
       "height": 420,
       "width": 420
      }
     },
     "output_type": "display_data"
    }
   ],
   "source": [
    "# 1. Heatmap by Hour and Day\n",
    "hour_and_day <- data_2014 %>%\n",
    "    group_by(Day, Hour) %>%\n",
    "    summarize(Trips = n())\n",
    "\n",
    "ggplot(hour_and_day, aes(x = Day, y = Hour, fill = Trips)) +\n",
    "geom_tile(color = \"white\") +\n",
    "labs(title = \"Heatmap by Hour and Day\",\n",
    "     fill = \"No. of Trips\")"
   ]
  },
  {
   "cell_type": "code",
   "execution_count": 19,
   "id": "7781bf70-7c55-4c9f-b15d-9210fce19ff6",
   "metadata": {},
   "outputs": [
    {
     "name": "stderr",
     "output_type": "stream",
     "text": [
      "\u001b[1m\u001b[22m`summarise()` has grouped output by 'Day'. You can override using the `.groups`\n",
      "argument.\n"
     ]
    },
    {
     "data": {
      "image/png": "[encoded data removed]",
      "text/plain": [
       "plot without title"
      ]
     },
     "metadata": {
      "image/png": {
       "height": 420,
       "width": 420
      }
     },
     "output_type": "display_data"
    }
   ],
   "source": [
    "# 2. Heatmap by Month and Day\n",
    "month_and_day <- data_2014 %>%\n",
    "    group_by(Day, Month) %>%\n",
    "    summarize(Trips = n())\n",
    "\n",
    "ggplot(month_and_day, aes(x = Day, y = Month, fill = Trips)) +\n",
    "geom_tile(color = \"white\") +\n",
    "labs(title = \"Heatmap by Month and Day\",\n",
    "     fill = \"No. of Trips\")"
   ]
  },
  {
   "cell_type": "code",
   "execution_count": 20,
   "id": "8ddea64f-8d4c-49d0-a313-b033e65a3639",
   "metadata": {},
   "outputs": [
    {
     "name": "stderr",
     "output_type": "stream",
     "text": [
      "\u001b[1m\u001b[22m`summarise()` has grouped output by 'Day_of_Week'. You can override using the\n",
      "`.groups` argument.\n"
     ]
    },
    {
     "data": {
      "image/png": "[encoded data removed]",
      "text/plain": [
       "plot without title"
      ]
     },
     "metadata": {
      "image/png": {
       "height": 420,
       "width": 420
      }
     },
     "output_type": "display_data"
    }
   ],
   "source": [
    "# 3. Heatmap by Month and Day of the Week\n",
    "month_and_weekday <- data_2014 %>%\n",
    "    group_by(Day_of_Week, Month) %>%\n",
    "    summarize(Trips = n())\n",
    "\n",
    "ggplot(month_and_weekday, aes(x = Day_of_Week, y = Month, fill = Trips)) +\n",
    "geom_tile(color = \"white\") +\n",
    "labs(title = \"Heatmap by Month and Day of the Week\",\n",
    "     fill = \"No. of Trips\")"
   ]
  },
  {
   "cell_type": "code",
   "execution_count": 21,
   "id": "b0d33826-b555-4bb5-875c-fc394e588230",
   "metadata": {},
   "outputs": [
    {
     "name": "stderr",
     "output_type": "stream",
     "text": [
      "\u001b[1m\u001b[22m`summarise()` has grouped output by 'Base'. You can override using the\n",
      "`.groups` argument.\n"
     ]
    },
    {
     "data": {
      "image/png": "[encoded data removed]",
      "text/plain": [
       "plot without title"
      ]
     },
     "metadata": {
      "image/png": {
       "height": 420,
       "width": 420
      }
     },
     "output_type": "display_data"
    }
   ],
   "source": [
    "# 4. Heatmap that delineates Month and Bases\n",
    "month_base <- data_2014 %>%\n",
    "    group_by(Base, Month) %>%\n",
    "    summarize(Trips = n())\n",
    "\n",
    "ggplot(month_base, aes(x = Base, y = Month, fill = Trips)) +\n",
    "geom_tile(color = \"white\") +\n",
    "labs(title = \"Heatmap by Month and Bases\",\n",
    "     fill = \"No. of Trips\") +\n",
    "scale_fill_gradient(labels = comma)"
   ]
  },
  {
   "cell_type": "code",
   "execution_count": 22,
   "id": "0266323d-d5cd-42cb-8dd4-cde31e06cab5",
   "metadata": {},
   "outputs": [
    {
     "name": "stderr",
     "output_type": "stream",
     "text": [
      "\u001b[1m\u001b[22m`summarise()` has grouped output by 'Base'. You can override using the\n",
      "`.groups` argument.\n"
     ]
    },
    {
     "data": {
      "image/png": "[encoded data removed]",
      "text/plain": [
       "plot without title"
      ]
     },
     "metadata": {
      "image/png": {
       "height": 420,
       "width": 420
      }
     },
     "output_type": "display_data"
    }
   ],
   "source": [
    "# 5. Heatmap by Bases and Day of the Week\n",
    "weekday_base <- data_2014 %>%\n",
    "    group_by(Base, Day_of_Week) %>%\n",
    "    summarize(Trips = n())\n",
    "\n",
    "ggplot(weekday_base, aes(x = Base, y = Day_of_Week, fill = Trips)) +\n",
    "geom_tile(color = \"white\") +\n",
    "labs(title = \"Heatmap by Bases and Day of the Week\",\n",
    "     fill = \"No. of Trips\")"
   ]
  },
  {
   "cell_type": "markdown",
   "id": "b3237d4c-fca2-4e65-86e5-47e907b47c40",
   "metadata": {},
   "source": [
    "### Creating a map visualization of rides in New York\n",
    "\n",
    "In the final section, we will visualize the rides in New York city by creating a geo-plot that will help us to visualize the rides during 2014 (Apr – Sep) and by the bases in the same period."
   ]
  },
  {
   "cell_type": "code",
   "execution_count": 23,
   "id": "480f3512-f3da-43b1-9421-8e17307559e2",
   "metadata": {},
   "outputs": [],
   "source": [
    "# Load required packages\n",
    "library(gganimate)\n",
    "library(gifski)"
   ]
  },
  {
   "cell_type": "markdown",
   "id": "61fb2bd5-aea5-48cb-919e-e9f30063b858",
   "metadata": {},
   "source": [
    "> **Step 1: The Base Map**\n",
    ">\n",
    "> The first step before we can plot our data on to a map is to create a data frame that contains the base map. The `maps` package provides data about the boundaries of many different regions. The `map_data()` function from this package is used to access this data and return a data frame that can be plotted with `ggplot2`. In the following, we assign the variable `which_state` the name of the state we want to plot, **New York** in this case. The use of the keyword `county` in the call to `map_data()` specifies that we want county-level boundaries for the indicated region."
   ]
  },
  {
   "cell_type": "code",
   "execution_count": 24,
   "id": "3220c097-c95f-440c-ad09-17d3376f1cbf",
   "metadata": {},
   "outputs": [
    {
     "data": {
      "text/html": [
       "<table class=\"dataframe\">\n",
       "<caption>A data.frame: 6 × 6</caption>\n",
       "<thead>\n",
       "\t<tr><th></th><th scope=col>long</th><th scope=col>lat</th><th scope=col>group</th><th scope=col>order</th><th scope=col>region</th><th scope=col>subregion</th></tr>\n",
       "\t<tr><th></th><th scope=col>&lt;dbl&gt;</th><th scope=col>&lt;dbl&gt;</th><th scope=col>&lt;dbl&gt;</th><th scope=col>&lt;int&gt;</th><th scope=col>&lt;chr&gt;</th><th scope=col>&lt;chr&gt;</th></tr>\n",
       "</thead>\n",
       "<tbody>\n",
       "\t<tr><th scope=row>1</th><td>-73.78550</td><td>42.46763</td><td>1</td><td>1</td><td>new york</td><td>albany</td></tr>\n",
       "\t<tr><th scope=row>2</th><td>-74.25533</td><td>42.41034</td><td>1</td><td>2</td><td>new york</td><td>albany</td></tr>\n",
       "\t<tr><th scope=row>3</th><td>-74.25533</td><td>42.41034</td><td>1</td><td>3</td><td>new york</td><td>albany</td></tr>\n",
       "\t<tr><th scope=row>4</th><td>-74.27252</td><td>42.41607</td><td>1</td><td>4</td><td>new york</td><td>albany</td></tr>\n",
       "\t<tr><th scope=row>5</th><td>-74.24960</td><td>42.46763</td><td>1</td><td>5</td><td>new york</td><td>albany</td></tr>\n",
       "\t<tr><th scope=row>6</th><td>-74.22668</td><td>42.50774</td><td>1</td><td>6</td><td>new york</td><td>albany</td></tr>\n",
       "</tbody>\n",
       "</table>\n"
      ],
      "text/latex": [
       "A data.frame: 6 × 6\n",
       "\\begin{tabular}{r|llllll}\n",
       "  & long & lat & group & order & region & subregion\\\\\n",
       "  & <dbl> & <dbl> & <dbl> & <int> & <chr> & <chr>\\\\\n",
       "\\hline\n",
       "\t1 & -73.78550 & 42.46763 & 1 & 1 & new york & albany\\\\\n",
       "\t2 & -74.25533 & 42.41034 & 1 & 2 & new york & albany\\\\\n",
       "\t3 & -74.25533 & 42.41034 & 1 & 3 & new york & albany\\\\\n",
       "\t4 & -74.27252 & 42.41607 & 1 & 4 & new york & albany\\\\\n",
       "\t5 & -74.24960 & 42.46763 & 1 & 5 & new york & albany\\\\\n",
       "\t6 & -74.22668 & 42.50774 & 1 & 6 & new york & albany\\\\\n",
       "\\end{tabular}\n"
      ],
      "text/markdown": [
       "\n",
       "A data.frame: 6 × 6\n",
       "\n",
       "| <!--/--> | long &lt;dbl&gt; | lat &lt;dbl&gt; | group &lt;dbl&gt; | order &lt;int&gt; | region &lt;chr&gt; | subregion &lt;chr&gt; |\n",
       "|---|---|---|---|---|---|---|\n",
       "| 1 | -73.78550 | 42.46763 | 1 | 1 | new york | albany |\n",
       "| 2 | -74.25533 | 42.41034 | 1 | 2 | new york | albany |\n",
       "| 3 | -74.25533 | 42.41034 | 1 | 3 | new york | albany |\n",
       "| 4 | -74.27252 | 42.41607 | 1 | 4 | new york | albany |\n",
       "| 5 | -74.24960 | 42.46763 | 1 | 5 | new york | albany |\n",
       "| 6 | -74.22668 | 42.50774 | 1 | 6 | new york | albany |\n",
       "\n"
      ],
      "text/plain": [
       "  long      lat      group order region   subregion\n",
       "1 -73.78550 42.46763 1     1     new york albany   \n",
       "2 -74.25533 42.41034 1     2     new york albany   \n",
       "3 -74.25533 42.41034 1     3     new york albany   \n",
       "4 -74.27252 42.41607 1     4     new york albany   \n",
       "5 -74.24960 42.46763 1     5     new york albany   \n",
       "6 -74.22668 42.50774 1     6     new york albany   "
      ]
     },
     "metadata": {},
     "output_type": "display_data"
    }
   ],
   "source": [
    "which_state <- \"new york\"\n",
    "county_info <- map_data(\"county\", region = which_state)\n",
    "\n",
    "head(county_info)"
   ]
  },
  {
   "cell_type": "markdown",
   "id": "37e0d51a-3b70-4ba0-b011-a9e6b77762b7",
   "metadata": {},
   "source": [
    "The above `county_info` dataset describes the shape of each county in New York by specifying the latitude and longitude of the corners of polygons that approximate the shapes. The group column indicates the county to which the corresponding set of polygon corners belongs. For example, group 1 corresponds to Albany county, group 2 is Allegany, and so on. The order column specifies the order in which the points should be connected to correctly draw each polygon. Finally, the region identifies the state and the subregion identifies the county.\n",
    "\n",
    "With this data, we can use `ggplot` to plot an outline of the state that also contains the outlines of the counties, as follows:"
   ]
  },
  {
   "cell_type": "code",
   "execution_count": 25,
   "id": "3453b569-377e-46d6-a021-22362484842c",
   "metadata": {},
   "outputs": [
    {
     "data": {
      "image/png": "[encoded data removed]",
      "text/plain": [
       "plot without title"
      ]
     },
     "metadata": {
      "image/png": {
       "height": 420,
       "width": 420
      }
     },
     "output_type": "display_data"
    }
   ],
   "source": [
    "base_map <- ggplot(county_info, aes(x = long, y = lat, group = group)) +\n",
    "geom_polygon(color = \"black\", fill = \"white\") +\n",
    "coord_quickmap() +\n",
    "theme_void()\n",
    "\n",
    "base_map"
   ]
  },
  {
   "cell_type": "markdown",
   "id": "a6ffe6db-ea12-4c47-80fa-34bd1ee57ec8",
   "metadata": {},
   "source": [
    "> **Step 2: Adding Data to the Base Map**\n",
    ">\n",
    "> Now that we have the base map, we can add our `data_2014` dataset to the map using `geom_point()`, as shown below. This function adds another layer to the base map by plotting each of the data points from our dataset as a scatter-plot using `Lon` and `Lat` as the x and y coordinates, respectively. The data points are grouped using `Month`. The importance of this grouping will become apparent later when we animate the map."
   ]
  },
  {
   "cell_type": "code",
   "execution_count": 29,
   "id": "f8a72dad-ec45-4f17-b2e0-b416ab2430fc",
   "metadata": {},
   "outputs": [
    {
     "data": {
      "image/png": "[encoded data removed]",
      "text/plain": [
       "plot without title"
      ]
     },
     "metadata": {
      "image/png": {
       "height": 420,
       "width": 420
      }
     },
     "output_type": "display_data"
    }
   ],
   "source": [
    "map_with_data <- base_map +\n",
    "geom_point(data = data_2014, aes(x = Lon, y = Lat, group = Month))\n",
    "\n",
    "map_with_data"
   ]
  },
  {
   "cell_type": "markdown",
   "id": "b90cfcd0-1ba9-4404-89da-16e0ff505c93",
   "metadata": {},
   "source": [
    "We can see that all of our data points are tightly clustered in this map. In fact, they are too tightly clustered to see the individual values. Furthermore, there are large areas of the map shown that really are not interesting with this dataset. To zoom in on the portion of the map we want to focus on, we find the range of positions of the data points using the minimum and maximum of the latitude and longitude values. We use `coord_quickmap()` to set the x and y limits on the map as follows:"
   ]
  },
  {
   "cell_type": "code",
   "execution_count": 30,
   "id": "77168c28-aecd-497d-a74e-f72346572572",
   "metadata": {},
   "outputs": [
    {
     "name": "stderr",
     "output_type": "stream",
     "text": [
      "\u001b[1m\u001b[22mCoordinate system already present. Adding new coordinate system, which will\n",
      "replace the existing one.\n"
     ]
    },
    {
     "data": {
      "image/png": "[encoded data removed]",
      "text/plain": [
       "plot without title"
      ]
     },
     "metadata": {
      "image/png": {
       "height": 420,
       "width": 420
      }
     },
     "output_type": "display_data"
    }
   ],
   "source": [
    "# Set x and y limits on the map\n",
    "min_long <- min(data_2014$Lon)\n",
    "max_long <- max(data_2014$Lon)\n",
    "min_lat <- min(data_2014$Lat)\n",
    "max_lat <- max(data_2014$Lat)\n",
    "\n",
    "map_with_data_zoom <- map_with_data +\n",
    "  coord_quickmap(xlim = c(min_long, max_long),  ylim = c(min_lat, max_lat))\n",
    "\n",
    "map_with_data_zoom"
   ]
  },
  {
   "cell_type": "markdown",
   "id": "ee805bf2-6f7d-4637-9dec-bf53e06def5d",
   "metadata": {},
   "source": [
    "Notice that when we execute this code the system produces the warning message: *Coordinate system already present. Adding new coordinate system, which will replace the existing one.* This message occurs because we called the function `coord_quickmap()` a second time. The warning can be safely ignored."
   ]
  },
  {
   "cell_type": "markdown",
   "id": "d876ab21-6064-4ea3-be35-a0afd11ee173",
   "metadata": {},
   "source": [
    "> **Step 3: Using Color to Highlight Another Data Dimension**\n",
    ">\n",
    "> By assigning `Month` to the `color` parameter in `geom_point()`, `ggplot` automatically varies the color for each dot based on the `Base`, as shown below:"
   ]
  },
  {
   "cell_type": "code",
   "execution_count": 31,
   "id": "ad02993d-6b06-40b8-b414-848a12716d38",
   "metadata": {},
   "outputs": [
    {
     "name": "stderr",
     "output_type": "stream",
     "text": [
      "\u001b[1m\u001b[22mCoordinate system already present. Adding new coordinate system, which will\n",
      "replace the existing one.\n"
     ]
    },
    {
     "data": {
      "image/png": "[encoded data removed]",
      "text/plain": [
       "plot without title"
      ]
     },
     "metadata": {
      "image/png": {
       "height": 420,
       "width": 420
      }
     },
     "output_type": "display_data"
    }
   ],
   "source": [
    "map_final <- base_map +\n",
    "geom_point(data = data_2014, aes(x = Lon, y = Lat, group = Month, color = Base)) +\n",
    "coord_quickmap(xlim = c(min_long, max_long),  ylim = c(min_lat, max_lat))\n",
    "\n",
    "map_final"
   ]
  },
  {
   "cell_type": "markdown",
   "id": "3b507c22-f25e-47f1-954b-88461abd7743",
   "metadata": {},
   "source": [
    "> **Step 4: Animating the Map**\n",
    ">\n",
    "> Animation is a powerful visualization technique to show how the data changes over time. We can add animation to the map we have produced so far using `ggplot` and `gganimate`.\n",
    ">\n",
    "> In the following code, we show how to add more layers to the `map_final` object we created above to make the dots appear sequentially as determined by the `Month` column in the `data_2014` data frame. The function `transition_states(Month)` specifies that we want to use `Month` to move from one frame of the animation to the next. To add a title to the map, we use `ggtitle` where the `closest_state` parameter is the name of the state closest to this frame, which in this case is `Month`; `frame` is the sequence number of the current frame; and `nframes` is the total number of frames in the animation. We compute the total number of Months to display, and thus the total number of frames to generate, by finding the range of Months in the data set. Finally, the function `animate()` renders the frames to display one-at-a-time."
   ]
  },
  {
   "cell_type": "code",
   "execution_count": 37,
   "id": "40d1223a-a06b-462f-a189-0be1020c9113",
   "metadata": {},
   "outputs": [],
   "source": [
    "map_with_animation <- map_final +\n",
    "    transition_states(Month) +\n",
    "    ggtitle(\"Month: {closest_state}\",\n",
    "            subtitle = \"Frame {frame} of {nframes}\")\n",
    "\n",
    "num_months <- nlevels(data_2014$Month)\n",
    "animate(map_with_animation, nframes = num_months, fps = 2)"
   ]
  },
  {
   "cell_type": "code",
   "execution_count": 38,
   "id": "898cfbf3-e4bd-4bd5-bca7-294c7f2e97ce",
   "metadata": {},
   "outputs": [],
   "source": [
    "# Save the Map to a File\n",
    "anim_save(\"map.gif\")"
   ]
  },
  {
   "cell_type": "markdown",
   "id": "3678ff87-b2b0-45bf-b05d-b39c72cf9549",
   "metadata": {},
   "source": [
    "<img src=\"map.gif\" width = \"600\" align=\"center\">"
   ]
  },
  {
   "cell_type": "markdown",
   "id": "4cc650b7-cc3d-4926-b45e-b427657f134f",
   "metadata": {},
   "source": [
    "## 6. Conclusion\n",
    "\n",
    "We made use of packages like `ggplot2` and `gganimate` which allowed us to plot various types of visualizations pertaining to several time frames of the year. With this, we could conclude how time affected customer trips. Finally, we made a geoplot of New York that provided us with the details of how various users made trips from different bases. \n",
    "\n",
    "\n",
    "-------------------------------------------------------------------------------------------\n",
    "\n",
    "*References*\n",
    "\n",
    "*https://data-flair.training/blogs/r-data-science-project-uber-data-analysis/*\n",
    "\n",
    "*https://conservancy.umn.edu/server/api/core/bitstreams/ba6ea265-c865-48d2-bcf4-e287542efd9a/content#:~:text=Now%20that%20we%20have%20a,x%20and%20y%20coordinates%2C%20respectively*"
   ]
  }
 ],
 "metadata": {
  "kernelspec": {
   "display_name": "R",
   "language": "R",
   "name": "ir"
  },
  "language_info": {
   "codemirror_mode": "r",
   "file_extension": ".r",
   "mimetype": "text/x-r-source",
   "name": "R",
   "pygments_lexer": "r",
   "version": "4.1.3"
  }
 },
 "nbformat": 4,
 "nbformat_minor": 5
}
